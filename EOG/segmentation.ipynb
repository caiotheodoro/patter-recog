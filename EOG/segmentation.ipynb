{
 "cells": [
  {
   "cell_type": "markdown",
   "metadata": {},
   "source": [
    "## Segmentação dos dados\n",
    "\n",
    "As características normalmente são extraídas sobre pequenos segmentos de tamanho fixo dos dados, não no dado como um todo. Estes pequenos segmentos são chamados de janelas. A técnica de separar os dados em janelas, recebe o nome de janela deslizante (*sliding window*) e é uma forma de segmentação de dados. Uma boa prática, é definir um passo para essa janela de forma que haja uma sopreposição de dados, para que informações da lacuna de uma janela e outra não sejam perdidas. Na imagem a seguir podemos observar um sinal EOG. Abaixo dele a representação de janelas: *W1*, *W2*, *W3*... Repare que entre as janelas, há uma sobreposição de tamanho *T*. \n",
    "\n",
    "Na base de dados que iremos implementar, cada ensaio tem duração de 5 segundos. Se utilizadas janelas com tamanho de 250 ms, resultará em 20 janelas. Ao aplicar uma sobreposição de ~128ms, ficamos com 41 janelas de ~122ms.\n",
    "\n",
    "Algumas características de EMG trabalham com o dado no domínio da frequência. Quando tais características são aplicadas, é necessário tranformar o dado para o domínio da frequência, utilizando o método de transformação de domínio `STFT`, do inglês *Short-time Fourier transform* (Transformada de Fourier de curto termo). O código divide o dado em segmentos, tanto no domínio do tempo quanto no domínio da frequência."
   ]
  },
  {
   "cell_type": "code",
   "execution_count": 27,
   "metadata": {},
   "outputs": [
    {
     "data": {
      "text/plain": [
       "((60, 4, 1000),\n",
       " array([[[ -3.1149735 ,   7.1671543 ,   1.4840266 , ...,  13.99208   ,\n",
       "            1.0122937 ,   7.448365  ],\n",
       "         [ -3.970488  ,   4.261105  ,  19.453253  , ...,  -3.7643213 ,\n",
       "           -3.1151319 ,   6.489771  ],\n",
       "         [ -1.2794845 ,  10.364174  , -25.136284  , ...,  -9.842807  ,\n",
       "           17.9597    ,  12.99544   ],\n",
       "         [-18.772863  ,  -3.4441104 ,   4.2517533 , ..., -15.298768  ,\n",
       "          -19.565794  ,   6.030257  ]],\n",
       " \n",
       "        [[ -9.4167795 ,  -4.7108417 ,   6.5704136 , ..., -16.155935  ,\n",
       "          -17.585062  , -20.249805  ],\n",
       "         [ -2.6972098 , -10.928801  ,  13.520526  , ...,   4.6124363 ,\n",
       "            3.2898815 ,  -5.789578  ],\n",
       "         [ -9.5732565 ,   7.6940613 ,  -1.3763493 , ...,   1.9816842 ,\n",
       "            1.7398272 ,   2.6637778 ],\n",
       "         [-12.282049  ,  21.207176  ,  13.850941  , ...,  11.342485  ,\n",
       "            0.41475245,   1.109602  ]],\n",
       " \n",
       "        [[ -2.9517212 ,  11.283921  ,   1.0081706 , ...,   7.887978  ,\n",
       "            8.043406  ,   4.914042  ],\n",
       "         [ 11.132097  ,  -9.535646  ,   5.707514  , ...,   6.8248367 ,\n",
       "           -5.343439  , -20.238123  ],\n",
       "         [ 10.104071  ,  -4.032714  ,  17.62989   , ...,   8.700254  ,\n",
       "           -7.588133  ,   4.618614  ],\n",
       "         [ 10.451747  ,   8.703102  ,  12.880902  , ...,  14.873694  ,\n",
       "            2.5973346 ,  24.999523  ]],\n",
       " \n",
       "        ...,\n",
       " \n",
       "        [[-26.742123  ,  -9.140454  ,  22.649149  , ..., -18.498291  ,\n",
       "            3.8330584 ,  -0.4508733 ],\n",
       "         [-16.97436   ,  17.454397  , -13.224935  , ...,  -4.513352  ,\n",
       "           -3.744834  ,  -0.3979974 ],\n",
       "         [-14.020376  ,   3.9471507 ,  -2.0558908 , ...,  -4.033813  ,\n",
       "            3.0134788 ,  -2.6702857 ],\n",
       "         [  9.053587  ,  -3.0329416 ,   1.304198  , ...,  11.796699  ,\n",
       "          -10.834185  ,   4.299279  ]],\n",
       " \n",
       "        [[  4.299162  ,  10.713947  ,  11.4156685 , ..., -20.836023  ,\n",
       "            6.33045   ,  -5.674409  ],\n",
       "         [  7.0283065 , -12.534417  ,  -3.0933225 , ..., -12.885375  ,\n",
       "            6.157645  ,   0.9639094 ],\n",
       "         [ 14.238844  ,  19.739563  ,  -1.7692541 , ...,   5.105894  ,\n",
       "           -6.367174  ,  15.28351   ],\n",
       "         [  8.948187  ,   7.4986706 ,   5.3743815 , ...,  -2.252754  ,\n",
       "           -3.8582733 ,  -0.39555392]],\n",
       " \n",
       "        [[  5.729856  ,   1.969756  ,  10.348683  , ...,  -0.83655524,\n",
       "           -6.8051834 ,   5.372989  ],\n",
       "         [ -2.3973565 ,   9.283148  , -12.178623  , ...,  -8.057558  ,\n",
       "           -6.6061606 , -12.180506  ],\n",
       "         [  3.5852957 ,   8.962076  , -14.706823  , ...,  -0.93232954,\n",
       "          -14.357916  ,   9.573778  ],\n",
       "         [ -5.5285664 ,   3.379557  ,   4.3437314 , ...,  10.214357  ,\n",
       "           10.40092   , -18.72023   ]]], dtype=float32))"
      ]
     },
     "execution_count": 27,
     "metadata": {},
     "output_type": "execute_result"
    }
   ],
   "source": [
    "# Criando dados fictícios\n",
    "\n",
    "import numpy as np\n",
    "\n",
    "shape = (60, 4, 1000)\n",
    "data = np.random.normal(loc=0, scale=10, size=shape).astype(np.float32)\n",
    "data.shape, data"
   ]
  },
  {
   "cell_type": "code",
   "execution_count": 26,
   "metadata": {},
   "outputs": [
    {
     "name": "stdout",
     "output_type": "stream",
     "text": [
      " (28, 1000, 4)\n"
     ]
    },
    {
     "name": "stderr",
     "output_type": "stream",
     "text": [
      "C:\\Users\\caio-\\AppData\\Local\\Packages\\PythonSoftwareFoundation.Python.3.10_qbz5n2kfra8p0\\LocalCache\\local-packages\\Python310\\site-packages\\scipy\\signal\\_spectral_py.py:2014: UserWarning: nperseg = 64 is greater than input length  = 4, using nperseg = 4\n",
      "  warnings.warn('nperseg = {0:d} is greater than input length '\n"
     ]
    },
    {
     "ename": "ValueError",
     "evalue": "noverlap must be less than nperseg.",
     "output_type": "error",
     "traceback": [
      "\u001b[1;31m---------------------------------------------------------------------------\u001b[0m",
      "\u001b[1;31mValueError\u001b[0m                                Traceback (most recent call last)",
      "\u001b[1;32mc:\\Users\\caio-\\Documents\\facul\\patter-recog\\EOG\\segmentation.ipynb Célula 3\u001b[0m line \u001b[0;36m1\n\u001b[0;32m     <a href='vscode-notebook-cell:/c%3A/Users/caio-/Documents/facul/patter-recog/EOG/segmentation.ipynb#W2sZmlsZQ%3D%3D?line=10'>11</a>\u001b[0m chunks_time \u001b[39m=\u001b[39m np\u001b[39m.\u001b[39marray([data[:, k:(k \u001b[39m+\u001b[39m segment), :]\u001b[39m.\u001b[39mtranspose(\u001b[39m0\u001b[39m, \u001b[39m2\u001b[39m, \u001b[39m1\u001b[39m) \u001b[39mfor\u001b[39;00m k \u001b[39min\u001b[39;00m ids])\n\u001b[0;32m     <a href='vscode-notebook-cell:/c%3A/Users/caio-/Documents/facul/patter-recog/EOG/segmentation.ipynb#W2sZmlsZQ%3D%3D?line=12'>13</a>\u001b[0m \u001b[39m# Janelas do dado no domínio da frequência\u001b[39;00m\n\u001b[1;32m---> <a href='vscode-notebook-cell:/c%3A/Users/caio-/Documents/facul/patter-recog/EOG/segmentation.ipynb#W2sZmlsZQ%3D%3D?line=13'>14</a>\u001b[0m _, _, chunks_freq \u001b[39m=\u001b[39m stft(data, fs\u001b[39m=\u001b[39;49m\u001b[39m200\u001b[39;49m, nperseg\u001b[39m=\u001b[39;49msegment, noverlap\u001b[39m=\u001b[39;49mstep\u001b[39m-\u001b[39;49m\u001b[39m1\u001b[39;49m)  \u001b[39m# Adjusted noverlap\u001b[39;00m\n\u001b[0;32m     <a href='vscode-notebook-cell:/c%3A/Users/caio-/Documents/facul/patter-recog/EOG/segmentation.ipynb#W2sZmlsZQ%3D%3D?line=14'>15</a>\u001b[0m chunks_freq \u001b[39m=\u001b[39m chunks_freq\u001b[39m.\u001b[39mtranspose(\u001b[39m0\u001b[39m, \u001b[39m2\u001b[39m, \u001b[39m3\u001b[39m, \u001b[39m1\u001b[39m)\n\u001b[0;32m     <a href='vscode-notebook-cell:/c%3A/Users/caio-/Documents/facul/patter-recog/EOG/segmentation.ipynb#W2sZmlsZQ%3D%3D?line=16'>17</a>\u001b[0m \u001b[39mprint\u001b[39m(\u001b[39m'\u001b[39m\u001b[39mFormato (shape) dos dados depois da divisão de janelas\u001b[39m\u001b[39m'\u001b[39m)\n",
      "File \u001b[1;32m~\\AppData\\Local\\Packages\\PythonSoftwareFoundation.Python.3.10_qbz5n2kfra8p0\\LocalCache\\local-packages\\Python310\\site-packages\\scipy\\signal\\_spectral_py.py:1211\u001b[0m, in \u001b[0;36mstft\u001b[1;34m(x, fs, window, nperseg, noverlap, nfft, detrend, return_onesided, boundary, padded, axis, scaling)\u001b[0m\n\u001b[0;32m   1208\u001b[0m \u001b[39melif\u001b[39;00m scaling \u001b[39m!=\u001b[39m \u001b[39m'\u001b[39m\u001b[39mspectrum\u001b[39m\u001b[39m'\u001b[39m:\n\u001b[0;32m   1209\u001b[0m     \u001b[39mraise\u001b[39;00m \u001b[39mValueError\u001b[39;00m(\u001b[39mf\u001b[39m\u001b[39m\"\u001b[39m\u001b[39mParameter \u001b[39m\u001b[39m{\u001b[39;00mscaling\u001b[39m=}\u001b[39;00m\u001b[39m not in [\u001b[39m\u001b[39m'\u001b[39m\u001b[39mspectrum\u001b[39m\u001b[39m'\u001b[39m\u001b[39m, \u001b[39m\u001b[39m'\u001b[39m\u001b[39mpsd\u001b[39m\u001b[39m'\u001b[39m\u001b[39m]!\u001b[39m\u001b[39m\"\u001b[39m)\n\u001b[1;32m-> 1211\u001b[0m freqs, time, Zxx \u001b[39m=\u001b[39m _spectral_helper(x, x, fs, window, nperseg, noverlap,\n\u001b[0;32m   1212\u001b[0m                                     nfft, detrend, return_onesided,\n\u001b[0;32m   1213\u001b[0m                                     scaling\u001b[39m=\u001b[39;49mscaling, axis\u001b[39m=\u001b[39;49maxis,\n\u001b[0;32m   1214\u001b[0m                                     mode\u001b[39m=\u001b[39;49m\u001b[39m'\u001b[39;49m\u001b[39mstft\u001b[39;49m\u001b[39m'\u001b[39;49m, boundary\u001b[39m=\u001b[39;49mboundary,\n\u001b[0;32m   1215\u001b[0m                                     padded\u001b[39m=\u001b[39;49mpadded)\n\u001b[0;32m   1217\u001b[0m \u001b[39mreturn\u001b[39;00m freqs, time, Zxx\n",
      "File \u001b[1;32m~\\AppData\\Local\\Packages\\PythonSoftwareFoundation.Python.3.10_qbz5n2kfra8p0\\LocalCache\\local-packages\\Python310\\site-packages\\scipy\\signal\\_spectral_py.py:1809\u001b[0m, in \u001b[0;36m_spectral_helper\u001b[1;34m(x, y, fs, window, nperseg, noverlap, nfft, detrend, return_onesided, scaling, axis, mode, boundary, padded)\u001b[0m\n\u001b[0;32m   1807\u001b[0m     noverlap \u001b[39m=\u001b[39m \u001b[39mint\u001b[39m(noverlap)\n\u001b[0;32m   1808\u001b[0m \u001b[39mif\u001b[39;00m noverlap \u001b[39m>\u001b[39m\u001b[39m=\u001b[39m nperseg:\n\u001b[1;32m-> 1809\u001b[0m     \u001b[39mraise\u001b[39;00m \u001b[39mValueError\u001b[39;00m(\u001b[39m'\u001b[39m\u001b[39mnoverlap must be less than nperseg.\u001b[39m\u001b[39m'\u001b[39m)\n\u001b[0;32m   1810\u001b[0m nstep \u001b[39m=\u001b[39m nperseg \u001b[39m-\u001b[39m noverlap\n\u001b[0;32m   1812\u001b[0m \u001b[39m# Padding occurs after boundary extension, so that the extended signal ends\u001b[39;00m\n\u001b[0;32m   1813\u001b[0m \u001b[39m# in zeros, instead of introducing an impulse at the end.\u001b[39;00m\n\u001b[0;32m   1814\u001b[0m \u001b[39m# I.e. if x = [..., 3, 2]\u001b[39;00m\n\u001b[0;32m   1815\u001b[0m \u001b[39m# extend then pad -> [..., 3, 2, 2, 3, 0, 0, 0]\u001b[39;00m\n\u001b[0;32m   1816\u001b[0m \u001b[39m# pad then extend -> [..., 3, 2, 0, 0, 0, 2, 3]\u001b[39;00m\n",
      "\u001b[1;31mValueError\u001b[0m: noverlap must be less than nperseg."
     ]
    }
   ],
   "source": [
    "from scipy.signal import stft\n",
    "\n",
    "step = 29\n",
    "segment = 64\n",
    "print('', data.shape)\n",
    "\n",
    "n_win = int((data.shape[1] - segment) / step) + 1  # Adjusted for the second dimension\n",
    "ids = np.arange(n_win) * step\n",
    "\n",
    "# Janelas do dado no domínio do tempo\n",
    "chunks_time = np.array([data[:, k:(k + segment), :].transpose(0, 2, 1) for k in ids])\n",
    "\n",
    "# Janelas do dado no domínio da frequência\n",
    "_, _, chunks_freq = stft(data, fs=200, nperseg=segment, noverlap=step-1)  # Adjusted noverlap\n",
    "chunks_freq = chunks_freq.transpose(0, 2, 3, 1)\n",
    "\n",
    "print('Formato (shape) dos dados depois da divisão de janelas')\n",
    "print(f'Domínio do tempo: {chunks_time.shape} - (classes+ensaios, canais, janelas, linhas)')\n",
    "print(f'Domínio da frequência:  {chunks_freq.shape} - (classes+ensaios, canais, janelas, linhas)')"
   ]
  },
  {
   "cell_type": "markdown",
   "metadata": {},
   "source": [
    "*Desafio*: Implementar um algoritmo para encontrar a mesma quantidade de janelas em ambos os domínios (tempo e frequência)."
   ]
  },
  {
   "cell_type": "code",
   "execution_count": null,
   "metadata": {},
   "outputs": [],
   "source": []
  },
  {
   "cell_type": "markdown",
   "metadata": {},
   "source": []
  }
 ],
 "metadata": {
  "kernelspec": {
   "display_name": "venv",
   "language": "python",
   "name": "python3"
  },
  "language_info": {
   "codemirror_mode": {
    "name": "ipython",
    "version": 3
   },
   "file_extension": ".py",
   "mimetype": "text/x-python",
   "name": "python",
   "nbconvert_exporter": "python",
   "pygments_lexer": "ipython3",
   "version": "3.10.11"
  }
 },
 "nbformat": 4,
 "nbformat_minor": 2
}
