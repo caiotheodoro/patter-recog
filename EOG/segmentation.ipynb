{
 "cells": [
  {
   "cell_type": "markdown",
   "metadata": {},
   "source": [
    "## Segmentação dos dados\n",
    "\n",
    "As características normalmente são extraídas sobre pequenos segmentos de tamanho fixo dos dados, não no dado como um todo. Estes pequenos segmentos são chamados de janelas. A técnica de separar os dados em janelas, recebe o nome de janela deslizante (*sliding window*) e é uma forma de segmentação de dados. Uma boa prática, é definir um passo para essa janela de forma que haja uma sopreposição de dados, para que informações da lacuna de uma janela e outra não sejam perdidas. Na imagem a seguir podemos observar um sinal EOG. Abaixo dele a representação de janelas: *W1*, *W2*, *W3*... Repare que entre as janelas, há uma sobreposição de tamanho *T*. \n",
    "\n",
    "Na base de dados que iremos implementar, cada ensaio tem duração de 5 segundos. Se utilizadas janelas com tamanho de 250 ms, resultará em 20 janelas. Ao aplicar uma sobreposição de ~128ms, ficamos com 41 janelas de ~122ms.\n",
    "\n",
    "Algumas características de EMG trabalham com o dado no domínio da frequência. Quando tais características são aplicadas, é necessário tranformar o dado para o domínio da frequência, utilizando o método de transformação de domínio `STFT`, do inglês *Short-time Fourier transform* (Transformada de Fourier de curto termo). O código divide o dado em segmentos, tanto no domínio do tempo quanto no domínio da frequência."
   ]
  },
  {
   "cell_type": "code",
   "execution_count": 1,
   "metadata": {},
   "outputs": [
    {
     "data": {
      "text/plain": [
       "((60, 4, 1000),\n",
       " array([[[ 11.508245  , -13.739167  ,   6.941915  , ...,  23.426107  ,\n",
       "            4.296021  ,  -5.3623176 ],\n",
       "         [  6.769362  ,  22.942202  ,   0.38446867, ...,   6.3696885 ,\n",
       "           -1.2877166 ,  -7.1020417 ],\n",
       "         [ 10.663297  ,   5.4280615 ,   1.4339345 , ...,  12.7422495 ,\n",
       "          -11.26237   ,  -2.7682688 ],\n",
       "         [-21.912968  ,  -7.0221024 ,   5.093717  , ...,  20.832804  ,\n",
       "            5.738126  ,  11.265911  ]],\n",
       " \n",
       "        [[ -7.853088  ,  -1.9523042 ,   6.8395925 , ...,  26.430939  ,\n",
       "          -18.71119   ,  13.286494  ],\n",
       "         [-14.382093  ,   0.92874885,  19.190777  , ...,   5.9452696 ,\n",
       "           -2.5280483 ,  -1.4467391 ],\n",
       "         [  7.2778344 ,   3.7659206 , -15.509776  , ...,   6.848239  ,\n",
       "           -4.067806  ,   4.631517  ],\n",
       "         [-10.477037  , -10.675446  ,  -2.934232  , ...,   3.820731  ,\n",
       "           13.32923   ,   0.8785722 ]],\n",
       " \n",
       "        [[ -6.6344194 ,  13.651512  ,  -3.7038217 , ...,  11.2400055 ,\n",
       "          -11.630405  ,   7.7880793 ],\n",
       "         [ -6.956708  ,   2.6795392 ,  -7.2092657 , ..., -19.208935  ,\n",
       "            7.518266  ,  -2.0945857 ],\n",
       "         [ -0.40305305, -11.637854  ,  -1.9767228 , ...,   9.497053  ,\n",
       "           -0.18650979,  25.93456   ],\n",
       "         [  2.8045468 ,  15.195751  ,  -4.9575286 , ...,   9.170896  ,\n",
       "           -5.469891  ,  -8.621441  ]],\n",
       " \n",
       "        ...,\n",
       " \n",
       "        [[ -1.1113924 ,  18.206764  ,   7.058686  , ..., -14.503283  ,\n",
       "           -1.2333554 ,  -1.438192  ],\n",
       "         [ -9.475363  ,  14.170978  ,   6.826553  , ...,  -7.8632135 ,\n",
       "           -1.3303603 , -16.814713  ],\n",
       "         [-11.342037  ,   6.407399  ,  13.331561  , ...,  -1.8325136 ,\n",
       "            2.5692635 ,  -3.4606946 ],\n",
       "         [  2.4033165 ,  -5.362779  , -18.78866   , ...,  20.218405  ,\n",
       "            5.3698444 ,   7.8850675 ]],\n",
       " \n",
       "        [[ -6.247786  ,  -6.8325367 ,  -8.67492   , ...,  28.603767  ,\n",
       "           -6.564495  ,  -7.8602257 ],\n",
       "         [ -5.753463  ,   1.6155223 , -10.21257   , ...,   2.0512576 ,\n",
       "            0.559411  ,   3.6668334 ],\n",
       "         [ -2.5477905 , -14.912862  ,  -5.048102  , ...,   5.2377443 ,\n",
       "          -19.285555  , -21.804678  ],\n",
       "         [  4.4068317 ,  17.058508  , -15.6448965 , ...,  -1.3100656 ,\n",
       "            5.5121193 ,   1.7457737 ]],\n",
       " \n",
       "        [[ -3.0207381 , -17.126936  ,   1.5105993 , ...,   9.565782  ,\n",
       "          -15.245779  ,  -5.619449  ],\n",
       "         [ 14.15712   ,   9.844846  ,   0.5061071 , ..., -21.926666  ,\n",
       "           -1.3584102 ,   6.6025186 ],\n",
       "         [ -8.940926  ,   9.099758  ,  16.067558  , ...,  -5.9105444 ,\n",
       "            8.596264  ,   6.6164703 ],\n",
       "         [  8.434666  , -11.397927  ,   0.80993015, ...,  -0.7689193 ,\n",
       "           19.174704  ,  -7.1045957 ]]], dtype=float32))"
      ]
     },
     "execution_count": 1,
     "metadata": {},
     "output_type": "execute_result"
    }
   ],
   "source": [
    "# Criando dados fictícios\n",
    "\n",
    "import numpy as np\n",
    "\n",
    "shape = (60, 4, 1000)\n",
    "data = np.random.normal(loc=0, scale=10, size=shape).astype(np.float32)\n",
    "data.shape, data"
   ]
  },
  {
   "cell_type": "code",
   "execution_count": 2,
   "metadata": {},
   "outputs": [
    {
     "name": "stdout",
     "output_type": "stream",
     "text": [
      " (60, 4, 1000)\n",
      "Formato (shape) dos dados depois da divisão de janelas\n",
      "Domínio do tempo: (0,) - (classes+ensaios, canais, janelas, linhas)\n",
      "Domínio da frequência:  (60, 33, 29, 4) - (classes+ensaios, canais, janelas, linhas)\n"
     ]
    }
   ],
   "source": [
    "from scipy.signal import stft\n",
    "\n",
    "step = 29\n",
    "segment = 64\n",
    "print('', data.shape)\n",
    "\n",
    "n_win = int((data.shape[1] - segment) / step) + 1  # Adjusted for the second dimension\n",
    "ids = np.arange(n_win) * step\n",
    "\n",
    "# janelas do dado no domínio do tempo\n",
    "chunks_time = np.array([data[:, k:(k + segment), :].transpose(0, 2, 1) for k in ids])\n",
    "\n",
    "# janelas do dado no domínio da frequência\n",
    "_, _, chunks_freq = stft(data, fs=200, nperseg=segment, noverlap=step-1)  # Adjusted noverlap\n",
    "chunks_freq = chunks_freq.transpose(0, 2, 3, 1)\n",
    "\n",
    "print('Formato (shape) dos dados depois da divisão de janelas')\n",
    "print(f'Domínio do tempo: {chunks_time.shape} - (classes+ensaios, canais, janelas, linhas)')\n",
    "print(f'Domínio da frequência:  {chunks_freq.shape} - (classes+ensaios, canais, janelas, linhas)')"
   ]
  },
  {
   "cell_type": "markdown",
   "metadata": {},
   "source": [
    "*Desafio*: Implementar um algoritmo para encontrar a mesma quantidade de janelas em ambos os domínios (tempo e frequência)."
   ]
  },
  {
   "cell_type": "code",
   "execution_count": null,
   "metadata": {},
   "outputs": [],
   "source": []
  },
  {
   "cell_type": "markdown",
   "metadata": {},
   "source": []
  }
 ],
 "metadata": {
  "kernelspec": {
   "display_name": "venv",
   "language": "python",
   "name": "python3"
  },
  "language_info": {
   "codemirror_mode": {
    "name": "ipython",
    "version": 3
   },
   "file_extension": ".py",
   "mimetype": "text/x-python",
   "name": "python",
   "nbconvert_exporter": "python",
   "pygments_lexer": "ipython3",
   "version": "3.11.6"
  }
 },
 "nbformat": 4,
 "nbformat_minor": 2
}
