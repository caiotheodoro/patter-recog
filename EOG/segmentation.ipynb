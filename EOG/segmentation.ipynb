{
 "cells": [
  {
   "cell_type": "markdown",
   "metadata": {},
   "source": [
    "## Segmentação dos dados\n",
    "\n",
    "As características normalmente são extraídas sobre pequenos segmentos de tamanho fixo dos dados, não no dado como um todo. Estes pequenos segmentos são chamados de janelas. A técnica de separar os dados em janelas, recebe o nome de janela deslizante (*sliding window*) e é uma forma de segmentação de dados. Uma boa prática, é definir um passo para essa janela de forma que haja uma sopreposição de dados, para que informações da lacuna de uma janela e outra não sejam perdidas. Na imagem a seguir podemos observar um sinal EOG. Abaixo dele a representação de janelas: *W1*, *W2*, *W3*... Repare que entre as janelas, há uma sobreposição de tamanho *T*. \n",
    "\n",
    "Na base de dados que iremos implementar, cada ensaio tem duração de 5 segundos. Se utilizadas janelas com tamanho de 250 ms, resultará em 20 janelas. Ao aplicar uma sobreposição de ~128ms, ficamos com 41 janelas de ~122ms.\n",
    "\n",
    "Algumas características de EMG trabalham com o dado no domínio da frequência. Quando tais características são aplicadas, é necessário tranformar o dado para o domínio da frequência, utilizando o método de transformação de domínio `STFT`, do inglês *Short-time Fourier transform* (Transformada de Fourier de curto termo). O código divide o dado em segmentos, tanto no domínio do tempo quanto no domínio da frequência."
   ]
  },
  {
   "cell_type": "code",
   "execution_count": 7,
   "metadata": {},
   "outputs": [
    {
     "data": {
      "text/plain": [
       "((60, 4, 1000),\n",
       " array([[[-10.935548  ,   3.9000723 ,  -9.886959  , ...,  11.973424  ,\n",
       "           12.83266   , -21.400776  ],\n",
       "         [ -5.68035   ,   0.72187126,  10.169985  , ...,   6.2162094 ,\n",
       "           -9.350651  ,  -6.3647695 ],\n",
       "         [ 10.466743  , -23.645386  ,  15.096241  , ...,  12.950799  ,\n",
       "           13.546511  ,  11.009279  ],\n",
       "         [  3.3458476 ,  -4.0723443 ,  16.848394  , ...,   7.5587535 ,\n",
       "          -11.184831  , -23.363348  ]],\n",
       " \n",
       "        [[ -6.3337755 ,  -7.6228714 ,  18.276823  , ...,   5.344354  ,\n",
       "          -14.598693  ,   6.400412  ],\n",
       "         [-11.915309  ,   5.650533  ,   3.142348  , ...,  -0.7373454 ,\n",
       "          -20.239872  ,   6.2214127 ],\n",
       "         [ -2.0500288 ,   0.80564815,   3.1092582 , ...,  -4.3498645 ,\n",
       "           -7.9891024 ,  -7.5919075 ],\n",
       "         [ -4.9574685 ,  -7.567727  ,  12.659855  , ...,  -6.941405  ,\n",
       "            3.987537  ,  -6.6128716 ]],\n",
       " \n",
       "        [[  3.2462327 ,   9.585448  ,  -0.24457598, ...,  12.908168  ,\n",
       "            0.09098721,  -8.175398  ],\n",
       "         [  1.0420043 ,  -3.5425906 ,  -5.6092253 , ...,  -6.415623  ,\n",
       "          -11.883867  , -13.0961275 ],\n",
       "         [  3.9478698 ,  -0.16811025,  -4.8194714 , ...,  -3.9439507 ,\n",
       "           -2.0444582 ,   3.4438922 ],\n",
       "         [ 28.016237  ,   8.063192  ,  10.010051  , ...,   1.6643863 ,\n",
       "           -4.9690766 ,  12.576623  ]],\n",
       " \n",
       "        ...,\n",
       " \n",
       "        [[ -5.581861  ,   3.1400585 ,  -1.8797839 , ...,   8.861986  ,\n",
       "          -20.371294  ,  -2.0238025 ],\n",
       "         [ 16.33635   ,  12.316666  ,   0.6314138 , ...,  -0.29465422,\n",
       "           -1.099399  ,  -2.7431965 ],\n",
       "         [  6.019924  ,  27.716503  ,   0.7669447 , ..., -11.568489  ,\n",
       "          -10.7536    ,  -8.009934  ],\n",
       "         [  5.4996676 , -12.112856  ,  10.970733  , ...,   0.5366445 ,\n",
       "           20.016768  ,   5.3086457 ]],\n",
       " \n",
       "        [[  8.623755  ,   0.64472914,   7.4460073 , ...,  13.241402  ,\n",
       "           20.740385  ,   1.5510846 ],\n",
       "         [ 16.72083   ,  -4.222618  ,   8.430234  , ..., -25.275333  ,\n",
       "           28.142056  ,   0.62742734],\n",
       "         [ -4.1215096 , -11.126279  ,  18.12562   , ...,  -3.1498554 ,\n",
       "            5.119899  ,  10.95146   ],\n",
       "         [-14.347741  ,  -0.9908455 ,  -6.561746  , ...,  -3.0788028 ,\n",
       "            6.6755567 ,  18.820574  ]],\n",
       " \n",
       "        [[ -7.5720334 ,   5.0075593 ,  -6.390333  , ...,  -9.349343  ,\n",
       "           -1.3645822 ,  -5.717774  ],\n",
       "         [ -3.3359854 ,  -6.9817677 ,  15.373266  , ...,  -2.8614366 ,\n",
       "            5.0099783 ,  19.985563  ],\n",
       "         [  5.0603056 ,  -1.3316424 ,   7.6972623 , ...,  -9.400535  ,\n",
       "            7.7123466 ,   3.7320502 ],\n",
       "         [ 12.878882  , -13.41997   ,   2.628997  , ...,  13.559862  ,\n",
       "            6.1559467 ,  -6.828587  ]]], dtype=float32))"
      ]
     },
     "execution_count": 7,
     "metadata": {},
     "output_type": "execute_result"
    }
   ],
   "source": [
    "# Criando dados fictícios\n",
    "\n",
    "import numpy as np\n",
    "\n",
    "shape = (60, 4, 1000)\n",
    "data = np.random.normal(loc=0, scale=10, size=shape).astype(np.float32)\n",
    "data.shape, data"
   ]
  },
  {
   "cell_type": "code",
   "execution_count": 8,
   "metadata": {},
   "outputs": [
    {
     "name": "stdout",
     "output_type": "stream",
     "text": [
      " (60, 4, 1000)\n",
      "Formato (shape) dos dados depois da divisão de janelas\n",
      "Domínio do tempo: (0,) - (classes+ensaios, canais, janelas, linhas)\n",
      "Domínio da frequência:  (60, 33, 29, 4) - (classes+ensaios, canais, janelas, linhas)\n"
     ]
    }
   ],
   "source": [
    "from scipy.signal import stft\n",
    "\n",
    "step = 29\n",
    "segment = 64\n",
    "print('', data.shape)\n",
    "\n",
    "n_win = int((data.shape[1] - segment) / step) + 1  # Adjusted for the second dimension\n",
    "ids = np.arange(n_win) * step\n",
    "\n",
    "# janelas do dado no domínio do tempo\n",
    "chunks_time = np.array([data[:, k:(k + segment), :].transpose(0, 2, 1) for k in ids])\n",
    "\n",
    "# janelas do dado no domínio da frequência\n",
    "_, _, chunks_freq = stft(data, fs=200, nperseg=segment, noverlap=step-1)  # Adjusted noverlap\n",
    "chunks_freq = chunks_freq.transpose(0, 2, 3, 1)\n",
    "\n",
    "print('Formato (shape) dos dados depois da divisão de janelas')\n",
    "print(f'Domínio do tempo: {chunks_time.shape} - (classes+ensaios, canais, janelas, linhas)')\n",
    "print(f'Domínio da frequência:  {chunks_freq.shape} - (classes+ensaios, canais, janelas, linhas)')"
   ]
  },
  {
   "cell_type": "markdown",
   "metadata": {},
   "source": [
    "*Desafio*: Implementar um algoritmo para encontrar a mesma quantidade de janelas em ambos os domínios (tempo e frequência)."
   ]
  },
  {
   "cell_type": "code",
   "execution_count": null,
   "metadata": {},
   "outputs": [],
   "source": []
  },
  {
   "cell_type": "markdown",
   "metadata": {},
   "source": []
  }
 ],
 "metadata": {
  "kernelspec": {
   "display_name": "venv",
   "language": "python",
   "name": "python3"
  },
  "language_info": {
   "codemirror_mode": {
    "name": "ipython",
    "version": 3
   },
   "file_extension": ".py",
   "mimetype": "text/x-python",
   "name": "python",
   "nbconvert_exporter": "python",
   "pygments_lexer": "ipython3",
   "version": "3.10.11"
  }
 },
 "nbformat": 4,
 "nbformat_minor": 2
}
