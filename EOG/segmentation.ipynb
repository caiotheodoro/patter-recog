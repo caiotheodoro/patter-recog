{
 "cells": [
  {
   "cell_type": "markdown",
   "metadata": {},
   "source": [
    "## Segmentação dos dados\n",
    "\n",
    "As características normalmente são extraídas sobre pequenos segmentos de tamanho fixo dos dados, não no dado como um todo. Estes pequenos segmentos são chamados de janelas. A técnica de separar os dados em janelas, recebe o nome de janela deslizante (*sliding window*) e é uma forma de segmentação de dados. Uma boa prática, é definir um passo para essa janela de forma que haja uma sopreposição de dados, para que informações da lacuna de uma janela e outra não sejam perdidas. Na imagem a seguir podemos observar um sinal EOG. Abaixo dele a representação de janelas: *W1*, *W2*, *W3*... Repare que entre as janelas, há uma sobreposição de tamanho *T*. \n",
    "\n",
    "Na base de dados que iremos implementar, cada ensaio tem duração de 5 segundos. Se utilizadas janelas com tamanho de 250 ms, resultará em 20 janelas. Ao aplicar uma sobreposição de ~128ms, ficamos com 41 janelas de ~122ms.\n",
    "\n",
    "Algumas características de EMG trabalham com o dado no domínio da frequência. Quando tais características são aplicadas, é necessário tranformar o dado para o domínio da frequência, utilizando o método de transformação de domínio `STFT`, do inglês *Short-time Fourier transform* (Transformada de Fourier de curto termo). O código divide o dado em segmentos, tanto no domínio do tempo quanto no domínio da frequência."
   ]
  },
  {
   "cell_type": "code",
   "execution_count": 4,
   "metadata": {
    "ExecuteTime": {
     "end_time": "2023-12-11T17:30:06.717631794Z",
     "start_time": "2023-12-11T17:30:06.700309101Z"
    }
   },
   "outputs": [
    {
     "data": {
      "text/plain": "((28, 1000, 4),\n array([[[-196.79167175,  -52.67275238,    0.        ,    0.        ],\n         [-220.41287231,  -62.84153748,    0.        ,    0.        ],\n         [-214.33554077,  -57.58324051,    0.        ,    0.        ],\n         ...,\n         [-197.27784729, -356.38815308,    0.        ,    0.        ],\n         [-192.95826721, -354.00958252,    0.        ,    0.        ],\n         [-189.22210693, -344.97024536,    0.        ,    0.        ]],\n \n        [[-158.54745483,  -55.20092392,    0.        ,    0.        ],\n         [-146.16090393,  -48.95154953,    0.        ,    0.        ],\n         [-165.29797363,  -54.07895279,    0.        ,    0.        ],\n         ...,\n         [-249.46253967,   57.25973892,    0.        ,    0.        ],\n         [-238.3961792 ,   59.35782242,    0.        ,    0.        ],\n         [-254.63856506,   54.95970154,    0.        ,    0.        ]],\n \n        [[-168.12159729,   -9.57040405,    0.        ,    0.        ],\n         [-176.80938721,  -14.4472332 ,    0.        ,    0.        ],\n         [-171.39775085,  -18.6434021 ,    0.        ,    0.        ],\n         ...,\n         [ -61.74200821,  -23.53893089,    0.        ,    0.        ],\n         [ -83.40351105,  -32.29029465,    0.        ,    0.        ],\n         [ -82.48723602,  -40.83970642,    0.        ,    0.        ]],\n \n        ...,\n \n        [[-200.24546814,  -54.77083588,    0.        ,    0.        ],\n         [-191.34449768,  -53.39829254,    0.        ,    0.        ],\n         [-206.22557068,  -64.76758575,    0.        ,    0.        ],\n         ...,\n         [-261.15722656, -150.46739197,    0.        ,    0.        ],\n         [-250.90240479, -144.62193298,    0.        ,    0.        ],\n         [-265.24865723, -149.06867981,    0.        ,    0.        ]],\n \n        [[-199.87895203,  -56.10971832,    0.        ,    0.        ],\n         [-203.04290771,  -60.93418884,    0.        ,    0.        ],\n         [-204.7258606 ,  -66.81705475,    0.        ,    0.        ],\n         ...,\n         [-156.56716919,  -40.2974205 ,    0.        ,    0.        ],\n         [-160.08267212,  -36.77443695,    0.        ,    0.        ],\n         [-163.32516479,  -46.83102798,    0.        ,    0.        ]],\n \n        [[-196.07173157,  -48.78138351,    0.        ,    0.        ],\n         [-181.49734497,  -44.77595139,    0.        ,    0.        ],\n         [-176.70652771,  -43.55674362,    0.        ,    0.        ],\n         ...,\n         [-299.44442749,  -29.48163223,    0.        ,    0.        ],\n         [-281.04788208,  -29.09268188,    0.        ,    0.        ],\n         [-279.54443359,  -33.44218445,    0.        ,    0.        ]]]))"
     },
     "execution_count": 4,
     "metadata": {},
     "output_type": "execute_result"
    }
   ],
   "source": [
    "# Criando dados fictícios\n",
    "\n",
    "import numpy as np\n",
    "\n",
    "shape = (60, 4, 1000)\n",
    "data = np.random.normal(loc=0, scale=10, size=shape).astype(np.float32)\n",
    "data.shape, data"
   ]
  },
  {
   "cell_type": "code",
   "execution_count": 6,
   "metadata": {
    "ExecuteTime": {
     "end_time": "2023-12-11T17:30:59.360224812Z",
     "start_time": "2023-12-11T17:30:59.255765801Z"
    }
   },
   "outputs": [
    {
     "name": "stdout",
     "output_type": "stream",
     "text": [
      " (28, 1000, 4)\n"
     ]
    },
    {
     "name": "stderr",
     "output_type": "stream",
     "text": [
      "/home/moraski/.local/lib/python3.10/site-packages/scipy/signal/_spectral_py.py:2017: UserWarning: nperseg = 24 is greater than input length  = 4, using nperseg = 4\n",
      "  warnings.warn('nperseg = {0:d} is greater than input length '\n"
     ]
    },
    {
     "ename": "ValueError",
     "evalue": "noverlap must be less than nperseg.",
     "output_type": "error",
     "traceback": [
      "\u001B[0;31m---------------------------------------------------------------------------\u001B[0m",
      "\u001B[0;31mValueError\u001B[0m                                Traceback (most recent call last)",
      "Cell \u001B[0;32mIn[6], line 14\u001B[0m\n\u001B[1;32m     11\u001B[0m chunks_time \u001B[38;5;241m=\u001B[39m np\u001B[38;5;241m.\u001B[39marray([data[:, k:(k \u001B[38;5;241m+\u001B[39m segment), :]\u001B[38;5;241m.\u001B[39mtranspose(\u001B[38;5;241m0\u001B[39m, \u001B[38;5;241m2\u001B[39m, \u001B[38;5;241m1\u001B[39m) \u001B[38;5;28;01mfor\u001B[39;00m k \u001B[38;5;129;01min\u001B[39;00m ids])\n\u001B[1;32m     13\u001B[0m \u001B[38;5;66;03m# janelas do dado no domínio da frequência\u001B[39;00m\n\u001B[0;32m---> 14\u001B[0m _, _, chunks_freq \u001B[38;5;241m=\u001B[39m \u001B[43mstft\u001B[49m\u001B[43m(\u001B[49m\u001B[43mdata\u001B[49m\u001B[43m,\u001B[49m\u001B[43m \u001B[49m\u001B[43mfs\u001B[49m\u001B[38;5;241;43m=\u001B[39;49m\u001B[38;5;241;43m200\u001B[39;49m\u001B[43m,\u001B[49m\u001B[43m \u001B[49m\u001B[43mnperseg\u001B[49m\u001B[38;5;241;43m=\u001B[39;49m\u001B[43msegment\u001B[49m\u001B[43m,\u001B[49m\u001B[43m \u001B[49m\u001B[43mnoverlap\u001B[49m\u001B[38;5;241;43m=\u001B[39;49m\u001B[43mstep\u001B[49m\u001B[38;5;241;43m-\u001B[39;49m\u001B[38;5;241;43m1\u001B[39;49m\u001B[43m)\u001B[49m  \u001B[38;5;66;03m# Adjusted noverlap\u001B[39;00m\n\u001B[1;32m     15\u001B[0m chunks_freq \u001B[38;5;241m=\u001B[39m chunks_freq\u001B[38;5;241m.\u001B[39mtranspose(\u001B[38;5;241m0\u001B[39m, \u001B[38;5;241m2\u001B[39m, \u001B[38;5;241m3\u001B[39m, \u001B[38;5;241m1\u001B[39m)\n\u001B[1;32m     17\u001B[0m \u001B[38;5;28mprint\u001B[39m(\u001B[38;5;124m'\u001B[39m\u001B[38;5;124mFormato (shape) dos dados depois da divisão de janelas\u001B[39m\u001B[38;5;124m'\u001B[39m)\n",
      "File \u001B[0;32m~/.local/lib/python3.10/site-packages/scipy/signal/_spectral_py.py:1211\u001B[0m, in \u001B[0;36mstft\u001B[0;34m(x, fs, window, nperseg, noverlap, nfft, detrend, return_onesided, boundary, padded, axis, scaling)\u001B[0m\n\u001B[1;32m   1208\u001B[0m \u001B[38;5;28;01melif\u001B[39;00m scaling \u001B[38;5;241m!=\u001B[39m \u001B[38;5;124m'\u001B[39m\u001B[38;5;124mspectrum\u001B[39m\u001B[38;5;124m'\u001B[39m:\n\u001B[1;32m   1209\u001B[0m     \u001B[38;5;28;01mraise\u001B[39;00m \u001B[38;5;167;01mValueError\u001B[39;00m(\u001B[38;5;124mf\u001B[39m\u001B[38;5;124m\"\u001B[39m\u001B[38;5;124mParameter \u001B[39m\u001B[38;5;132;01m{\u001B[39;00mscaling\u001B[38;5;132;01m=}\u001B[39;00m\u001B[38;5;124m not in [\u001B[39m\u001B[38;5;124m'\u001B[39m\u001B[38;5;124mspectrum\u001B[39m\u001B[38;5;124m'\u001B[39m\u001B[38;5;124m, \u001B[39m\u001B[38;5;124m'\u001B[39m\u001B[38;5;124mpsd\u001B[39m\u001B[38;5;124m'\u001B[39m\u001B[38;5;124m]!\u001B[39m\u001B[38;5;124m\"\u001B[39m)\n\u001B[0;32m-> 1211\u001B[0m freqs, time, Zxx \u001B[38;5;241m=\u001B[39m \u001B[43m_spectral_helper\u001B[49m\u001B[43m(\u001B[49m\u001B[43mx\u001B[49m\u001B[43m,\u001B[49m\u001B[43m \u001B[49m\u001B[43mx\u001B[49m\u001B[43m,\u001B[49m\u001B[43m \u001B[49m\u001B[43mfs\u001B[49m\u001B[43m,\u001B[49m\u001B[43m \u001B[49m\u001B[43mwindow\u001B[49m\u001B[43m,\u001B[49m\u001B[43m \u001B[49m\u001B[43mnperseg\u001B[49m\u001B[43m,\u001B[49m\u001B[43m \u001B[49m\u001B[43mnoverlap\u001B[49m\u001B[43m,\u001B[49m\n\u001B[1;32m   1212\u001B[0m \u001B[43m                                    \u001B[49m\u001B[43mnfft\u001B[49m\u001B[43m,\u001B[49m\u001B[43m \u001B[49m\u001B[43mdetrend\u001B[49m\u001B[43m,\u001B[49m\u001B[43m \u001B[49m\u001B[43mreturn_onesided\u001B[49m\u001B[43m,\u001B[49m\n\u001B[1;32m   1213\u001B[0m \u001B[43m                                    \u001B[49m\u001B[43mscaling\u001B[49m\u001B[38;5;241;43m=\u001B[39;49m\u001B[43mscaling\u001B[49m\u001B[43m,\u001B[49m\u001B[43m \u001B[49m\u001B[43maxis\u001B[49m\u001B[38;5;241;43m=\u001B[39;49m\u001B[43maxis\u001B[49m\u001B[43m,\u001B[49m\n\u001B[1;32m   1214\u001B[0m \u001B[43m                                    \u001B[49m\u001B[43mmode\u001B[49m\u001B[38;5;241;43m=\u001B[39;49m\u001B[38;5;124;43m'\u001B[39;49m\u001B[38;5;124;43mstft\u001B[39;49m\u001B[38;5;124;43m'\u001B[39;49m\u001B[43m,\u001B[49m\u001B[43m \u001B[49m\u001B[43mboundary\u001B[49m\u001B[38;5;241;43m=\u001B[39;49m\u001B[43mboundary\u001B[49m\u001B[43m,\u001B[49m\n\u001B[1;32m   1215\u001B[0m \u001B[43m                                    \u001B[49m\u001B[43mpadded\u001B[49m\u001B[38;5;241;43m=\u001B[39;49m\u001B[43mpadded\u001B[49m\u001B[43m)\u001B[49m\n\u001B[1;32m   1217\u001B[0m \u001B[38;5;28;01mreturn\u001B[39;00m freqs, time, Zxx\n",
      "File \u001B[0;32m~/.local/lib/python3.10/site-packages/scipy/signal/_spectral_py.py:1812\u001B[0m, in \u001B[0;36m_spectral_helper\u001B[0;34m(x, y, fs, window, nperseg, noverlap, nfft, detrend, return_onesided, scaling, axis, mode, boundary, padded)\u001B[0m\n\u001B[1;32m   1810\u001B[0m     noverlap \u001B[38;5;241m=\u001B[39m \u001B[38;5;28mint\u001B[39m(noverlap)\n\u001B[1;32m   1811\u001B[0m \u001B[38;5;28;01mif\u001B[39;00m noverlap \u001B[38;5;241m>\u001B[39m\u001B[38;5;241m=\u001B[39m nperseg:\n\u001B[0;32m-> 1812\u001B[0m     \u001B[38;5;28;01mraise\u001B[39;00m \u001B[38;5;167;01mValueError\u001B[39;00m(\u001B[38;5;124m'\u001B[39m\u001B[38;5;124mnoverlap must be less than nperseg.\u001B[39m\u001B[38;5;124m'\u001B[39m)\n\u001B[1;32m   1813\u001B[0m nstep \u001B[38;5;241m=\u001B[39m nperseg \u001B[38;5;241m-\u001B[39m noverlap\n\u001B[1;32m   1815\u001B[0m \u001B[38;5;66;03m# Padding occurs after boundary extension, so that the extended signal ends\u001B[39;00m\n\u001B[1;32m   1816\u001B[0m \u001B[38;5;66;03m# in zeros, instead of introducing an impulse at the end.\u001B[39;00m\n\u001B[1;32m   1817\u001B[0m \u001B[38;5;66;03m# I.e. if x = [..., 3, 2]\u001B[39;00m\n\u001B[1;32m   1818\u001B[0m \u001B[38;5;66;03m# extend then pad -> [..., 3, 2, 2, 3, 0, 0, 0]\u001B[39;00m\n\u001B[1;32m   1819\u001B[0m \u001B[38;5;66;03m# pad then extend -> [..., 3, 2, 0, 0, 0, 2, 3]\u001B[39;00m\n",
      "\u001B[0;31mValueError\u001B[0m: noverlap must be less than nperseg."
     ]
    }
   ],
   "source": [
    "from scipy.signal import stft\n",
    "\n",
    "step = 29\n",
    "segment = 64\n",
    "print('', data.shape)\n",
    "\n",
    "n_win = int((data.shape[1] - segment) / step) + 1  # Adjusted for the second dimension\n",
    "ids = np.arange(n_win) * step\n",
    "\n",
    "# janelas do dado no domínio do tempo\n",
    "chunks_time = np.array([data[:, k:(k + segment), :].transpose(0, 2, 1) for k in ids])\n",
    "\n",
    "# janelas do dado no domínio da frequência\n",
    "_, _, chunks_freq = stft(data, fs=200, nperseg=segment, noverlap=step-1)  # Adjusted noverlap\n",
    "chunks_freq = chunks_freq.transpose(0, 2, 3, 1)\n",
    "\n",
    "print('Formato (shape) dos dados depois da divisão de janelas')\n",
    "print(f'Domínio do tempo: {chunks_time.shape} - (classes+ensaios, canais, janelas, linhas)')\n",
    "print(f'Domínio da frequência:  {chunks_freq.shape} - (classes+ensaios, canais, janelas, linhas)')"
   ]
  },
  {
   "cell_type": "markdown",
   "metadata": {},
   "source": [
    "*Desafio*: Implementar um algoritmo para encontrar a mesma quantidade de janelas em ambos os domínios (tempo e frequência)."
   ]
  },
  {
   "cell_type": "code",
   "execution_count": null,
   "metadata": {},
   "outputs": [],
   "source": []
  },
  {
   "cell_type": "markdown",
   "metadata": {},
   "source": []
  }
 ],
 "metadata": {
  "kernelspec": {
   "display_name": "venv",
   "language": "python",
   "name": "python3"
  },
  "language_info": {
   "codemirror_mode": {
    "name": "ipython",
    "version": 3
   },
   "file_extension": ".py",
   "mimetype": "text/x-python",
   "name": "python",
   "nbconvert_exporter": "python",
   "pygments_lexer": "ipython3",
   "version": "3.10.11"
  }
 },
 "nbformat": 4,
 "nbformat_minor": 2
}
