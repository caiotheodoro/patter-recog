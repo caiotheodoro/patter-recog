{
 "cells": [
  {
   "cell_type": "markdown",
   "metadata": {},
   "source": [
    "## Validação dos dados EOG\n",
    "\n",
    "Neste notebook está incluído os seguintes passos:\n",
    "- Aplicação de características;\n",
    "- Criação do vetor de características;\n",
    "- Normalização de dados;\n",
    "- Seleção de características;\n",
    "- Classificação dos dados."
   ]
  },
  {
   "cell_type": "markdown",
   "metadata": {},
   "source": [
    "Uma característica é uma propriedade individual mensurável ou característica de um fenômeno que está sendo observado. Em nosso caso de EOG, uma característica pode ser extraída no domínio do tempo ou no domínio da frequência. As características a seguir foram retiradas do artigo *EMG Feature Extraction for Tolerance of White Gaussian Noise* \\[1\\]."
   ]
  },
  {
   "cell_type": "markdown",
   "metadata": {},
   "source": [
    "#### Domínio do tempo\n",
    "\n",
    "1. Willison Amplitude (WAMP)\n",
    "\n",
    "    > $ \\sum_{i=1}^{N-1}f(|x_i - x_{i+1}|) $\n",
    "    \n",
    "    > $ f(x) = \\begin{cases} 1 & \\text{if } x \\gt threshold \\\\ 0 & \\text{otherwise} \\end{cases} $\n",
    "\n",
    "2. Variance of EMG (VAR)\n",
    "\n",
    "    > $ \\frac{1}{N-1}\\sum_{i=1}^{N}x_i^2 $\n",
    "\n",
    "3. Root Mean Square (RMS)\n",
    "\n",
    "    > $ \\sqrt{\\frac{1}{N}\\sum_{i=1}^{N}|x_i|^2} $\n",
    "\n",
    "4. Waveform Length (WL)\n",
    "    \n",
    "    > $ \\sum_{i=1}^{N-1}|x_{i+1} - x_i| $\n",
    "\n",
    "5. Zero Crossing (ZC)\n",
    "\n",
    "    > $ \\sum_{i=1}^{N}sgn(x_i) $\n",
    "    \n",
    "    > $ sgn(x) = \\begin{cases} 1 & \\text{if } x_i * x_{i+1} \\leq 0 \\\\ 0 & \\text{otherwise} \\end{cases} $"
   ]
  },
  {
   "cell_type": "markdown",
   "metadata": {},
   "source": [
    "#### Domínio da frequência\n",
    "\n",
    "1. Median Frequency (FMD)\n",
    "\n",
    "    > $ \\frac{1}{2}\\sum_{j=1}^{M}PSD_j $\n",
    "\n",
    "2. Mean Frequency (FMN)\n",
    "\n",
    "    > $\\sum_{j=1}^{M}f_j PSD_j / \\sum_{j=1}^{M}PSD_j$\n",
    "    \n",
    "    > $ f_j = j * SampleRate / 2 * M $\n",
    "\n",
    "3. Modified Median Frequency (MMDF)\n",
    "\n",
    "    > $ \\frac{1}{2}\\sum_{j=1}^{M}A_j $\n",
    "    \n",
    "    > $ A_j = Amplitude\\ do\\ espectro\\ j $\n",
    "\n",
    "4. Modified Frequency Mean (MMNF)\n",
    "\n",
    "    > $ \\sum_{j=1}^{M}f_jAj / \\sum_{j=1}^{M}Aj $\n",
    "\n",
    "\n",
    "\\[1\\] Phinyomark, Angkoon & Limsakul, Chusak & Phukpattaranont, P.. (2008). EMG Feature Extraction for Tolerance of White Gaussian Noise.\n",
    "[Disponível neste link](https://www.researchgate.net/publication/263765853_EMG_Feature_Extraction_for_Tolerance_of_White_Gaussian_Noise)\n",
    "\n",
    "**Tarefa 1**: Descrever as características de acordo com o artigo citado e outros disponíveis relacionados. O que está querendo \"ser visto\" em cada característica? Qual é o significado matemático de cada uma delas?"
   ]
  },
  {
   "cell_type": "markdown",
   "metadata": {},
   "source": [
    "#### Aplicando as características\n",
    "\n",
    "É necessário implementar as características, geralmente em formato de funções ou métodos, para que seja possível aplicar tais funções aos dados de entrada e obter as características resultantes. A seguir temos a implementação das características `VAR` & `RMS` (domínio do tempo) e `FDM` & `MMDF` (domínio da frequência)."
   ]
  },
  {
   "cell_type": "code",
   "execution_count": 284,
   "metadata": {
    "ExecuteTime": {
     "end_time": "2023-11-29T20:21:21.653473173Z",
     "start_time": "2023-11-29T20:21:21.609713134Z"
    }
   },
   "outputs": [],
   "source": [
    "from math import prod\n",
    "import numpy as np\n",
    "import scipy.signal\n",
    "\n",
    "# X dominio do tempo\n",
    "# W dominio da frequencia\n",
    "\n",
    "# funções auxiliares\n",
    "\n",
    "def PSD(w):\n",
    "    ''' definição da função PSD para o sinal no domínio da frequência '''\n",
    "    return np.abs(w) ** 2\n",
    "\n",
    "def log_det(x):\n",
    "    from math import e\n",
    "    return e ** (np.sum(np.log10(np.abs(x)), axis=-1) / np.prod(x.shape))\n",
    "\n",
    "# funções de extração de características\n",
    "\n",
    "# domínio do tempo:\n",
    "# ************ nao ta funcionando o que ta comentado **************\n",
    "# Característica WAMP - Willison Amplitude\n",
    "def wamp(time, threshold):\n",
    "    return np.sum(np.abs(np.diff(time)) > threshold, axis=-1)\n",
    "# \n",
    "# # Característica WL - Waveform length\n",
    "def wl(signal):\n",
    "    return np.sum(np.abs(np.diff(signal, axis=-1)), axis=-1)\n",
    "# \n",
    "# # Característica ZC - Zero crossing\n",
    "# def zc(signal, threshold=0):\n",
    "#     return ((signal[:-1] > threshold) != (signal[1:] > threshold)).sum()\n",
    "\n",
    "# Característica VAR - Variance of EMG\n",
    "def var(x):\n",
    "    return np.sum(x ** 2, axis=-1) / (np.prod(x.shape) - 1)\n",
    "\n",
    "# Característica RMS - Root Mean Square\n",
    "def rms(x):\n",
    "    return np.sqrt(np.sum(np.abs(x) ** 2, axis=-1) / (np.prod(x.shape) - 1))\n",
    "\n",
    "# domínio da frequência:\n",
    "\n",
    "# Característica FMN - Primeiro momento normalizado\n",
    "# ************ nao ta funcionando o que ta comentado **************\n",
    "# def fmn(signal, fs):\n",
    "#     freqs, psd = scipy.signal.welch(signal, fs)\n",
    "#     return np.sum(freqs*psd) / np.sum(psd)\n",
    "# \n",
    "# # Característica MMNF - Primeiro momento normalizado médio\n",
    "# def mmnf(signal, fs):\n",
    "#     freqs, psd = scipy.signal.welch(signal, fs)\n",
    "#     return np.sum(freqs*psd) / len(psd)\n",
    "\n",
    "# Característica FMD - Median Frequency\n",
    "def fmd(w):\n",
    "    return np.sum(PSD(w), axis=-1) / 2\n",
    "\n",
    "def fmn(w):\n",
    "    return  np.sum((np.arange(1, w.shape[-1]+1) * 200) / 2 * w.shape[-1] * PSD(w), axis=-1)/ fmd(w) * 2\n",
    "\n",
    "# Característica MMDF - Modified Median Frequency\n",
    "def mmdf(w):\n",
    "    return np.sum(np.abs(w), axis=-1) / 2\n",
    "\n",
    "def mmnf(w):\n",
    "    return np.sum((np.arange(1, w.shape[-1]+1) * 200) / 2 * w.shape[-1]  * np.abs(w),  axis=-1) / mmdf(w) * 2"
   ]
  },
  {
   "cell_type": "markdown",
   "metadata": {},
   "source": [
    "**Tarefa 2**: Implemente todas as características apresentadas neste tutorial em formato de funções. Sinta-se livre também para buscar e implementar características além das apresentadas, citando as fontes de tais características.\n",
    "\n",
    "\n",
    "#### Vetor de características\n",
    "\n",
    "Ao final da implementação e seleção das características, deve ser escolhida as características e então teremos um vetor com todas elas implementadas.\n",
    "\n",
    "O vetor de características estará organizado da seguinte forma (exemplo p/ VAR, RMS, RDM e MMDF):\n",
    "\n",
    "| ID sample | VAR1 | RMS1 | FMD1 | MMDF1 | VAR2 | RMS2 | FMD2 | MMDF2 | Classe |\n",
    "|:---------:|:----:|:----:|:----:|:-----:|------|------|------|-------|:------:|\n",
    "|     1     |  v1  |  v1  |  v1  |   v1  | v1   | v1   | v1   | v1    |    0   |\n",
    "|     2     |  v2  |  v2  |  v2  |   v2  | v2   | v2   | v2   | v2    |    0   |\n",
    "|    ...    |  ... |  ... |  ... |  ...  | ...  | ...  | ...  | ...   |   ...  |\n",
    "|     N     |  vN  |  vN  |  vN  |   vN  | vN   | vN   | vN   | vN    |    7   |\n",
    "\n",
    "#### Implementação do vetor\n",
    "\n"
   ]
  },
  {
   "cell_type": "code",
   "execution_count": 285,
   "metadata": {
    "ExecuteTime": {
     "end_time": "2023-11-29T20:26:16.321660001Z",
     "start_time": "2023-11-29T20:26:16.273919572Z"
    }
   },
   "outputs": [
    {
     "name": "stdout",
     "output_type": "stream",
     "text": [
      "Shape dos vetores originais (T) (F) participante 1:  (28, 937, 2, 64) (28, 33, 2, 33)\n",
      "Shapes VAR, RMS, FMD, MMDF: (28, 937, 2) (28, 937, 2) (28, 937, 2) (28, 937, 2)\n",
      "Shape dos vetores originais (T) (F) participante 2:  (28, 937, 2, 64) (28, 33, 2, 33)\n",
      "Shapes VAR, RMS, FMD, MMDF: (28, 937, 2) (28, 937, 2) (28, 937, 2) (28, 937, 2)\n"
     ]
    }
   ],
   "source": [
    "# É pra implementar pros dois, mas por enquanto vou ir so com um pra n ter problemas\n",
    "p_data =[[],[]]\n",
    "for i in range (2):\n",
    "        \n",
    "    x = np.load(f\"datasets/participant_{i}_time.npy\")\n",
    "    w = np.load(f\"datasets/participant_{i}_freq.npy\")\n",
    "\n",
    "\n",
    "    # aplicando caracteristicas\n",
    "\n",
    "    # Tempo\n",
    "    data_wamp = wamp(time=x, threshold=np.median(x))\n",
    "    data_var = var(x=x)\n",
    "    data_rms = rms(x=x)\n",
    "    data_wl = wl(signal=x)\n",
    "\n",
    "    # Frequencia\n",
    "    data_fmd = fmd(w=w)\n",
    "    data_mmdf = mmdf(w=w)\n",
    "    data_fmn = fmn(w=w)\n",
    "    data_mmnf = mmnf(w=w)\n",
    "\n",
    "    p_data[i].append([data_wamp, data_var, data_rms, data_wl, data_fmd, data_mmdf, data_fmn, data_mmnf])\n",
    "\n",
    "    data_var.shape, data_rms.shape, data_fmd.shape, data_mmdf.shape\n",
    "\n",
    "    print(F\"Shape dos vetores originais (T) (F) participante {i+1}: \", x.shape, w.shape)\n",
    "    print(\"Shapes VAR, RMS, FMD, MMDF:\",p_data[i][0][0].shape, p_data[i][0][1].shape, p_data[i][0][2].shape, p_data[i][0][3].shape)\n",
    "\n",
    "# Shape dos vetores originais (T) (F):  (28, 2, 33, 64) (28, 2, 33, 33)\n",
    "# ((28, 2, 33), (28, 2, 33), (28, 2, 33), (28, 2, 33))\n",
    "\n"
   ]
  },
  {
   "cell_type": "code",
   "execution_count": 286,
   "metadata": {
    "ExecuteTime": {
     "end_time": "2023-11-29T20:26:19.467522802Z",
     "start_time": "2023-11-29T20:26:19.464122939Z"
    }
   },
   "outputs": [
    {
     "name": "stdout",
     "output_type": "stream",
     "text": [
      "(28, 937, 2) (28, 937, 2) (28, 937, 2) (28, 937, 2)\n",
      "(4, 28, 937, 2)\n",
      "(28, 2, 4, 937)\n",
      "(56, 3748)\n",
      "(28, 937, 2) (28, 937, 2) (28, 937, 2) (28, 937, 2)\n",
      "(4, 28, 937, 2)\n",
      "(28, 2, 4, 937)\n",
      "(56, 3748)\n"
     ]
    }
   ],
   "source": [
    "# União do vetor de caracteristicas inicial\n",
    "combined_features = [[],[]]\n",
    "for i in range(2):\n",
    "    print(p_data[i][0][0].shape, p_data[i][0][1].shape, p_data[i][0][2].shape, p_data[i][0][3].shape)\n",
    "    features = np.array([p_data[i][0][0], p_data[i][0][1], p_data[i][0][2], p_data[i][0][3]])\n",
    "    print(features.shape)\n",
    "    features = features.transpose(1, 3, 0, 2)\n",
    "    print(features.shape)\n",
    "# Organização das dimensoes\n",
    "# Samples precisam ser a primeira linha, 56 e 36 e dps 4 e 2\n",
    "# 33 é as janelas, as 56 a quantidades de classes, 4 é caracteristicas e 2 eletrodos também sao caracteristicas\n",
    "# ai junta os dois\n",
    "# features.shape\n",
    "# (28, 33, 4, 2)\n",
    "\n",
    "    features = features.reshape(features.shape[0] * features.shape[1],\n",
    "                                features.shape[2] * features.shape[3])\n",
    "    print(features.shape)\n",
    "    combined_features[i].append(features)\n",
    "# criar o vetor de caracteristicas definitivo\n",
    "# (924, 8)\n"
   ]
  },
  {
   "cell_type": "markdown",
   "metadata": {},
   "source": [
    "**Tarefa 3**: Aplicar normalização dos dados utilizando ferramentas ja conhecidas"
   ]
  },
  {
   "cell_type": "code",
   "execution_count": 287,
   "metadata": {
    "ExecuteTime": {
     "end_time": "2023-11-29T20:28:37.039454531Z",
     "start_time": "2023-11-29T20:28:37.026605269Z"
    },
    "collapsed": false
   },
   "outputs": [
    {
     "name": "stdout",
     "output_type": "stream",
     "text": [
      "(56, 3748) (56, 3748)\n",
      "(56, 3748) (56, 3748)\n"
     ]
    }
   ],
   "source": [
    "# aplicação de normalização\n",
    "from sklearn.preprocessing import StandardScaler\n",
    "from matplotlib import pyplot as plt\n",
    "\n",
    "\n",
    "normalized_features = [[],[]]\n",
    "normalized_test_features = [[],[]]\n",
    "for i in range(2):\n",
    "    scaler = StandardScaler()\n",
    "\n",
    "    normalized_features[i] = scaler.fit_transform(combined_features[i][0])\n",
    "\n",
    "    normalized_test_features[i] = scaler.transform(combined_features[i][0])\n",
    "\n",
    "    print(normalized_features[i].shape, normalized_test_features[i].shape)"
   ]
  },
  {
   "cell_type": "markdown",
   "metadata": {},
   "source": [
    "## Vetor de labels"
   ]
  },
  {
   "cell_type": "code",
   "execution_count": 288,
   "metadata": {},
   "outputs": [
    {
     "name": "stdout",
     "output_type": "stream",
     "text": [
      "{0: 14, 1: 14, 2: 14, 3: 14}\n",
      "56\n",
      "{0: 14, 1: 14, 2: 14, 3: 14}\n",
      "56\n"
     ]
    }
   ],
   "source": [
    "labels_str = ['dir', 'esq', 'cima', 'baixo', 'cima', 'baixo',\n",
    "              'baixo', 'esq', 'dir', 'baixo', 'dir', 'dir', 'esq', 'cima',\n",
    "              'baixo', 'cima', 'esq', 'dir', 'cima', 'esq', 'baixo', 'esq',\n",
    "              'dir', 'esq', 'cima', 'dir', 'cima', 'baixo']\n",
    "\n",
    "# transformando em numerico\n",
    "lab_dict = {'dir':0, 'esq': 1, 'cima':2, 'baixo':3}\n",
    "labels_num = [lab_dict[item] for item in labels_str]\n",
    "\n",
    "# y = np.array([[item] * int(features.shape[0]/len(labels_num)) for item in labels_num])\n",
    "y = np.array([[item] * int(features.shape[0]/len(labels_num)) for item in labels_num])\n",
    "y = np.repeat(labels_num, [int(features.shape[0]/len(labels_num))])\n",
    "for i in range(2):\n",
    "    unique, counts = np.unique(y, return_counts=True)\n",
    "    print(dict(zip(unique, counts)))\n",
    "    print(np.sum(counts))\n",
    "# 924/8, len(labels_num)"
   ]
  },
  {
   "cell_type": "markdown",
   "metadata": {
    "collapsed": false
   },
   "source": [
    "**Tarefa 4**: Aplicação seleção de caracteristicas utilizando ferramentas ja conhecidas"
   ]
  },
  {
   "cell_type": "code",
   "execution_count": 289,
   "metadata": {
    "ExecuteTime": {
     "end_time": "2023-11-29T20:11:11.297389510Z",
     "start_time": "2023-11-29T20:11:11.255468662Z"
    },
    "collapsed": false
   },
   "outputs": [
    {
     "data": {
      "image/png": "[encoded data removed]",
      "text/plain": [
       "<Figure size 1000x500 with 2 Axes>"
      ]
     },
     "metadata": {},
     "output_type": "display_data"
    }
   ],
   "source": [
    "# aplicação da seleção de caracteristicas\n",
    "\n",
    "# codigo\n",
    "from sklearn.feature_selection import SelectKBest\n",
    "from sklearn.feature_selection import f_classif\n",
    "from sklearn.model_selection import train_test_split\n",
    "\n",
    "\n",
    "from sklearn.svm import SVC\n",
    "from sklearn.metrics import classification_report, confusion_matrix\n",
    "\n",
    "# # Selecionando as 2 melhores caracteristicas\n",
    "X_test_combined = []\n",
    "y_test_combined = []\n",
    "y_pred_combined = []\n",
    "\n",
    "fig, ax = plt.subplots(1, 2, figsize=(10, 5))\n",
    "for i in range(2):\n",
    "    selector = SelectKBest(f_classif, k=2)\n",
    "\n",
    "    # fit\n",
    "    selector.fit(normalized_features[i], y)\n",
    "    # scores\n",
    "    scores = -np.log10(selector.pvalues_)\n",
    "    \n",
    "    feat = selector.transform(normalized_features[i])\n",
    "    test_feat = selector.transform(normalized_test_features[i])\n",
    "\n",
    "    \n",
    "\n",
    "    X_train, X_test, y_train, y_test = train_test_split(feat, y, test_size=0.2, random_state=42)\n",
    "\n",
    "    plt.sca(ax[i])\n",
    "    plt.scatter(X_train[:, 0], X_train[:, 1], c=y_train) #verificando se os dados estão representados corretamente\n",
    "\n",
    "\n",
    "    clf = SVC(kernel='rbf',  gamma=0.1)\n",
    "    clf.fit(X_train, y_train)\n",
    "    y_pred = clf.predict(X_test)\n",
    "\n",
    "    X_test_combined.append(X_test)  \n",
    "    y_pred_combined.append(y_pred)\n",
    "    y_test_combined.append(y_test)\n",
    "  \n",
    "\n",
    "\n"
   ]
  },
  {
   "cell_type": "markdown",
   "metadata": {
    "collapsed": false
   },
   "source": [
    "**Tarefa 5**: Aplicar classificação usando 'svm'"
   ]
  },
  {
   "cell_type": "code",
   "execution_count": 290,
   "metadata": {
    "collapsed": false
   },
   "outputs": [
    {
     "name": "stdout",
     "output_type": "stream",
     "text": [
      "Acuracia participante 1:  0.16666666666666666\n",
      "Acuracia participante 2:  0.4166666666666667\n"
     ]
    }
   ],
   "source": [
    "for i in range(2):\n",
    "    print(f\"Acuracia participante {i+1}: \", clf.score(X_test_combined[i], y_test_combined[i])) "
   ]
  },
  {
   "cell_type": "code",
   "execution_count": 291,
   "metadata": {},
   "outputs": [
    {
     "name": "stdout",
     "output_type": "stream",
     "text": [
      "              precision    recall  f1-score   support\n",
      "\n",
      "           0       0.50      0.33      0.40         3\n",
      "           1       0.17      0.50      0.25         2\n",
      "           2       0.25      0.33      0.29         3\n",
      "           3       0.00      0.00      0.00         4\n",
      "\n",
      "    accuracy                           0.25        12\n",
      "   macro avg       0.23      0.29      0.23        12\n",
      "weighted avg       0.22      0.25      0.21        12\n",
      "\n",
      "Melhor acuracia participante 1:  0.22916666666666666 \n",
      "\n",
      "              precision    recall  f1-score   support\n",
      "\n",
      "           0       0.50      0.33      0.40         3\n",
      "           1       0.17      0.50      0.25         2\n",
      "           2       0.25      0.33      0.29         3\n",
      "           3       0.00      0.00      0.00         4\n",
      "\n",
      "    accuracy                           0.25        12\n",
      "   macro avg       0.23      0.29      0.23        12\n",
      "weighted avg       0.22      0.25      0.21        12\n",
      "\n",
      "Melhor acuracia participante 1:  0.29166666666666663 \n",
      "\n",
      "              precision    recall  f1-score   support\n",
      "\n",
      "           0       0.50      0.33      0.40         3\n",
      "           1       0.33      0.50      0.40         2\n",
      "           2       0.43      1.00      0.60         3\n",
      "           3       0.00      0.00      0.00         4\n",
      "\n",
      "    accuracy                           0.42        12\n",
      "   macro avg       0.32      0.46      0.35        12\n",
      "weighted avg       0.29      0.42      0.32        12\n",
      "\n",
      "Melhor acuracia participante 2:  0.31547619047619047 \n",
      "\n",
      "              precision    recall  f1-score   support\n",
      "\n",
      "           0       0.50      0.33      0.40         3\n",
      "           1       0.33      0.50      0.40         2\n",
      "           2       0.43      1.00      0.60         3\n",
      "           3       0.00      0.00      0.00         4\n",
      "\n",
      "    accuracy                           0.42        12\n",
      "   macro avg       0.32      0.46      0.35        12\n",
      "weighted avg       0.29      0.42      0.32        12\n",
      "\n",
      "Melhor acuracia participante 2:  0.4583333333333333 \n",
      "\n"
     ]
    },
    {
     "ename": "ImportError",
     "evalue": "cannot import name 'from_estimator' from 'sklearn.metrics' (C:\\Users\\caio-\\AppData\\Local\\Packages\\PythonSoftwareFoundation.Python.3.10_qbz5n2kfra8p0\\LocalCache\\local-packages\\Python310\\site-packages\\sklearn\\metrics\\__init__.py)",
     "output_type": "error",
     "traceback": [
      "\u001b[1;31m---------------------------------------------------------------------------\u001b[0m",
      "\u001b[1;31mImportError\u001b[0m                               Traceback (most recent call last)",
      "Cell \u001b[1;32mIn[291], line 30\u001b[0m\n\u001b[0;32m     28\u001b[0m \u001b[38;5;28;01mfrom\u001b[39;00m \u001b[38;5;21;01msklearn\u001b[39;00m\u001b[38;5;21;01m.\u001b[39;00m\u001b[38;5;21;01mmetrics\u001b[39;00m \u001b[38;5;28;01mimport\u001b[39;00m confusion_matrix\n\u001b[0;32m     29\u001b[0m \u001b[38;5;28;01mfrom\u001b[39;00m \u001b[38;5;21;01msklearn\u001b[39;00m\u001b[38;5;21;01m.\u001b[39;00m\u001b[38;5;21;01mmetrics\u001b[39;00m \u001b[38;5;28;01mimport\u001b[39;00m ConfusionMatrixDisplay\n\u001b[1;32m---> 30\u001b[0m \u001b[38;5;28;01mfrom\u001b[39;00m \u001b[38;5;21;01msklearn\u001b[39;00m\u001b[38;5;21;01m.\u001b[39;00m\u001b[38;5;21;01mmetrics\u001b[39;00m \u001b[38;5;28;01mimport\u001b[39;00m from_estimator, from_predictions\n\u001b[0;32m     32\u001b[0m fig, ax \u001b[38;5;241m=\u001b[39m plt\u001b[38;5;241m.\u001b[39msubplots(\u001b[38;5;241m1\u001b[39m, \u001b[38;5;241m2\u001b[39m, figsize\u001b[38;5;241m=\u001b[39m(\u001b[38;5;241m10\u001b[39m, \u001b[38;5;241m5\u001b[39m))\n\u001b[0;32m     33\u001b[0m \u001b[38;5;28;01mfor\u001b[39;00m i \u001b[38;5;129;01min\u001b[39;00m \u001b[38;5;28mrange\u001b[39m(\u001b[38;5;241m2\u001b[39m):\n",
      "\u001b[1;31mImportError\u001b[0m: cannot import name 'from_estimator' from 'sklearn.metrics' (C:\\Users\\caio-\\AppData\\Local\\Packages\\PythonSoftwareFoundation.Python.3.10_qbz5n2kfra8p0\\LocalCache\\local-packages\\Python310\\site-packages\\sklearn\\metrics\\__init__.py)"
     ]
    }
   ],
   "source": [
    "from sklearn.model_selection import GridSearchCV\n",
    "from sklearn.metrics import classification_report\n",
    "from sklearn.svm import SVC\n",
    "import warnings\n",
    "warnings.filterwarnings('ignore')\n",
    "\n",
    "tuned_parameters = [{'kernel': ['rbf'], 'gamma': [1e-3, 1e-4, 1e-5],\n",
    "                        'C': [1, 10, 100, 1000]},\n",
    "                        {'kernel': ['linear'], 'C': [1, 10, 100, 1000]}]\n",
    "\n",
    "scores = ['precision', 'recall']\n",
    "\n",
    "for i in range(2):\n",
    "    for score in scores:\n",
    "        clf = GridSearchCV(SVC(), tuned_parameters, cv=5,\n",
    "                            scoring='%s_macro' % score)\n",
    "        clf.fit(X_train, y_train)\n",
    " \n",
    "        y_true, y_pred = y_test, clf.predict(X_test_combined[i])\n",
    "        print(classification_report(y_true, y_pred))\n",
    "\n",
    "        print(f\"Melhor acuracia participante {i+1}: \", clf.score(X_test_combined[i], y_test_combined[i]), \"\\n\")\n"
   ]
  },
  {
   "cell_type": "markdown",
   "metadata": {},
   "source": [
    "##"
   ]
  }
 ],
 "metadata": {
  "kernelspec": {
   "display_name": "venv",
   "language": "python",
   "name": "python3"
  },
  "language_info": {
   "codemirror_mode": {
    "name": "ipython",
    "version": 3
   },
   "file_extension": ".py",
   "mimetype": "text/x-python",
   "name": "python",
   "nbconvert_exporter": "python",
   "pygments_lexer": "ipython3",
   "version": "3.10.11"
  }
 },
 "nbformat": 4,
 "nbformat_minor": 2
}
