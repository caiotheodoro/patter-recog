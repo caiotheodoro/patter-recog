{
 "cells": [
  {
   "cell_type": "markdown",
   "metadata": {},
   "source": [
    "## Validação dos dados EOG\n",
    "\n",
    "Neste notebook está incluído os seguintes passos:\n",
    "- Aplicação de características;\n",
    "- Criação do vetor de características;\n",
    "- Normalização de dados;\n",
    "- Seleção de características;\n",
    "- Classificação dos dados."
   ]
  },
  {
   "cell_type": "markdown",
   "metadata": {},
   "source": [
    "Uma característica é uma propriedade individual mensurável ou característica de um fenômeno que está sendo observado. Em nosso caso de EOG, uma característica pode ser extraída no domínio do tempo ou no domínio da frequência. As características a seguir foram retiradas do artigo *EMG Feature Extraction for Tolerance of White Gaussian Noise* \\[1\\]."
   ]
  },
  {
   "cell_type": "markdown",
   "metadata": {},
   "source": [
    "#### Domínio do tempo\n",
    "\n",
    "1. Willison Amplitude (WAMP)\n",
    "\n",
    "    > $ \\sum_{i=1}^{N-1}f(|x_i - x_{i+1}|) $\n",
    "    \n",
    "    > $ f(x) = \\begin{cases} 1 & \\text{if } x \\gt threshold \\\\ 0 & \\text{otherwise} \\end{cases} $\n",
    "\n",
    "2. Variance of EMG (VAR)\n",
    "\n",
    "    > $ \\frac{1}{N-1}\\sum_{i=1}^{N}x_i^2 $\n",
    "\n",
    "3. Root Mean Square (RMS)\n",
    "\n",
    "    > $ \\sqrt{\\frac{1}{N}\\sum_{i=1}^{N}|x_i|^2} $\n",
    "\n",
    "4. Waveform Length (WL)\n",
    "    \n",
    "    > $ \\sum_{i=1}^{N-1}|x_{i+1} - x_i| $\n",
    "\n",
    "5. Zero Crossing (ZC)\n",
    "\n",
    "    > $ \\sum_{i=1}^{N}sgn(x_i) $\n",
    "    \n",
    "    > $ sgn(x) = \\begin{cases} 1 & \\text{if } x_i * x_{i+1} \\leq 0 \\\\ 0 & \\text{otherwise} \\end{cases} $"
   ]
  },
  {
   "cell_type": "markdown",
   "metadata": {},
   "source": [
    "#### Domínio da frequência\n",
    "\n",
    "1. Median Frequency (FMD)\n",
    "\n",
    "    > $ \\frac{1}{2}\\sum_{j=1}^{M}PSD_j $\n",
    "\n",
    "2. Mean Frequency (FMN)\n",
    "\n",
    "    > $\\sum_{j=1}^{M}f_j PSD_j / \\sum_{j=1}^{M}PSD_j$\n",
    "    \n",
    "    > $ f_j = j * SampleRate / 2 * M $\n",
    "\n",
    "3. Modified Median Frequency (MMDF)\n",
    "\n",
    "    > $ \\frac{1}{2}\\sum_{j=1}^{M}A_j $\n",
    "    \n",
    "    > $ A_j = Amplitude\\ do\\ espectro\\ j $\n",
    "\n",
    "4. Modified Frequency Mean (MMNF)\n",
    "\n",
    "    > $ \\sum_{j=1}^{M}f_jAj / \\sum_{j=1}^{M}Aj $\n",
    "\n",
    "\n",
    "\\[1\\] Phinyomark, Angkoon & Limsakul, Chusak & Phukpattaranont, P.. (2008). EMG Feature Extraction for Tolerance of White Gaussian Noise.\n",
    "[Disponível neste link](https://www.researchgate.net/publication/263765853_EMG_Feature_Extraction_for_Tolerance_of_White_Gaussian_Noise)\n",
    "\n",
    "**Tarefa 1**: Descrever as características de acordo com o artigo citado e outros disponíveis relacionados. O que está querendo \"ser visto\" em cada característica? Qual é o significado matemático de cada uma delas?"
   ]
  },
  {
   "cell_type": "markdown",
   "metadata": {},
   "source": [
    "#### Aplicando as características\n",
    "\n",
    "É necessário implementar as características, geralmente em formato de funções ou métodos, para que seja possível aplicar tais funções aos dados de entrada e obter as características resultantes. A seguir temos a implementação das características `VAR` & `RMS` (domínio do tempo) e `FDM` & `MMDF` (domínio da frequência)."
   ]
  },
  {
   "cell_type": "code",
   "execution_count": 19,
   "metadata": {
    "ExecuteTime": {
     "end_time": "2023-11-29T20:21:21.653473173Z",
     "start_time": "2023-11-29T20:21:21.609713134Z"
    }
   },
   "outputs": [],
   "source": [
    "from math import prod\n",
    "import numpy as np\n",
    "import scipy.signal\n",
    "\n",
    "# X dominio do tempo\n",
    "# W dominio da frequencia\n",
    "\n",
    "# funções auxiliares\n",
    "def PSD(w):\n",
    "    ''' definição da função PSD para o sinal no domínio da frequência '''\n",
    "    return np.abs(w) ** 2\n",
    "\n",
    "def log_det(x):\n",
    "    from math import e\n",
    "    return e ** (np.sum(np.log10(np.abs(x)), axis=-1) / np.prod(x.shape))\n",
    "\n",
    "# funções de extração de características\n",
    "\n",
    "# domínio do tempo:\n",
    "# ************ nao ta funcionando o que ta comentado **************\n",
    "# Característica WAMP - Willison Amplitude\n",
    "# def wamp(signal, threshold):\n",
    "#     return np.sum(np.diff(signal > threshold))\n",
    "# \n",
    "# # Característica WL - Waveform length\n",
    "# def wl(signal):\n",
    "#     return np.sum(np.abs(np.diff(signal)))\n",
    "# \n",
    "# # Característica ZC - Zero crossing\n",
    "# def zc(signal, threshold=0):\n",
    "#     return ((signal[:-1] > threshold) != (signal[1:] > threshold)).sum()\n",
    "\n",
    "# Característica VAR - Variance of EMG\n",
    "def var(x):\n",
    "    return np.sum(x ** 2, axis=-1) / (np.prod(x.shape) - 1)\n",
    "\n",
    "# Característica RMS - Root Mean Square\n",
    "def rms(x):\n",
    "    return np.sqrt(np.sum(np.abs(x) ** 2, axis=-1) / (np.prod(x.shape) - 1))\n",
    "\n",
    "# domínio da frequência:\n",
    "\n",
    "# Característica FMN - Primeiro momento normalizado\n",
    "# ************ nao ta funcionando o que ta comentado **************\n",
    "# def fmn(signal, fs):\n",
    "#     freqs, psd = scipy.signal.welch(signal, fs)\n",
    "#     return np.sum(freqs*psd) / np.sum(psd)\n",
    "# \n",
    "# # Característica MMNF - Primeiro momento normalizado médio\n",
    "# def mmnf(signal, fs):\n",
    "#     freqs, psd = scipy.signal.welch(signal, fs)\n",
    "#     return np.sum(freqs*psd) / len(psd)\n",
    "\n",
    "# Característica FMD - Median Frequency\n",
    "def fmd(w):\n",
    "    return np.sum(PSD(w), axis=-1) / 2\n",
    "\n",
    "# Característica MMDF - Modified Median Frequency\n",
    "def mmdf(w):\n",
    "    return np.sum(np.abs(w), axis=-1) / 2\n",
    "\n"
   ]
  },
  {
   "cell_type": "markdown",
   "metadata": {},
   "source": [
    "**Tarefa 2**: Implemente todas as características apresentadas neste tutorial em formato de funções. Sinta-se livre também para buscar e implementar características além das apresentadas, citando as fontes de tais características.\n",
    "\n",
    "\n",
    "#### Vetor de características\n",
    "\n",
    "Ao final da implementação e seleção das características, deve ser escolhida as características e então teremos um vetor com todas elas implementadas.\n",
    "\n",
    "O vetor de características estará organizado da seguinte forma (exemplo p/ VAR, RMS, RDM e MMDF):\n",
    "\n",
    "| ID sample | VAR1 | RMS1 | FMD1 | MMDF1 | VAR2 | RMS2 | FMD2 | MMDF2 | Classe |\n",
    "|:---------:|:----:|:----:|:----:|:-----:|------|------|------|-------|:------:|\n",
    "|     1     |  v1  |  v1  |  v1  |   v1  | v1   | v1   | v1   | v1    |    0   |\n",
    "|     2     |  v2  |  v2  |  v2  |   v2  | v2   | v2   | v2   | v2    |    0   |\n",
    "|    ...    |  ... |  ... |  ... |  ...  | ...  | ...  | ...  | ...   |   ...  |\n",
    "|     N     |  vN  |  vN  |  vN  |   vN  | vN   | vN   | vN   | vN    |    7   |\n",
    "\n",
    "#### Implementação do vetor\n",
    "\n"
   ]
  },
  {
   "cell_type": "code",
   "execution_count": 25,
   "metadata": {
    "ExecuteTime": {
     "end_time": "2023-11-29T20:26:16.321660001Z",
     "start_time": "2023-11-29T20:26:16.273919572Z"
    }
   },
   "outputs": [
    {
     "name": "stdout",
     "output_type": "stream",
     "text": [
      "Shape dos vetores originais (T) (F):  (28, 2, 33, 64) (28, 2, 33, 33)\n"
     ]
    },
    {
     "data": {
      "text/plain": "((28, 2, 33), (28, 2, 33), (28, 2, 33), (28, 2, 33))"
     },
     "execution_count": 25,
     "metadata": {},
     "output_type": "execute_result"
    }
   ],
   "source": [
    "# É pra implementar pros dois, mas por enquanto vou ir so com um pra n ter problemas\n",
    "x = np.load(\"datasets/participant_0_time.npy\")\n",
    "w = np.load(\"datasets/participant_0_freq.npy\")\n",
    "\n",
    "print(\"Shape dos vetores originais (T) (F): \", x.shape, w.shape)\n",
    "\n",
    "# aplicando caracteristicas\n",
    "\n",
    "# Tempo\n",
    "data_var = var(x=x)\n",
    "data_rms = rms(x=x)\n",
    "\n",
    "# Frequencia\n",
    "data_fmd = fmd(w=w)\n",
    "data_mmdf = mmdf(w=w)\n",
    "\n",
    "data_var.shape, data_rms.shape, data_fmd.shape, data_mmdf.shape\n",
    "\n",
    "# Shape dos vetores originais (T) (F):  (28, 2, 33, 64) (28, 2, 33, 33)\n",
    "# ((28, 2, 33), (28, 2, 33), (28, 2, 33), (28, 2, 33))"
   ]
  },
  {
   "cell_type": "code",
   "execution_count": 26,
   "metadata": {
    "ExecuteTime": {
     "end_time": "2023-11-29T20:26:19.467522802Z",
     "start_time": "2023-11-29T20:26:19.464122939Z"
    }
   },
   "outputs": [
    {
     "data": {
      "text/plain": "(924, 8)"
     },
     "execution_count": 26,
     "metadata": {},
     "output_type": "execute_result"
    }
   ],
   "source": [
    "# União do vetor de caracteristicas inicial\n",
    "\n",
    "features = np.array([data_var, data_rms, data_fmd, data_mmdf])\n",
    "# features.shape\n",
    "# (4, 28, 2, 33)\n",
    "\n",
    "\n",
    "# Organização das dimensoes\n",
    "# Samples precisam ser a primeira linha, 56 e 36 e dps 4 e 2\n",
    "# 33 é as janelas, as 56 a quantidades de classes, 4 é caracteristicas e 2 eletrodos também sao caracteristicas\n",
    "# ai junta os dois\n",
    "features = features.transpose(1, 3, 0, 2)\n",
    "# features.shape\n",
    "# (28, 33, 4, 2)\n",
    "\n",
    "# criar o vetor de caracteristicas definitivo\n",
    "features = features.reshape(features.shape[0] * features.shape[1],\n",
    "                            features.shape[2] * features.shape[3])\n",
    "features.shape\n",
    "# (924, 8)"
   ]
  },
  {
   "cell_type": "markdown",
   "metadata": {},
   "source": [
    "**Tarefa 3**: Aplicar normalização dos dados utilizando ferramentas ja conhecidas"
   ]
  },
  {
   "cell_type": "code",
   "execution_count": 28,
   "outputs": [
    {
     "ename": "NameError",
     "evalue": "name 'test_features' is not defined",
     "output_type": "error",
     "traceback": [
      "\u001B[0;31m---------------------------------------------------------------------------\u001B[0m",
      "\u001B[0;31mNameError\u001B[0m                                 Traceback (most recent call last)",
      "Cell \u001B[0;32mIn[28], line 11\u001B[0m\n\u001B[1;32m      8\u001B[0m normalized_features \u001B[38;5;241m=\u001B[39m scaler\u001B[38;5;241m.\u001B[39mfit_transform(features)\n\u001B[1;32m     10\u001B[0m \u001B[38;5;66;03m# Para novos dados de teste chamados test_features\u001B[39;00m\n\u001B[0;32m---> 11\u001B[0m normalized_test_features \u001B[38;5;241m=\u001B[39m scaler\u001B[38;5;241m.\u001B[39mtransform(\u001B[43mtest_features\u001B[49m)\n",
      "\u001B[0;31mNameError\u001B[0m: name 'test_features' is not defined"
     ]
    }
   ],
   "source": [
    "# aplicação de normalização\n",
    "from sklearn.preprocessing import StandardScaler\n",
    "\n",
    "# Criando o Standard\n",
    "scaler = StandardScaler()\n",
    "\n",
    "# Ajustar e transformar os dados\n",
    "normalized_features = scaler.fit_transform(features)\n",
    "\n",
    "# Para novos dados de teste chamados test_features\n",
    "normalized_test_features = scaler.transform(test_features)\n"
   ],
   "metadata": {
    "collapsed": false,
    "ExecuteTime": {
     "end_time": "2023-11-29T20:28:37.039454531Z",
     "start_time": "2023-11-29T20:28:37.026605269Z"
    }
   }
  },
  {
   "cell_type": "markdown",
   "source": [
    "**Tarefa 4**: Aplicação seleção de caracteristicas utilizando ferramentas ja conhecidas"
   ],
   "metadata": {
    "collapsed": false
   }
  },
  {
   "cell_type": "code",
   "execution_count": 17,
   "outputs": [],
   "source": [
    "# aplicação da seleção de caracteristicas\n",
    "\n",
    "# codigo"
   ],
   "metadata": {
    "collapsed": false,
    "ExecuteTime": {
     "end_time": "2023-11-29T20:11:11.297389510Z",
     "start_time": "2023-11-29T20:11:11.255468662Z"
    }
   }
  },
  {
   "cell_type": "markdown",
   "source": [
    "**Tarefa 5**: Aplicar classificação usando 'svm'"
   ],
   "metadata": {
    "collapsed": false
   }
  },
  {
   "cell_type": "code",
   "execution_count": null,
   "outputs": [],
   "source": [
    "# aplicação de classificação\n",
    "\n",
    "# codigo"
   ],
   "metadata": {
    "collapsed": false
   }
  },
  {
   "cell_type": "markdown",
   "source": [
    "## Criação do vetor de *labels*"
   ],
   "metadata": {
    "collapsed": false
   }
  },
  {
   "cell_type": "code",
   "execution_count": 18,
   "outputs": [
    {
     "data": {
      "text/plain": "924"
     },
     "execution_count": 18,
     "metadata": {},
     "output_type": "execute_result"
    }
   ],
   "source": [
    "labels_str = ['dir', 'esq', 'cima', 'baixo', 'cima', 'baixo',\n",
    "              'baixo', 'esq', 'dir', 'baixo', 'dir', 'dir', 'esq', 'cima',\n",
    "              'baixo', 'cima', 'esq', 'dir', 'cima', 'esq', 'baixo', 'esq',\n",
    "              'dir', 'esq', 'cima', 'dir', 'cima', 'baixo']\n",
    "\n",
    "# transformando em numerico\n",
    "lab_dict = {'dir':0, 'esq': 1, 'cima':2, 'baixo':3}\n",
    "labels_num = [lab_dict[item] for item in labels_str]\n",
    "\n",
    "y = labels_num * int(features.shape[0]/len(labels_num))\n",
    "len(y)\n",
    "# 924 / 28\n",
    "# 924/8, len(labels_num)"
   ],
   "metadata": {
    "collapsed": false,
    "ExecuteTime": {
     "end_time": "2023-11-29T20:11:45.692492162Z",
     "start_time": "2023-11-29T20:11:45.685007366Z"
    }
   }
  }
 ],
 "metadata": {
  "kernelspec": {
   "display_name": "venv",
   "language": "python",
   "name": "python3"
  },
  "language_info": {
   "codemirror_mode": {
    "name": "ipython",
    "version": 3
   },
   "file_extension": ".py",
   "mimetype": "text/x-python",
   "name": "python",
   "nbconvert_exporter": "python",
   "pygments_lexer": "ipython3",
   "version": "3.10.12"
  }
 },
 "nbformat": 4,
 "nbformat_minor": 2
}
