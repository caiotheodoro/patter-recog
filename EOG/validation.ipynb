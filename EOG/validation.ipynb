{
 "cells": [
  {
   "cell_type": "markdown",
   "metadata": {},
   "source": [
    "## Validação dos dados EOG\n",
    "\n",
    "Neste notebook está incluído os seguintes passos:\n",
    "- Aplicação de características;\n",
    "- Criação do vetor de características;\n",
    "- Normalização de dados;\n",
    "- Seleção de características;\n",
    "- Classificação dos dados."
   ]
  },
  {
   "cell_type": "markdown",
   "metadata": {},
   "source": [
    "Uma característica é uma propriedade individual mensurável ou característica de um fenômeno que está sendo observado. Em nosso caso de EOG, uma característica pode ser extraída no domínio do tempo ou no domínio da frequência. As características a seguir foram retiradas do artigo *EMG Feature Extraction for Tolerance of White Gaussian Noise* \\[1\\]."
   ]
  },
  {
   "cell_type": "markdown",
   "metadata": {},
   "source": [
    "#### Domínio do tempo\n",
    "\n",
    "1. Willison Amplitude (WAMP)\n",
    "\n",
    "    > $ \\sum_{i=1}^{N-1}f(|x_i - x_{i+1}|) $\n",
    "    \n",
    "    > $ f(x) = \\begin{cases} 1 & \\text{if } x \\gt threshold \\\\ 0 & \\text{otherwise} \\end{cases} $\n",
    "\n",
    "2. Variance of EMG (VAR)\n",
    "\n",
    "    > $ \\frac{1}{N-1}\\sum_{i=1}^{N}x_i^2 $\n",
    "\n",
    "3. Root Mean Square (RMS)\n",
    "\n",
    "    > $ \\sqrt{\\frac{1}{N}\\sum_{i=1}^{N}|x_i|^2} $\n",
    "\n",
    "4. Waveform Length (WL)\n",
    "    \n",
    "    > $ \\sum_{i=1}^{N-1}|x_{i+1} - x_i| $\n",
    "\n",
    "5. Zero Crossing (ZC)\n",
    "\n",
    "    > $ \\sum_{i=1}^{N}sgn(x_i) $\n",
    "    \n",
    "    > $ sgn(x) = \\begin{cases} 1 & \\text{if } x_i * x_{i+1} \\leq 0 \\\\ 0 & \\text{otherwise} \\end{cases} $"
   ]
  },
  {
   "cell_type": "markdown",
   "metadata": {},
   "source": [
    "#### Domínio da frequência\n",
    "\n",
    "1. Median Frequency (FMD)\n",
    "\n",
    "    > $ \\frac{1}{2}\\sum_{j=1}^{M}PSD_j $\n",
    "\n",
    "2. Mean Frequency (FMN)\n",
    "\n",
    "    > $\\sum_{j=1}^{M}f_j PSD_j / \\sum_{j=1}^{M}PSD_j$\n",
    "    \n",
    "    > $ f_j = j * SampleRate / 2 * M $\n",
    "\n",
    "3. Modified Median Frequency (MMDF)\n",
    "\n",
    "    > $ \\frac{1}{2}\\sum_{j=1}^{M}A_j $\n",
    "    \n",
    "    > $ A_j = Amplitude\\ do\\ espectro\\ j $\n",
    "\n",
    "4. Modified Frequency Mean (MMNF)\n",
    "\n",
    "    > $ \\sum_{j=1}^{M}f_jAj / \\sum_{j=1}^{M}Aj $\n",
    "\n",
    "\n",
    "\\[1\\] Phinyomark, Angkoon & Limsakul, Chusak & Phukpattaranont, P.. (2008). EMG Feature Extraction for Tolerance of White Gaussian Noise.\n",
    "[Disponível neste link](https://www.researchgate.net/publication/263765853_EMG_Feature_Extraction_for_Tolerance_of_White_Gaussian_Noise)\n",
    "\n",
    "**Tarefa 1**: Descrever as características de acordo com o artigo citado e outros disponíveis relacionados. O que está querendo \"ser visto\" em cada característica? Qual é o significado matemático de cada uma delas?"
   ]
  },
  {
   "cell_type": "markdown",
   "metadata": {},
   "source": [
    "#### Aplicando as características\n",
    "\n",
    "É necessário implementar as características, geralmente em formato de funções ou métodos, para que seja possível aplicar tais funções aos dados de entrada e obter as características resultantes. A seguir temos a implementação das características `VAR` & `RMS` (domínio do tempo) e `FDM` & `MMDF` (domínio da frequência)."
   ]
  },
  {
   "cell_type": "code",
   "execution_count": 615,
   "metadata": {
    "ExecuteTime": {
     "end_time": "2023-11-29T20:21:21.653473173Z",
     "start_time": "2023-11-29T20:21:21.609713134Z"
    }
   },
   "outputs": [],
   "source": [
    "from math import prod\n",
    "import numpy as np\n",
    "import scipy.signal\n",
    "\n",
    "# X dominio do tempo\n",
    "# W dominio da frequencia\n",
    "\n",
    "# funções auxiliares\n",
    "def PSD(w):\n",
    "    ''' definição da função PSD para o sinal no domínio da frequência '''\n",
    "    return np.abs(w) ** 2\n",
    "\n",
    "def log_det(x):\n",
    "    from math import e\n",
    "    return e ** (np.sum(np.log10(np.abs(x)), axis=-1) / np.prod(x.shape))\n",
    "\n",
    "# funções de extração de características\n",
    "\n",
    "# domínio do tempo:\n",
    "# ************ nao ta funcionando o que ta comentado **************\n",
    "# Característica WAMP - Willison Amplitude\n",
    "# def wamp(signal, threshold):\n",
    "#     return np.sum(np.diff(signal > threshold))\n",
    "# \n",
    "# # Característica WL - Waveform length\n",
    "# def wl(signal):\n",
    "#     return np.sum(np.abs(np.diff(signal)))\n",
    "# \n",
    "# # Característica ZC - Zero crossing\n",
    "# def zc(signal, threshold=0):\n",
    "#     return ((signal[:-1] > threshold) != (signal[1:] > threshold)).sum()\n",
    "\n",
    "# Característica VAR - Variance of EMG\n",
    "def var(x):\n",
    "    return np.sum(x ** 2, axis=-1) / (np.prod(x.shape) - 1)\n",
    "\n",
    "# Característica RMS - Root Mean Square\n",
    "def rms(x):\n",
    "    return np.sqrt(np.sum(np.abs(x) ** 2, axis=-1) / (np.prod(x.shape) - 1))\n",
    "\n",
    "# domínio da frequência:\n",
    "\n",
    "# Característica FMN - Primeiro momento normalizado\n",
    "# ************ nao ta funcionando o que ta comentado **************\n",
    "# def fmn(signal, fs):\n",
    "#     freqs, psd = scipy.signal.welch(signal, fs)\n",
    "#     return np.sum(freqs*psd) / np.sum(psd)\n",
    "# \n",
    "# # Característica MMNF - Primeiro momento normalizado médio\n",
    "# def mmnf(signal, fs):\n",
    "#     freqs, psd = scipy.signal.welch(signal, fs)\n",
    "#     return np.sum(freqs*psd) / len(psd)\n",
    "\n",
    "# Característica FMD - Median Frequency\n",
    "def fmd(w):\n",
    "    return np.sum(PSD(w), axis=-1) / 2\n",
    "\n",
    "# Característica MMDF - Modified Median Frequency\n",
    "def mmdf(w):\n",
    "    return np.sum(np.abs(w), axis=-1) / 2\n",
    "\n"
   ]
  },
  {
   "cell_type": "markdown",
   "metadata": {},
   "source": [
    "**Tarefa 2**: Implemente todas as características apresentadas neste tutorial em formato de funções. Sinta-se livre também para buscar e implementar características além das apresentadas, citando as fontes de tais características.\n",
    "\n",
    "\n",
    "#### Vetor de características\n",
    "\n",
    "Ao final da implementação e seleção das características, deve ser escolhida as características e então teremos um vetor com todas elas implementadas.\n",
    "\n",
    "O vetor de características estará organizado da seguinte forma (exemplo p/ VAR, RMS, RDM e MMDF):\n",
    "\n",
    "| ID sample | VAR1 | RMS1 | FMD1 | MMDF1 | VAR2 | RMS2 | FMD2 | MMDF2 | Classe |\n",
    "|:---------:|:----:|:----:|:----:|:-----:|------|------|------|-------|:------:|\n",
    "|     1     |  v1  |  v1  |  v1  |   v1  | v1   | v1   | v1   | v1    |    0   |\n",
    "|     2     |  v2  |  v2  |  v2  |   v2  | v2   | v2   | v2   | v2    |    0   |\n",
    "|    ...    |  ... |  ... |  ... |  ...  | ...  | ...  | ...  | ...   |   ...  |\n",
    "|     N     |  vN  |  vN  |  vN  |   vN  | vN   | vN   | vN   | vN    |    7   |\n",
    "\n",
    "#### Implementação do vetor\n",
    "\n"
   ]
  },
  {
   "cell_type": "code",
   "execution_count": 616,
   "metadata": {
    "ExecuteTime": {
     "end_time": "2023-11-29T20:26:16.321660001Z",
     "start_time": "2023-11-29T20:26:16.273919572Z"
    }
   },
   "outputs": [
    {
     "name": "stdout",
     "output_type": "stream",
     "text": [
      "Shape dos vetores originais (T) (F) participante 1:  (28, 2, 33, 64) (28, 2, 33, 33)\n",
      "Shapes VAR, RMS, FMD, MMDF: (28, 2, 33) (28, 2, 33) (28, 2, 33) (28, 2, 33)\n",
      "Shape dos vetores originais (T) (F) participante 2:  (28, 2, 33, 64) (28, 2, 33, 33)\n",
      "Shapes VAR, RMS, FMD, MMDF: (28, 2, 33) (28, 2, 33) (28, 2, 33) (28, 2, 33)\n"
     ]
    }
   ],
   "source": [
    "# É pra implementar pros dois, mas por enquanto vou ir so com um pra n ter problemas\n",
    "p_data =[[],[]]\n",
    "for i in range (2):\n",
    "        \n",
    "    x = np.load(f\"datasets/participant_{i}_time.npy\")\n",
    "    w = np.load(f\"datasets/participant_{i}_freq.npy\")\n",
    "\n",
    "\n",
    "    # aplicando caracteristicas\n",
    "\n",
    "    # Tempo\n",
    "    data_var = var(x=x)\n",
    "    data_rms = rms(x=x)\n",
    "\n",
    "    # Frequencia\n",
    "    data_fmd = fmd(w=w)\n",
    "    data_mmdf = mmdf(w=w)\n",
    "\n",
    "    p_data[i].append([data_var, data_rms, data_fmd, data_mmdf])\n",
    "\n",
    "    data_var.shape, data_rms.shape, data_fmd.shape, data_mmdf.shape\n",
    "\n",
    "    print(F\"Shape dos vetores originais (T) (F) participante {i+1}: \", x.shape, w.shape)\n",
    "    print(\"Shapes VAR, RMS, FMD, MMDF:\",p_data[i][0][0].shape, p_data[i][0][1].shape, p_data[i][0][2].shape, p_data[i][0][3].shape)\n",
    "\n",
    "# Shape dos vetores originais (T) (F):  (28, 2, 33, 64) (28, 2, 33, 33)\n",
    "# ((28, 2, 33), (28, 2, 33), (28, 2, 33), (28, 2, 33))"
   ]
  },
  {
   "cell_type": "code",
   "execution_count": 617,
   "metadata": {
    "ExecuteTime": {
     "end_time": "2023-11-29T20:26:19.467522802Z",
     "start_time": "2023-11-29T20:26:19.464122939Z"
    }
   },
   "outputs": [
    {
     "name": "stdout",
     "output_type": "stream",
     "text": [
      "(28, 33, 4, 2)\n",
      "(924, 8)\n",
      "(28, 33, 4, 2)\n",
      "(924, 8)\n"
     ]
    }
   ],
   "source": [
    "# União do vetor de caracteristicas inicial\n",
    "combined_features = [[],[]]\n",
    "for i in range(2):\n",
    "    features = np.array([p_data[i][0][0], p_data[i][0][1], p_data[i][0][2], p_data[i][0][3]])\n",
    "    features = features.transpose(1, 3, 0, 2)\n",
    "    print(features.shape)\n",
    "# Organização das dimensoes\n",
    "# Samples precisam ser a primeira linha, 56 e 36 e dps 4 e 2\n",
    "# 33 é as janelas, as 56 a quantidades de classes, 4 é caracteristicas e 2 eletrodos também sao caracteristicas\n",
    "# ai junta os dois\n",
    "# features.shape\n",
    "# (28, 33, 4, 2)\n",
    "\n",
    "    features = features.reshape(features.shape[0] * features.shape[1],\n",
    "                                features.shape[2] * features.shape[3])\n",
    "    print(features.shape)\n",
    "    combined_features[i].append(features)\n",
    "# criar o vetor de caracteristicas definitivo\n",
    "# (924, 8)"
   ]
  },
  {
   "cell_type": "markdown",
   "metadata": {},
   "source": [
    "**Tarefa 3**: Aplicar normalização dos dados utilizando ferramentas ja conhecidas"
   ]
  },
  {
   "cell_type": "code",
   "execution_count": 618,
   "metadata": {
    "ExecuteTime": {
     "end_time": "2023-11-29T20:28:37.039454531Z",
     "start_time": "2023-11-29T20:28:37.026605269Z"
    },
    "collapsed": false
   },
   "outputs": [
    {
     "name": "stdout",
     "output_type": "stream",
     "text": [
      "(924, 8) (924, 8)\n",
      "(924, 8) (924, 8)\n"
     ]
    }
   ],
   "source": [
    "# aplicação de normalização\n",
    "from sklearn.preprocessing import StandardScaler\n",
    "from matplotlib import pyplot as plt\n",
    "\n",
    "\n",
    "normalized_features = [[],[]]\n",
    "normalized_test_features = [[],[]]\n",
    "for i in range(2):\n",
    "    scaler = StandardScaler()\n",
    "\n",
    "    normalized_features[i] = scaler.fit_transform(combined_features[i][0])\n",
    "\n",
    "    normalized_test_features[i] = scaler.transform(combined_features[i][0])\n",
    "\n",
    "    print(normalized_features[i].shape, normalized_test_features[i].shape)"
   ]
  },
  {
   "cell_type": "markdown",
   "metadata": {},
   "source": [
    "## Vetor de labels"
   ]
  },
  {
   "cell_type": "code",
   "execution_count": 619,
   "metadata": {},
   "outputs": [
    {
     "name": "stdout",
     "output_type": "stream",
     "text": [
      "{0: 231, 1: 231, 2: 231, 3: 231}\n",
      "924\n",
      "{0: 231, 1: 231, 2: 231, 3: 231}\n",
      "924\n"
     ]
    }
   ],
   "source": [
    "labels_str = ['dir', 'esq', 'cima', 'baixo', 'cima', 'baixo',\n",
    "              'baixo', 'esq', 'dir', 'baixo', 'dir', 'dir', 'esq', 'cima',\n",
    "              'baixo', 'cima', 'esq', 'dir', 'cima', 'esq', 'baixo', 'esq',\n",
    "              'dir', 'esq', 'cima', 'dir', 'cima', 'baixo']\n",
    "\n",
    "# transformando em numerico\n",
    "lab_dict = {'dir':0, 'esq': 1, 'cima':2, 'baixo':3}\n",
    "labels_num = [lab_dict[item] for item in labels_str]\n",
    "\n",
    "# y = np.array([[item] * int(features.shape[0]/len(labels_num)) for item in labels_num])\n",
    "y = np.array([[item] * int(features.shape[0]/len(labels_num)) for item in labels_num])\n",
    "y = np.repeat(labels_num, [int(features.shape[0]/len(labels_num))])\n",
    "#g#group and count each unique element\n",
    "for i in range(2):\n",
    "    unique, counts = np.unique(y, return_counts=True)\n",
    "    print(dict(zip(unique, counts)))\n",
    "    print(np.sum(counts))\n",
    "# 924/8, len(labels_num)"
   ]
  },
  {
   "cell_type": "markdown",
   "metadata": {
    "collapsed": false
   },
   "source": [
    "**Tarefa 4**: Aplicação seleção de caracteristicas utilizando ferramentas ja conhecidas"
   ]
  },
  {
   "cell_type": "code",
   "execution_count": 620,
   "metadata": {
    "ExecuteTime": {
     "end_time": "2023-11-29T20:11:11.297389510Z",
     "start_time": "2023-11-29T20:11:11.255468662Z"
    },
    "collapsed": false
   },
   "outputs": [
    {
     "data": {
      "image/png": "[encoded data removed]",
      "text/plain": [
       "<Figure size 1000x500 with 2 Axes>"
      ]
     },
     "metadata": {},
     "output_type": "display_data"
    }
   ],
   "source": [
    "# aplicação da seleção de caracteristicas\n",
    "\n",
    "# codigo\n",
    "from sklearn.feature_selection import SelectKBest\n",
    "from sklearn.feature_selection import f_classif\n",
    "from sklearn.model_selection import train_test_split\n",
    "\n",
    "\n",
    "from sklearn.svm import SVC\n",
    "from sklearn.metrics import classification_report, confusion_matrix\n",
    "\n",
    "# # Selecionando as 2 melhores caracteristicas\n",
    "X_test_combined = []\n",
    "y_test_combined = []\n",
    "y_pred_combined = []\n",
    "\n",
    "fig, ax = plt.subplots(1, 2, figsize=(10, 5))\n",
    "for i in range(2):\n",
    "    selector = SelectKBest(f_classif, k=2)\n",
    "\n",
    "    # fit\n",
    "    selector.fit(normalized_features[i], y)\n",
    "    # scores\n",
    "    scores = -np.log10(selector.pvalues_)\n",
    "    \n",
    "    feat = selector.transform(normalized_features[i])\n",
    "    test_feat = selector.transform(normalized_test_features[i])\n",
    "\n",
    "    \n",
    "\n",
    "    X_train, X_test, y_train, y_test = train_test_split(feat, y, test_size=0.2, random_state=42)\n",
    "\n",
    "    plt.sca(ax[i])\n",
    "    plt.scatter(X_train[:, 0], X_train[:, 1], c=y_train) #verificando se os dados estão representados corretamente\n",
    "\n",
    "\n",
    "    clf = SVC(kernel='rbf',  gamma=0.1)\n",
    "    clf.fit(X_train, y_train)\n",
    "    y_pred = clf.predict(X_test)\n",
    "\n",
    "    X_test_combined.append(X_test)  \n",
    "    y_pred_combined.append(y_pred)\n",
    "    y_test_combined.append(y_test)\n",
    "  \n",
    "\n",
    "\n"
   ]
  },
  {
   "cell_type": "markdown",
   "metadata": {
    "collapsed": false
   },
   "source": [
    "**Tarefa 5**: Aplicar classificação usando 'svm'"
   ]
  },
  {
   "cell_type": "code",
   "execution_count": 621,
   "metadata": {
    "collapsed": false
   },
   "outputs": [
    {
     "name": "stdout",
     "output_type": "stream",
     "text": [
      "              precision    recall  f1-score   support\n",
      "\n",
      "           0       0.17      0.02      0.04        41\n",
      "           1       0.26      0.84      0.40        43\n",
      "           2       0.55      0.21      0.30        53\n",
      "           3       0.45      0.21      0.29        48\n",
      "\n",
      "    accuracy                           0.31       185\n",
      "   macro avg       0.36      0.32      0.26       185\n",
      "weighted avg       0.37      0.31      0.26       185\n",
      "\n",
      "Acuracia:  0.2864864864864865\n",
      "              precision    recall  f1-score   support\n",
      "\n",
      "           0       0.24      0.88      0.38        41\n",
      "           1       0.33      0.12      0.17        43\n",
      "           2       0.75      0.11      0.20        53\n",
      "           3       0.67      0.17      0.27        48\n",
      "\n",
      "    accuracy                           0.30       185\n",
      "   macro avg       0.50      0.32      0.25       185\n",
      "weighted avg       0.52      0.30      0.25       185\n",
      "\n",
      "Acuracia:  0.2972972972972973\n"
     ]
    }
   ],
   "source": [
    "# aplicação de classificação svm\n",
    "\n",
    "# codigo\n",
    "\n",
    "# from sklearn.svm import SVC\n",
    "# from sklearn.metrics import classification_report, confusion_matrix\n",
    "\n",
    "# clf = SVC(kernel='rbf', C=1, gamma=0.1)\n",
    "\n",
    "\n",
    "# print(features_combined[0], features_combined[1])\n",
    "# for i in range(2):\n",
    "#     # Treinando o classificador\n",
    "#     clf.fit(features_combined[i], y)\n",
    "\n",
    "#     y_pred = clf.predict(test_features_combined[i])\n",
    "\n",
    "#     print(f\"matriz de confusão participante {i+1}:\")\n",
    "#     print(confusion_matrix(y, y_pred))\n",
    "#     print(classification_report(y, y_pred))\n",
    "\n",
    "for i in range(2):\n",
    "    print(classification_report(y_test_combined[i], y_pred_combined[i]))\n",
    "    print(\"Acuracia: \", clf.score(X_test_combined[i], y_test_combined[i])) "
   ]
  },
  {
   "cell_type": "markdown",
   "metadata": {
    "collapsed": false
   },
   "source": [
    "## Criação do vetor de *labels*"
   ]
  },
  {
   "cell_type": "code",
   "execution_count": null,
   "metadata": {
    "ExecuteTime": {
     "end_time": "2023-11-29T20:11:45.692492162Z",
     "start_time": "2023-11-29T20:11:45.685007366Z"
    },
    "collapsed": false
   },
   "outputs": [],
   "source": []
  },
  {
   "cell_type": "code",
   "execution_count": null,
   "metadata": {},
   "outputs": [],
   "source": []
  }
 ],
 "metadata": {
  "kernelspec": {
   "display_name": "venv",
   "language": "python",
   "name": "python3"
  },
  "language_info": {
   "codemirror_mode": {
    "name": "ipython",
    "version": 3
   },
   "file_extension": ".py",
   "mimetype": "text/x-python",
   "name": "python",
   "nbconvert_exporter": "python",
   "pygments_lexer": "ipython3",
   "version": "3.11.6"
  }
 },
 "nbformat": 4,
 "nbformat_minor": 2
}
