{
 "cells": [
  {
   "cell_type": "markdown",
   "metadata": {},
   "source": [
    "## Classificação por isolamento de frequência\n",
    "\n",
    "Neste notebook será realizado um exemplo de classificação, isolando todas as frequências estimuladas no conjunto de dados `AVI SSVEP Single Target`. "
   ]
  },
  {
   "cell_type": "markdown",
   "metadata": {},
   "source": [
    "### Passos para a realização da classificação:\n",
    "\n",
    "1. **Carrega** o arquivo `fif` (`mne.EpochsArray`) dos dados **filtrados**;\n",
    "2. **Determine o limiar** para isolar cada uma das frequências estimuladas. Por exemplo, a faixa de frequência para o estímulo de 6.5 Hz irá resultar em pontos (`PSD`) que irão variar de 6.3 à 6.7 Hz, caso o limiar seja de 0.2 Hz;\n",
    "3. **Obter a \"energia\"** do sinal por meio do cálculo `compute_psd` para cada uma das faixas de frequência que podem ser estimuladas. Por exemplo:\n",
    "    - Obtenha todas as frequências estimuladas. Ex: 6, 6.5, 7, 7.5, 8.2 e 9.3;\n",
    "    - Obtenha o valor mínimo e o máximo para cada frequência utilizando limiar. Ex: (5.8, 6.2), (6.3, 6.7), ...\n",
    "    - Aplique o `compute_psd` para cada tupla (min, max), por meio dos parâmetros `fmin` e `fmax` do mesmo método.\n",
    "4. Com as listas de pontos isoladas e computadas (`PSD`) para cada amostra, aplique um cálculo de característica adequada. Características manuais interessantes para este exemplo podem ser `max_value`, `average` ou `median`. No fim deste passo iremos obter um **vetor de características**;\n",
    "5. Por fim, realize a **classificação**, que será um **cálculo de voto** simples (maior valor é provavelmente o a frequência evocada)."
   ]
  },
  {
   "cell_type": "markdown",
   "metadata": {},
   "source": []
  },
  {
   "cell_type": "code",
   "execution_count": 1,
   "metadata": {},
   "outputs": [
    {
     "ename": "FileNotFoundError",
     "evalue": "File does not exist: \"/home/moraski/faculdade/reconhecimento/patter-recog/SSVEP/avi/classifier/../../datasets/avi/single/sub1_run1-epo.fif\"",
     "output_type": "error",
     "traceback": [
      "\u001b[0;31m---------------------------------------------------------------------------\u001b[0m",
      "\u001b[0;31mFileNotFoundError\u001b[0m                         Traceback (most recent call last)",
      "\u001b[1;32m/home/moraski/faculdade/reconhecimento/patter-recog/SSVEP/avi/classifier/classifier_per_freq.ipynb Célula 4\u001b[0m line \u001b[0;36m1\n\u001b[1;32m     <a href='vscode-notebook-cell:/home/moraski/faculdade/reconhecimento/patter-recog/SSVEP/avi/classifier/classifier_per_freq.ipynb#W3sZmlsZQ%3D%3D?line=10'>11</a>\u001b[0m psds \u001b[39m=\u001b[39m []\n\u001b[1;32m     <a href='vscode-notebook-cell:/home/moraski/faculdade/reconhecimento/patter-recog/SSVEP/avi/classifier/classifier_per_freq.ipynb#W3sZmlsZQ%3D%3D?line=11'>12</a>\u001b[0m \u001b[39m# Isolamento das frequências\u001b[39;00m\n\u001b[1;32m     <a href='vscode-notebook-cell:/home/moraski/faculdade/reconhecimento/patter-recog/SSVEP/avi/classifier/classifier_per_freq.ipynb#W3sZmlsZQ%3D%3D?line=12'>13</a>\u001b[0m \n\u001b[1;32m     <a href='vscode-notebook-cell:/home/moraski/faculdade/reconhecimento/patter-recog/SSVEP/avi/classifier/classifier_per_freq.ipynb#W3sZmlsZQ%3D%3D?line=13'>14</a>\u001b[0m \u001b[39m# Obtenção do objeto mne.EpochArray\u001b[39;00m\n\u001b[0;32m---> <a href='vscode-notebook-cell:/home/moraski/faculdade/reconhecimento/patter-recog/SSVEP/avi/classifier/classifier_per_freq.ipynb#W3sZmlsZQ%3D%3D?line=15'>16</a>\u001b[0m epochs \u001b[39m=\u001b[39m mne\u001b[39m.\u001b[39;49mread_epochs(\u001b[39m\"\u001b[39;49m\u001b[39m../../datasets/avi/single/sub1_run1-epo.fif\u001b[39;49m\u001b[39m\"\u001b[39;49m)\n\u001b[1;32m     <a href='vscode-notebook-cell:/home/moraski/faculdade/reconhecimento/patter-recog/SSVEP/avi/classifier/classifier_per_freq.ipynb#W3sZmlsZQ%3D%3D?line=17'>18</a>\u001b[0m \u001b[39m# Isolamento das frequências\u001b[39;00m\n\u001b[1;32m     <a href='vscode-notebook-cell:/home/moraski/faculdade/reconhecimento/patter-recog/SSVEP/avi/classifier/classifier_per_freq.ipynb#W3sZmlsZQ%3D%3D?line=19'>20</a>\u001b[0m \u001b[39mfor\u001b[39;00m freq \u001b[39min\u001b[39;00m freqs:\n\u001b[1;32m     <a href='vscode-notebook-cell:/home/moraski/faculdade/reconhecimento/patter-recog/SSVEP/avi/classifier/classifier_per_freq.ipynb#W3sZmlsZQ%3D%3D?line=20'>21</a>\u001b[0m     \u001b[39m# Obtenção do valor mínimo e máximo\u001b[39;00m\n",
      "File \u001b[0;32m<decorator-gen-290>:12\u001b[0m, in \u001b[0;36mread_epochs\u001b[0;34m(fname, proj, preload, verbose)\u001b[0m\n",
      "File \u001b[0;32m~/.local/lib/python3.10/site-packages/mne/epochs.py:3722\u001b[0m, in \u001b[0;36mread_epochs\u001b[0;34m(fname, proj, preload, verbose)\u001b[0m\n\u001b[1;32m   3704\u001b[0m \u001b[39m@verbose\u001b[39m\n\u001b[1;32m   3705\u001b[0m \u001b[39mdef\u001b[39;00m \u001b[39mread_epochs\u001b[39m(fname, proj\u001b[39m=\u001b[39m\u001b[39mTrue\u001b[39;00m, preload\u001b[39m=\u001b[39m\u001b[39mTrue\u001b[39;00m, verbose\u001b[39m=\u001b[39m\u001b[39mNone\u001b[39;00m):\n\u001b[1;32m   3706\u001b[0m     \u001b[39m\"\"\"Read epochs from a fif file.\u001b[39;00m\n\u001b[1;32m   3707\u001b[0m \n\u001b[1;32m   3708\u001b[0m \u001b[39m    Parameters\u001b[39;00m\n\u001b[0;32m   (...)\u001b[0m\n\u001b[1;32m   3720\u001b[0m \u001b[39m        The epochs.\u001b[39;00m\n\u001b[1;32m   3721\u001b[0m \u001b[39m    \"\"\"\u001b[39;00m\n\u001b[0;32m-> 3722\u001b[0m     \u001b[39mreturn\u001b[39;00m EpochsFIF(fname, proj, preload, verbose)\n",
      "File \u001b[0;32m<decorator-gen-291>:12\u001b[0m, in \u001b[0;36m__init__\u001b[0;34m(self, fname, proj, preload, verbose)\u001b[0m\n",
      "File \u001b[0;32m~/.local/lib/python3.10/site-packages/mne/epochs.py:3771\u001b[0m, in \u001b[0;36mEpochsFIF.__init__\u001b[0;34m(self, fname, proj, preload, verbose)\u001b[0m\n\u001b[1;32m   3765\u001b[0m \u001b[39mif\u001b[39;00m _path_like(fname):\n\u001b[1;32m   3766\u001b[0m     check_fname(\n\u001b[1;32m   3767\u001b[0m         fname\u001b[39m=\u001b[39mfname,\n\u001b[1;32m   3768\u001b[0m         filetype\u001b[39m=\u001b[39m\u001b[39m\"\u001b[39m\u001b[39mepochs\u001b[39m\u001b[39m\"\u001b[39m,\n\u001b[1;32m   3769\u001b[0m         endings\u001b[39m=\u001b[39m(\u001b[39m\"\u001b[39m\u001b[39m-epo.fif\u001b[39m\u001b[39m\"\u001b[39m, \u001b[39m\"\u001b[39m\u001b[39m-epo.fif.gz\u001b[39m\u001b[39m\"\u001b[39m, \u001b[39m\"\u001b[39m\u001b[39m_epo.fif\u001b[39m\u001b[39m\"\u001b[39m, \u001b[39m\"\u001b[39m\u001b[39m_epo.fif.gz\u001b[39m\u001b[39m\"\u001b[39m),\n\u001b[1;32m   3770\u001b[0m     )\n\u001b[0;32m-> 3771\u001b[0m     fname \u001b[39m=\u001b[39m \u001b[39mstr\u001b[39m(_check_fname(fname\u001b[39m=\u001b[39;49mfname, must_exist\u001b[39m=\u001b[39;49m\u001b[39mTrue\u001b[39;49;00m, overwrite\u001b[39m=\u001b[39;49m\u001b[39m\"\u001b[39;49m\u001b[39mread\u001b[39;49m\u001b[39m\"\u001b[39;49m))\n\u001b[1;32m   3772\u001b[0m \u001b[39melif\u001b[39;00m \u001b[39mnot\u001b[39;00m preload:\n\u001b[1;32m   3773\u001b[0m     \u001b[39mraise\u001b[39;00m \u001b[39mValueError\u001b[39;00m(\u001b[39m\"\u001b[39m\u001b[39mpreload must be used with file-like objects\u001b[39m\u001b[39m\"\u001b[39m)\n",
      "File \u001b[0;32m<decorator-gen-0>:12\u001b[0m, in \u001b[0;36m_check_fname\u001b[0;34m(fname, overwrite, must_exist, name, need_dir, verbose)\u001b[0m\n",
      "File \u001b[0;32m~/.local/lib/python3.10/site-packages/mne/utils/check.py:261\u001b[0m, in \u001b[0;36m_check_fname\u001b[0;34m(fname, overwrite, must_exist, name, need_dir, verbose)\u001b[0m\n\u001b[1;32m    259\u001b[0m             \u001b[39mraise\u001b[39;00m \u001b[39mPermissionError\u001b[39;00m(\u001b[39mf\u001b[39m\u001b[39m\"\u001b[39m\u001b[39m{\u001b[39;00mname\u001b[39m}\u001b[39;00m\u001b[39m does not have read permissions: \u001b[39m\u001b[39m{\u001b[39;00mfname\u001b[39m}\u001b[39;00m\u001b[39m\"\u001b[39m)\n\u001b[1;32m    260\u001b[0m \u001b[39melif\u001b[39;00m must_exist:\n\u001b[0;32m--> 261\u001b[0m     \u001b[39mraise\u001b[39;00m \u001b[39mFileNotFoundError\u001b[39;00m(\u001b[39mf\u001b[39m\u001b[39m'\u001b[39m\u001b[39m{\u001b[39;00mname\u001b[39m}\u001b[39;00m\u001b[39m does not exist: \u001b[39m\u001b[39m\"\u001b[39m\u001b[39m{\u001b[39;00mfname\u001b[39m}\u001b[39;00m\u001b[39m\"\u001b[39m\u001b[39m'\u001b[39m)\n\u001b[1;32m    263\u001b[0m \u001b[39mreturn\u001b[39;00m fname\n",
      "\u001b[0;31mFileNotFoundError\u001b[0m: File does not exist: \"/home/moraski/faculdade/reconhecimento/patter-recog/SSVEP/avi/classifier/../../datasets/avi/single/sub1_run1-epo.fif\""
     ]
    }
   ],
   "source": [
    "import mne\n",
    "import numpy as np\n",
    "\n",
    "# Definição das frequências de estimulação\n",
    "\n",
    "freqs = np.array([6, 6.5, 7, 7.5, 8.2, 9.3])\n",
    "\n",
    "# Definição do limiar\n",
    "\n",
    "threshold = 0.2\n",
    "psds = []\n",
    "# Isolamento das frequências\n",
    "\n",
    "# Obtenção do objeto mne.EpochArray\n",
    "\n",
    "epochs = mne.read_epochs(\"../../datasets/avi/single/sub1_run1-epo.fif\")\n",
    "\n",
    "# Isolamento das frequências\n",
    "\n",
    "for freq in freqs:\n",
    "    # Obtenção do valor mínimo e máximo\n",
    "    min_freq = freq - threshold\n",
    "    max_freq = freq + threshold\n",
    "\n",
    "    # Filtragem dos dados\n",
    "    epochs_filtered = epochs.filter_data(low_cut=min_freq, high_cut=max_freq)\n",
    "\n",
    "    # Cálculo do PSD\n",
    "    psd = epochs_filtered.psd(tmin=0, tmax=0.5, fmin=min_freq, fmax=max_freq)\n",
    "\n",
    "    # Armazenamento dos resultados\n",
    "    psds[freq] = psd\n",
    "\n",
    "# Cálculo das características\n",
    "\n",
    "features = []\n",
    "for freq in freqs:\n",
    "    # Características manuais\n",
    "    features.append(psds[freq].max())\n",
    "    features.append(psds[freq].mean())\n",
    "    features.append(psds[freq].median())\n",
    "\n",
    "# Classificação\n",
    "\n",
    "clf = LogisticRegression(solver='lbfgs', max_iter=1000)\n",
    "clf.fit(features, y)\n",
    "\n",
    "# Avaliação\n",
    "\n",
    "score = clf.score(features, y)\n",
    "\n",
    "print('Score do modelo: %.2f' % score)"
   ]
  },
  {
   "cell_type": "code",
   "execution_count": null,
   "metadata": {},
   "outputs": [],
   "source": []
  }
 ],
 "metadata": {
  "kernelspec": {
   "display_name": "Python 3",
   "language": "python",
   "name": "python3"
  },
  "language_info": {
   "codemirror_mode": {
    "name": "ipython",
    "version": 3
   },
   "file_extension": ".py",
   "mimetype": "text/x-python",
   "name": "python",
   "nbconvert_exporter": "python",
   "pygments_lexer": "ipython3",
   "version": "3.10.12"
  },
  "orig_nbformat": 4
 },
 "nbformat": 4,
 "nbformat_minor": 2
}
