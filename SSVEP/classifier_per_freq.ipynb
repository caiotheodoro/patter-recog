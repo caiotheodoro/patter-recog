{
 "cells": [
  {
   "cell_type": "markdown",
   "metadata": {},
   "source": [
    "## Classificação por isolamento de frequência\n",
    "\n",
    "Neste notebook será realizado um exemplo de classificação, isolando todas as frequências estimuladas no conjunto de dados `AVI SSVEP Single Target`. "
   ]
  },
  {
   "cell_type": "markdown",
   "metadata": {},
   "source": [
    "### Passos para a realização da classificação:\n",
    "\n",
    "1. **Carrega** o arquivo `fif` (`mne.EpochsArray`) dos dados **filtrados**;\n",
    "2. **Determine o limiar** para isolar cada uma das frequências estimuladas. Por exemplo, a faixa de frequência para o estímulo de 6.5 Hz irá resultar em pontos (`PSD`) que irão variar de 6.3 à 6.7 Hz, caso o limiar seja de 0.2 Hz;\n",
    "3. **Obter a \"energia\"** do sinal por meio do cálculo `compute_psd` para cada uma das faixas de frequência que podem ser estimuladas. Por exemplo:\n",
    "    - Obtenha todas as frequências estimuladas. Ex: 6, 6.5, 7, 7.5, 8.2 e 9.3;\n",
    "    - Obtenha o valor mínimo e o máximo para cada frequência utilizando limiar. Ex: (5.8, 6.2), (6.3, 6.7), ...\n",
    "    - Aplique o `compute_psd` para cada tupla (min, max), por meio dos parâmetros `fmin` e `fmax` do mesmo método.\n",
    "4. Com as listas de pontos isoladas e computadas (`PSD`) para cada amostra, aplique um cálculo de característica adequada. Características manuais interessantes para este exemplo podem ser `max_value`, `average` ou `median`. No fim deste passo iremos obter um **vetor de características**;\n",
    "5. Por fim, realize a **classificação**, que será um **cálculo de voto** simples (maior valor é provavelmente o a frequência evocada)."
   ]
  },
  {
   "cell_type": "markdown",
   "metadata": {},
   "source": []
  },
  {
   "cell_type": "code",
   "execution_count": 19,
   "metadata": {},
   "outputs": [
    {
     "name": "stdout",
     "output_type": "stream",
     "text": [
      "Reading c:\\Users\\caio-\\Documents\\facul\\patter-recog\\SSVEP\\datasets\\avi\\single\\sub1_combined-raw.fif ...\n",
      "Isotrak not found\n",
      "    Found the data of interest:\n",
      "        t =       0.00 ...   29998.05 ms\n",
      "        0 CTF compensation matrices available\n",
      "Not setting metadata\n",
      "84 matching events found\n",
      "No baseline correction applied\n",
      "0 projection items activated\n"
     ]
    },
    {
     "name": "stderr",
     "output_type": "stream",
     "text": [
      "C:\\Users\\caio-\\AppData\\Local\\Temp\\ipykernel_9380\\1878604750.py:6: RuntimeWarning: This filename (datasets/avi/single/sub1_combined-raw.fif) does not conform to MNE naming conventions. All epochs files should end with -epo.fif, -epo.fif.gz, _epo.fif or _epo.fif.gz\n",
      "  epochs = mne.read_epochs(file_path, preload=True)\n"
     ]
    },
    {
     "name": "stdout",
     "output_type": "stream",
     "text": [
      "(84, 7, 1, 1, 15)\n",
      "[10.  10.  10.   6.5  6.5  6.5  6.   6.   6.   7.5  7.5  7.5  7.   7.\n",
      "  7.   8.2  8.2  8.2  9.3  9.3  9.3 10.  10.  10.   6.5  6.5  6.5  6.\n",
      "  6.   6.   7.5  7.5  7.5  7.   7.   7.   8.2  8.2  8.2  9.3  9.3  9.3\n",
      " 10.  10.  10.   6.5  6.5  6.5  6.   6.   6.   7.5  7.5  7.5  7.   7.\n",
      "  7.   8.2  8.2  8.2  9.3  9.3  9.3 10.  10.  10.   6.5  6.5  6.5  6.\n",
      "  6.   6.   7.5  7.5  7.5  7.   7.   7.   8.2  8.2  8.2  9.3  9.3  9.3] (84,)\n",
      "Acuracia: 85.71428571428571%\n"
     ]
    }
   ],
   "source": [
    "import mne\n",
    "import numpy as np\n",
    "\n",
    "file_path = \"datasets/avi/single/sub1_combined-raw.fif\"\n",
    "\n",
    "epochs = mne.read_epochs(file_path, preload=True)\n",
    "\n",
    "threshold = 0.25\n",
    "\n",
    "\n",
    "\n",
    "psd_values = []\n",
    "\n",
    "targets = [float(item) for item in epochs.event_id.keys()]\n",
    "\n",
    "features = list()\n",
    "## passo 3: computar PSD para cada frequencia\n",
    "\n",
    "\n",
    "for i in range(len(epochs)):\n",
    "    sample = list()\n",
    "    for freq in targets:\n",
    "        # filtra os dados para a faixa de frequencia \n",
    "        fmin = freq - threshold\n",
    "        fmax = freq + threshold\n",
    "        sample.append(epochs[i].compute_psd(fmin=fmin, fmax=fmax,verbose=False)[0][0])\n",
    "    features.append(sample)\n",
    "\n",
    "X = np.array(features)\n",
    "print(X.shape)\n",
    "# passo 4: extrair recursos dos valores PSD\n",
    "X = X.reshape((X.shape[0], X.shape[1], X.shape[-1]))\n",
    "\n",
    "max_values = np.max(X, axis=-1)\n",
    "max_values.shape\n",
    "\n",
    "#passo 5: classificar os vetores de recursos\n",
    "file_path = \"datasets/avi/single/labels_sub1.npy\"\n",
    "y = np.load(file_path).flatten()\n",
    "print(y, y.shape)\n",
    "\n",
    "\n",
    "i_max = np.argmax(max_values, axis=-1)\n",
    "hits = [1 for i in range(len(i_max)) if targets[i_max[i]] == y[i]]\n",
    "acc = 100 * sum(hits) / len(y)\n",
    "print(\"Acuracia: {}%\".format(acc))\n",
    "\n",
    "\n",
    "\n",
    "\n"
   ]
  },
  {
   "cell_type": "code",
   "execution_count": 36,
   "metadata": {},
   "outputs": [
    {
     "name": "stdout",
     "output_type": "stream",
     "text": [
      "Reading c:\\Users\\caio-\\Documents\\facul\\patter-recog\\SSVEP\\datasets\\avi\\multi\\sub1_combined-raw.fif ...\n",
      "Isotrak not found\n",
      "    Found the data of interest:\n",
      "        t =       0.00 ...   15998.05 ms\n",
      "        0 CTF compensation matrices available\n",
      "Not setting metadata\n",
      "100 matching events found\n",
      "No baseline correction applied\n",
      "0 projection items activated\n"
     ]
    },
    {
     "name": "stderr",
     "output_type": "stream",
     "text": [
      "C:\\Users\\caio-\\AppData\\Local\\Temp\\ipykernel_9380\\2366082550.py:3: RuntimeWarning: This filename (datasets/avi/multi/sub1_combined-raw.fif) does not conform to MNE naming conventions. All epochs files should end with -epo.fif, -epo.fif.gz, _epo.fif or _epo.fif.gz\n",
      "  epochs = mne.read_epochs(file_path, preload=True)\n"
     ]
    },
    {
     "name": "stdout",
     "output_type": "stream",
     "text": [
      "Possíveis alvos: [6.0, 6.5, 7.0, 7.5, 8.2, 9.3]\n",
      "(100, 1, 8192)\n",
      "[[array([1.1178052e-13]), array([1.12980102e-13]), array([7.32827884e-14]), array([6.86633335e-14]), array([5.27288481e-14]), array([4.16861107e-14])], [array([9.32291192e-14]), array([4.12354286e-14]), array([2.37511648e-14]), array([2.55264483e-14]), array([1.32305009e-14]), array([1.09922272e-14])], [array([6.36277797e-14]), array([3.37586689e-14]), array([1.97554232e-14]), array([1.93213479e-14]), array([1.67122958e-14]), array([1.85379494e-14])], [array([8.56973644e-14]), array([6.34650119e-14]), array([5.4230604e-14]), array([4.0468772e-14]), array([3.70689711e-14]), array([3.83915855e-14])], [array([3.88790036e-14]), array([2.24382093e-14]), array([2.24457246e-14]), array([1.5781771e-14]), array([1.46054921e-14]), array([9.7379978e-15])], [array([6.68503002e-14]), array([6.92409557e-14]), array([5.28482081e-14]), array([3.90839475e-14]), array([3.29165866e-14]), array([2.54911459e-14])], [array([6.65483412e-14]), array([4.27785093e-14]), array([3.62868107e-14]), array([3.33987891e-14]), array([3.06745982e-14]), array([2.91371692e-14])], [array([7.09912328e-14]), array([2.60935378e-14]), array([1.72986054e-14]), array([1.06828502e-14]), array([7.84034798e-15]), array([8.63723643e-15])], [array([8.13453037e-14]), array([6.81604991e-14]), array([5.02944476e-14]), array([3.9963256e-14]), array([3.47068851e-14]), array([2.44355453e-14])], [array([2.45657566e-13]), array([2.52210272e-13]), array([2.0427326e-13]), array([1.60877671e-13]), array([1.38116817e-13]), array([1.11101679e-13])], [array([4.51410771e-13]), array([3.35022367e-13]), array([3.05230003e-13]), array([2.55445865e-13]), array([1.86922328e-13]), array([1.49293936e-13])], [array([3.64655673e-13]), array([2.81029287e-13]), array([2.63957076e-13]), array([2.23178391e-13]), array([1.99404821e-13]), array([1.86223859e-13])], [array([8.41817857e-13]), array([6.91685023e-13]), array([6.06335904e-13]), array([4.91283853e-13]), array([4.38624121e-13]), array([3.3341204e-13])], [array([4.69117111e-14]), array([3.57127427e-14]), array([2.49833557e-14]), array([1.86306229e-14]), array([1.86491314e-14]), array([1.92208111e-14])], [array([1.22053203e-12]), array([1.01707716e-12]), array([8.56923485e-13]), array([7.30520215e-13]), array([6.05757047e-13]), array([4.79961477e-13])], [array([4.35931062e-14]), array([2.2920678e-14]), array([1.10287616e-14]), array([1.01000131e-14]), array([5.05988454e-15]), array([3.64268222e-15])], [array([3.97384477e-14]), array([2.73141606e-14]), array([1.39618971e-14]), array([1.41626507e-14]), array([1.01562206e-14]), array([9.75341257e-15])], [array([5.75651209e-13]), array([4.55938585e-13]), array([4.03241729e-13]), array([3.31078576e-13]), array([2.94203044e-13]), array([2.3403841e-13])], [array([1.15385179e-13]), array([8.14638094e-14]), array([7.50268215e-14]), array([3.73418763e-14]), array([3.54225874e-14]), array([2.58920095e-14])], [array([6.19213017e-14]), array([5.10083969e-14]), array([4.63609095e-14]), array([3.34611086e-14]), array([3.03633216e-14]), array([3.17047475e-14])], [array([3.71171947e-13]), array([1.89518805e-13]), array([1.78657782e-13]), array([1.12794541e-13]), array([7.5312317e-14]), array([6.57719353e-14])], [array([2.12679278e-13]), array([1.37041019e-13]), array([6.33470208e-14]), array([4.02205918e-14]), array([2.95140429e-14]), array([1.99288822e-14])], [array([2.7034898e-13]), array([9.94996508e-14]), array([8.22291345e-14]), array([7.96279745e-14]), array([4.70178355e-14]), array([3.83521618e-14])], [array([2.67722324e-13]), array([2.7666056e-13]), array([1.81531211e-13]), array([1.25316268e-13]), array([1.08696953e-13]), array([9.23659699e-14])], [array([3.21533274e-13]), array([1.75532685e-13]), array([1.60159324e-13]), array([7.55741403e-14]), array([7.91822427e-14]), array([6.2144258e-14])], [array([3.29926368e-13]), array([1.6434372e-13]), array([1.19281345e-13]), array([8.34102945e-14]), array([5.56312795e-14]), array([5.69926865e-14])], [array([2.78564089e-13]), array([1.82448835e-13]), array([1.57493742e-13]), array([1.19356925e-13]), array([1.07539204e-13]), array([1.00424893e-13])], [array([3.52757158e-13]), array([2.7417291e-13]), array([1.91721468e-13]), array([1.97211405e-13]), array([1.35338623e-13]), array([1.06503447e-13])], [array([2.99645893e-13]), array([7.77223104e-14]), array([4.45573148e-14]), array([2.93393674e-14]), array([2.18513514e-14]), array([1.61758464e-14])], [array([7.057898e-13]), array([5.16406188e-13]), array([4.07293819e-13]), array([4.0724426e-13]), array([2.81607223e-13]), array([2.20228065e-13])], [array([4.12898005e-13]), array([3.3498392e-13]), array([1.70585639e-13]), array([1.18949099e-13]), array([1.03778066e-13]), array([8.7652719e-14])], [array([3.42500611e-13]), array([2.10704391e-13]), array([1.26972332e-13]), array([9.08116046e-14]), array([6.71179134e-14]), array([5.03650966e-14])], [array([2.98139769e-13]), array([9.7213308e-14]), array([1.13681101e-13]), array([7.84825684e-14]), array([5.34942678e-14]), array([4.28537232e-14])], [array([5.64550501e-13]), array([3.27054027e-13]), array([2.60414075e-13]), array([2.26261412e-13]), array([1.81810718e-13]), array([1.22168215e-13])], [array([1.01417106e-12]), array([6.16500265e-13]), array([5.61131162e-13]), array([4.39811388e-13]), array([3.94614218e-13]), array([3.10694899e-13])], [array([1.27034375e-13]), array([1.10927412e-13]), array([7.17551766e-14]), array([2.86463845e-14]), array([1.64156595e-14]), array([8.89191434e-15])], [array([2.30786349e-13]), array([8.31417319e-14]), array([5.43396581e-14]), array([3.96160238e-14]), array([1.43027876e-14]), array([7.67121718e-15])], [array([6.0542937e-13]), array([4.0861031e-13]), array([3.60198679e-13]), array([3.50481118e-13]), array([2.5604199e-13]), array([2.00100911e-13])], [array([3.78486428e-13]), array([1.81418167e-13]), array([1.29036558e-13]), array([9.52106333e-14]), array([6.32050228e-14]), array([6.92116212e-14])], [array([4.25095785e-13]), array([2.53378594e-13]), array([1.77242694e-13]), array([1.18003267e-13]), array([8.58378259e-14]), array([7.81408593e-14])], [array([6.55065949e-13]), array([5.71259534e-13]), array([4.17550511e-13]), array([3.65098502e-13]), array([2.70237218e-13]), array([2.06221191e-13])], [array([1.05359347e-13]), array([7.11343156e-14]), array([4.30520754e-14]), array([3.26991346e-14]), array([1.97813611e-14]), array([1.07587628e-14])], [array([9.47630018e-14]), array([4.21761541e-14]), array([3.4193657e-14]), array([2.2777898e-14]), array([7.9541226e-15]), array([1.95304981e-15])], [array([1.90639434e-13]), array([6.56072314e-14]), array([4.48504025e-14]), array([2.09095423e-14]), array([1.54166644e-14]), array([7.11917522e-15])], [array([4.4753589e-13]), array([3.10814298e-13]), array([1.67401566e-13]), array([1.36415765e-13]), array([1.27548978e-13]), array([1.05891793e-13])], [array([2.00434544e-13]), array([6.35633063e-14]), array([4.72235374e-14]), array([2.53673678e-14]), array([2.47498998e-14]), array([1.35328641e-14])], [array([1.52109514e-13]), array([5.23836659e-14]), array([3.34420817e-14]), array([2.18453879e-14]), array([1.65100288e-14]), array([8.54585738e-15])], [array([1.64149221e-13]), array([5.19637258e-14]), array([7.34961272e-14]), array([2.78637568e-14]), array([2.53023362e-14]), array([1.41404689e-14])], [array([1.69450755e-13]), array([4.66819984e-14]), array([3.50835883e-14]), array([3.39006528e-14]), array([1.87989972e-14]), array([1.25167225e-14])], [array([3.27023461e-13]), array([1.22296234e-13]), array([1.08969629e-13]), array([6.6210684e-14]), array([5.04684649e-14]), array([3.82274534e-14])], [array([3.39845957e-13]), array([1.10998979e-13]), array([1.08913698e-13]), array([1.0486648e-13]), array([6.35432719e-14]), array([4.37036547e-14])], [array([4.78753702e-13]), array([2.74709406e-13]), array([2.08766226e-13]), array([2.0480022e-13]), array([1.56398239e-13]), array([1.19088667e-13])], [array([2.14800664e-13]), array([1.06378124e-13]), array([1.03277907e-13]), array([5.65209368e-14]), array([3.18636523e-14]), array([2.46888626e-14])], [array([1.08829462e-13]), array([6.08695491e-14]), array([3.61327954e-14]), array([2.45579528e-14]), array([1.23392636e-14]), array([8.35332503e-15])], [array([1.42317447e-13]), array([4.81203233e-14]), array([5.32091283e-14]), array([2.5389605e-14]), array([1.61790822e-14]), array([1.09888607e-14])], [array([2.18279266e-13]), array([7.38659358e-14]), array([4.63471896e-14]), array([2.49589384e-14]), array([1.34564852e-14]), array([6.97183449e-15])], [array([1.52382209e-13]), array([9.31053157e-14]), array([3.4607093e-14]), array([2.15729626e-14]), array([1.7026506e-14]), array([7.06432085e-15])], [array([1.11002845e-13]), array([9.34704096e-14]), array([3.42945153e-14]), array([3.82715684e-14]), array([1.53514527e-14]), array([6.93505489e-15])], [array([9.54901529e-14]), array([6.06717387e-14]), array([2.02120754e-14]), array([1.40943101e-14]), array([7.28919797e-15]), array([3.99117563e-15])], [array([1.84952233e-13]), array([1.75826112e-13]), array([9.61813011e-14]), array([5.58230389e-14]), array([4.77879693e-14]), array([3.14520691e-14])], [array([2.80033266e-13]), array([2.00770701e-13]), array([1.5083306e-13]), array([1.41781824e-13]), array([1.14539419e-13]), array([9.41318495e-14])], [array([3.05614381e-13]), array([1.53283307e-13]), array([1.3368882e-13]), array([1.06776526e-13]), array([8.92903071e-14]), array([7.41343541e-14])], [array([1.53450961e-13]), array([7.78908009e-14]), array([6.01181301e-14]), array([3.9504632e-14]), array([3.13696257e-14]), array([2.28594825e-14])], [array([1.0095421e-13]), array([4.61766642e-14]), array([3.18265508e-14]), array([2.06552923e-14]), array([1.03596405e-14]), array([8.56189553e-15])], [array([8.20351908e-14]), array([5.57474339e-14]), array([3.31754544e-14]), array([3.22120812e-14]), array([2.28953421e-14]), array([2.54460447e-14])], [array([1.03564234e-13]), array([6.63607096e-14]), array([4.32750476e-14]), array([4.681399e-14]), array([3.76547328e-14]), array([2.81825565e-14])], [array([5.61377644e-14]), array([2.985525e-14]), array([2.08728544e-14]), array([1.58228156e-14]), array([1.10662089e-14]), array([7.76498045e-15])], [array([2.18715644e-13]), array([2.13242602e-13]), array([1.34624255e-13]), array([1.10600989e-13]), array([1.01733135e-13]), array([7.97893618e-14])], [array([1.17450429e-13]), array([6.53725678e-14]), array([6.88017462e-14]), array([5.82119853e-14]), array([4.70403472e-14]), array([4.40768465e-14])], [array([2.76626083e-13]), array([2.04525136e-13]), array([1.61253463e-13]), array([1.51023884e-13]), array([1.21390622e-13]), array([9.19481358e-14])], [array([1.4298595e-13]), array([7.39923444e-14]), array([4.16161274e-14]), array([4.21011406e-14]), array([2.10446912e-14]), array([1.81577948e-14])], [array([2.06844663e-13]), array([8.34504654e-14]), array([6.75612571e-14]), array([3.70600851e-14]), array([2.82346947e-14]), array([3.04913891e-14])], [array([1.37346396e-13]), array([4.71948664e-14]), array([2.36980009e-14]), array([2.53326778e-14]), array([1.24416649e-14]), array([7.32346977e-15])], [array([2.0740793e-13]), array([1.2581623e-13]), array([9.09533799e-14]), array([8.94228647e-14]), array([6.1589578e-14]), array([5.864576e-14])], [array([2.51535245e-13]), array([1.09159032e-13]), array([7.02312395e-14]), array([5.33714028e-14]), array([4.29189245e-14]), array([3.60615993e-14])], [array([8.78318148e-13]), array([6.46108836e-13]), array([5.92322129e-13]), array([4.56336535e-13]), array([3.7057395e-13]), array([2.85251463e-13])], [array([2.57061604e-13]), array([9.79173756e-14]), array([1.13487223e-13]), array([5.56144321e-14]), array([5.26970604e-14]), array([4.6427149e-14])], [array([1.17255414e-13]), array([7.65375789e-14]), array([4.5885338e-14]), array([4.26534208e-14]), array([2.79848063e-14]), array([2.76159871e-14])], [array([1.92061213e-13]), array([4.81301212e-14]), array([3.89143784e-14]), array([2.35670424e-14]), array([2.26450412e-14]), array([1.37112479e-14])], [array([6.68733423e-14]), array([5.3187141e-14]), array([3.10867842e-14]), array([3.23431182e-14]), array([1.67607803e-14]), array([1.16997049e-14])], [array([8.87868187e-14]), array([3.18602143e-14]), array([2.34738434e-14]), array([1.42076164e-14]), array([9.00693498e-15]), array([6.756399e-15])], [array([6.02515668e-14]), array([1.82012391e-14]), array([7.97113422e-15]), array([5.22812776e-15]), array([2.01601509e-15]), array([8.92544494e-16])], [array([3.39809143e-14]), array([3.1599646e-14]), array([1.61331057e-14]), array([1.14658894e-14]), array([9.02244778e-15]), array([8.3361825e-15])], [array([2.71747233e-13]), array([2.23753386e-13]), array([1.86892482e-13]), array([1.70209366e-13]), array([1.25830882e-13]), array([1.04626832e-13])], [array([6.8043429e-14]), array([2.87123708e-14]), array([1.7509248e-14]), array([1.09638612e-14]), array([1.20864632e-14]), array([1.20779384e-14])], [array([6.0463247e-14]), array([3.21095829e-14]), array([1.87891644e-14]), array([1.00346784e-14]), array([7.83316958e-15]), array([4.17695518e-15])], [array([9.26578856e-14]), array([6.12365445e-14]), array([4.32771762e-14]), array([3.71254363e-14]), array([2.80045534e-14]), array([1.89856697e-14])], [array([1.25384578e-13]), array([8.55026399e-14]), array([7.49555674e-14]), array([6.70891025e-14]), array([5.36312738e-14]), array([4.44917597e-14])], [array([6.60134391e-14]), array([4.36073178e-14]), array([2.38752577e-14]), array([1.78462504e-14]), array([1.24739076e-14]), array([1.14681446e-14])], [array([1.41689973e-13]), array([1.36768223e-13]), array([9.07760708e-14]), array([7.38309426e-14]), array([5.46395927e-14]), array([4.07242741e-14])], [array([3.04031436e-13]), array([2.36952569e-13]), array([1.89845465e-13]), array([1.76018894e-13]), array([1.26410812e-13]), array([1.06165461e-13])], [array([8.9449657e-14]), array([9.19363977e-14]), array([6.76431755e-14]), array([5.32542079e-14]), array([4.13471119e-14]), array([3.10453828e-14])], [array([7.57997949e-14]), array([6.18740517e-14]), array([5.25684397e-14]), array([4.29628284e-14]), array([3.58517763e-14]), array([2.61985672e-14])], [array([2.95103072e-14]), array([2.9841705e-14]), array([1.32340272e-14]), array([7.08264061e-15]), array([4.13501306e-15]), array([3.95093263e-15])], [array([3.66889713e-13]), array([2.62046554e-13]), array([2.3515018e-13]), array([1.92774298e-13]), array([1.48731587e-13]), array([1.25463756e-13])], [array([9.47802337e-14]), array([6.62597982e-14]), array([6.77263664e-14]), array([5.55215053e-14]), array([3.63945798e-14]), array([3.05596708e-14])], [array([1.00517747e-13]), array([6.59889176e-14]), array([7.18303464e-14]), array([4.67848568e-14]), array([4.57995195e-14]), array([4.17680323e-14])], [array([7.36902463e-14]), array([2.59462932e-14]), array([3.50895477e-14]), array([2.54665277e-14]), array([1.46936333e-14]), array([1.23232367e-14])], [array([9.40590909e-14]), array([8.44634669e-14]), array([5.9565281e-14]), array([4.18084205e-14]), array([4.05151192e-14]), array([4.00973246e-14])], [array([5.19725749e-14]), array([2.62207927e-14]), array([2.1237208e-14]), array([1.53698233e-14]), array([1.07716061e-14]), array([9.94960082e-15])]]\n",
      "[7.5 8.2 7.  8.2 6.  7.5 6.  6.  8.2 8.2 9.3 6.  6.  8.2 6.  6.5 7.5 7.\n",
      " 6.  6.  7.5 8.2 7.  8.2 6.  7.5 6.  6.  8.2 8.2 9.3 6.  6.  8.2 6.  6.5\n",
      " 7.5 7.  6.  6.  7.5 8.2 7.  8.2 6.  7.5 6.  6.  8.2 8.2 9.3 6.  6.  8.2\n",
      " 6.  6.5 7.5 7.  6.  6.  7.5 8.2 7.  8.2 6.  7.5 6.  6.  8.2 8.2 9.3 6.\n",
      " 6.  8.2 6.  6.5 7.5 7.  6.  6.  7.5 8.2 7.  8.2 6.  7.5 6.  6.  8.2 8.2\n",
      " 9.3 6.  6.  8.2 6.  6.5 7.5 7.  6.  6. ] (100,) [6.0, 6.5, 7.0, 7.5, 8.2, 9.3]\n",
      "\n",
      "Porcentagem de acerto: 39.00%\n"
     ]
    }
   ],
   "source": [
    "file_path = \"datasets/avi/multi/sub1_combined-raw.fif\"\n",
    "\n",
    "epochs = mne.read_epochs(file_path, preload=True)\n",
    "threshold = 0.22\n",
    "\n",
    "targets = [float(item) for item in epochs.event_id.keys()]\n",
    "print(\"Possíveis alvos:\", targets)\n",
    "\n",
    "features = list()\n",
    "\n",
    "\n",
    "## passo 3: computar PSD para cada frequencia\n",
    "\n",
    "for i in range(len(epochs)):\n",
    "    sample = list()\n",
    "    for target in targets:\n",
    "        fmin = target - threshold\n",
    "        fmax = target + threshold\n",
    "        psd = epochs[i].compute_psd(fmin=fmin, fmax=fmax, method='multitaper', verbose=False)\n",
    "       \n",
    "        avg_psd = np.mean(psd, axis=(0, 2))\n",
    "        sample.append(avg_psd)\n",
    "    features.append(sample)\n",
    "\n",
    "\n",
    "print(features)\n",
    "X = np.array(features)\n",
    "\n",
    "\n",
    "# passo 4: extrair recursos dos valores PSD\n",
    "X = X.reshape(X.shape[0], X.shape[1], X.shape[-1])\n",
    "\n",
    "max_values = np.max(X, axis=-1)\n",
    "max_values.shape\n",
    "\n",
    "\n",
    "#passo 5: classificar os vetores de recursos\n",
    "y = np.load(\"datasets/avi/multi/labels.npy\")\n",
    "\n",
    "print(y, y.shape, targets)\n",
    "\n",
    "i_max = max_values.argmax(axis=-1)\n",
    "hits = [1 for i in range(len(i_max)) if targets[i_max[i]] == y[i]]\n",
    "acc = 100 * sum(hits) / len(y)\n",
    "print(f'\\nPorcentagem de acerto: {acc:.2f}%')"
   ]
  },
  {
   "cell_type": "code",
   "execution_count": null,
   "metadata": {},
   "outputs": [],
   "source": []
  }
 ],
 "metadata": {
  "kernelspec": {
   "display_name": "Python 3",
   "language": "python",
   "name": "python3"
  },
  "language_info": {
   "codemirror_mode": {
    "name": "ipython",
    "version": 3
   },
   "file_extension": ".py",
   "mimetype": "text/x-python",
   "name": "python",
   "nbconvert_exporter": "python",
   "pygments_lexer": "ipython3",
   "version": "3.10.11"
  },
  "orig_nbformat": 4
 },
 "nbformat": 4,
 "nbformat_minor": 2
}
