{
 "cells": [
  {
   "cell_type": "markdown",
   "metadata": {},
   "source": [
    "## Classificação por isolamento de frequência\n",
    "\n",
    "Neste notebook será realizado um exemplo de classificação, isolando todas as frequências estimuladas no conjunto de dados `AVI SSVEP Single Target`. "
   ]
  },
  {
   "cell_type": "markdown",
   "metadata": {},
   "source": [
    "### Passos para a realização da classificação:\n",
    "\n",
    "1. **Carrega** o arquivo `fif` (`mne.EpochsArray`) dos dados **filtrados**;\n",
    "2. **Determine o limiar** para isolar cada uma das frequências estimuladas. Por exemplo, a faixa de frequência para o estímulo de 6.5 Hz irá resultar em pontos (`PSD`) que irão variar de 6.3 à 6.7 Hz, caso o limiar seja de 0.2 Hz;\n",
    "3. **Obter a \"energia\"** do sinal por meio do cálculo `compute_psd` para cada uma das faixas de frequência que podem ser estimuladas. Por exemplo:\n",
    "    - Obtenha todas as frequências estimuladas. Ex: 6, 6.5, 7, 7.5, 8.2 e 9.3;\n",
    "    - Obtenha o valor mínimo e o máximo para cada frequência utilizando limiar. Ex: (5.8, 6.2), (6.3, 6.7), ...\n",
    "    - Aplique o `compute_psd` para cada tupla (min, max), por meio dos parâmetros `fmin` e `fmax` do mesmo método.\n",
    "4. Com as listas de pontos isoladas e computadas (`PSD`) para cada amostra, aplique um cálculo de característica adequada. Características manuais interessantes para este exemplo podem ser `max_value`, `average` ou `median`. No fim deste passo iremos obter um **vetor de características**;\n",
    "5. Por fim, realize a **classificação**, que será um **cálculo de voto** simples (maior valor é provavelmente o a frequência evocada)."
   ]
  },
  {
   "cell_type": "markdown",
   "metadata": {},
   "source": []
  },
  {
   "cell_type": "code",
   "execution_count": 23,
   "metadata": {},
   "outputs": [
    {
     "name": "stdout",
     "output_type": "stream",
     "text": [
      "Reading c:\\Users\\caio-\\Documents\\patter-recog\\SSVEP\\datasets\\avi\\single\\sub1_combined-raw.fif ...\n",
      "Isotrak not found\n",
      "    Found the data of interest:\n",
      "        t =       0.00 ...   29998.05 ms\n",
      "        0 CTF compensation matrices available\n",
      "Not setting metadata\n",
      "84 matching events found\n",
      "No baseline correction applied\n",
      "0 projection items activated\n"
     ]
    },
    {
     "name": "stderr",
     "output_type": "stream",
     "text": [
      "C:\\Users\\caio-\\AppData\\Local\\Temp\\ipykernel_6192\\322334082.py:6: RuntimeWarning: This filename (datasets/avi/single/sub1_combined-raw.fif) does not conform to MNE naming conventions. All epochs files should end with -epo.fif, -epo.fif.gz, _epo.fif or _epo.fif.gz\n",
      "  epochs = mne.read_epochs(file_path, preload=True)\n"
     ]
    },
    {
     "name": "stdout",
     "output_type": "stream",
     "text": [
      "[10.  10.  10.   6.5  6.5  6.5  6.   6.   6.   7.5  7.5  7.5  7.   7.\n",
      "  7.   8.2  8.2  8.2  9.3  9.3  9.3 10.  10.  10.   6.5  6.5  6.5  6.\n",
      "  6.   6.   7.5  7.5  7.5  7.   7.   7.   8.2  8.2  8.2  9.3  9.3  9.3\n",
      " 10.  10.  10.   6.5  6.5  6.5  6.   6.   6.   7.5  7.5  7.5  7.   7.\n",
      "  7.   8.2  8.2  8.2  9.3  9.3  9.3 10.  10.  10.   6.5  6.5  6.5  6.\n",
      "  6.   6.   7.5  7.5  7.5  7.   7.   7.   8.2  8.2  8.2  9.3  9.3  9.3] (84,)\n"
     ]
    }
   ],
   "source": [
    "import mne\n",
    "import numpy as np\n",
    "\n",
    "file_path = \"datasets/avi/single/sub1_combined-raw.fif\"\n",
    "\n",
    "epochs = mne.read_epochs(file_path, preload=True)\n",
    "\n",
    "threshold = 0.25\n",
    "\n",
    "\n",
    "# stimulated_frequencies = [6.0, 6.5, 7.0, 7.5, 8.2, 9.3,10.0]  \n",
    "psd_values = []\n",
    "\n",
    "targets = [float(item) for item in epochs.event_id.keys()]\n",
    "\n",
    "features = list()\n",
    "## passo 3: computar PSD para cada frequencia\n",
    "\n",
    "\n",
    "for i in range(len(epochs)):\n",
    "    sample = list()\n",
    "    for freq in targets:\n",
    "        # filtra os dados para a faixa de frequencia \n",
    "        fmin = freq - threshold\n",
    "        fmax = freq + threshold\n",
    "        sample.append(epochs[i].compute_psd(fmin=fmin, fmax=fmax,verbose=False)[0][0])\n",
    "    features.append(sample)\n",
    "\n",
    "X = np.array(features)\n",
    "# passo 4: extrair recursos dos valores PSD\n",
    "X = X.reshape((X.shape[0], X.shape[1], X.shape[-1]))\n",
    "\n",
    "max_values = np.max(X, axis=-1)\n",
    "max_values.shape\n",
    "\n",
    "#passo 5: classificar os vetores de recursos\n",
    "file_path = \"datasets/avi/single/labels_sub1.npy\"\n",
    "y = np.load(file_path).flatten()\n",
    "print(y, y.shape)\n",
    "\n",
    "\n",
    "i_max = np.argmax(max_values, axis=-1)\n",
    "hits = [1 for i in range(len(i_max)) if targets[i_max[i]] == y[i]]\n",
    "acc = 100 * sum(hits) / len(y)\n",
    "print(\"Acuracia: {}%\".format(acc))\n",
    "\n",
    "# print(\"vals previstos: {}\".format(predictions))\n",
    "# print(\"frequencias: {}\".format(targets))\n"
   ]
  },
  {
   "cell_type": "code",
   "execution_count": null,
   "metadata": {},
   "outputs": [],
   "source": []
  }
 ],
 "metadata": {
  "kernelspec": {
   "display_name": "Python 3",
   "language": "python",
   "name": "python3"
  },
  "language_info": {
   "codemirror_mode": {
    "name": "ipython",
    "version": 3
   },
   "file_extension": ".py",
   "mimetype": "text/x-python",
   "name": "python",
   "nbconvert_exporter": "python",
   "pygments_lexer": "ipython3",
   "version": "3.10.11"
  },
  "orig_nbformat": 4
 },
 "nbformat": 4,
 "nbformat_minor": 2
}
