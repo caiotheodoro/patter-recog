{
 "cells": [
  {
   "cell_type": "markdown",
   "metadata": {},
   "source": [
    "## Análise da base de dados `Beta` utilizando algoritmos de ML\n",
    "\n",
    "Neste notebook será analisado o `Beta dataset` utilizando algoritmos de ML para realizar a (1) extração de características, (2) seleção de características e (3) classificação dos dados\n",
    "\n",
    "### Pontos importantes do dataset\n",
    "\n",
    "- Frequências estimuladas (total de 40, com a diferença de 0.2 Hz uma da outra): 8.0, 8.2, ..., 15.6, 15.8;\n",
    "- Taxa de amostragem: 250 Hz"
   ]
  },
  {
   "cell_type": "markdown",
   "metadata": {},
   "source": [
    "### Analisar os \"momentos\" em que ocorrem evocação do sinal SSVEP\n",
    "\n",
    "1. Criar o objeto `MNE` a partir dos dados dados do participante;\n",
    "2. Aplicar no objeto `MNE` o filtro passa-faixa nos valores de 6 - 18 Hz;\n",
    "3. Criar cópias do objeto `MNE` com fatias de tempo menores para analisar momentos que ocorrem estimulos ou não (verificar artigo);\n",
    "    a) 0.0 - 0.5 segundos e 2.5 - 3.0 segundos ocorre apenas ruído;\n",
    "    b) 0.5 - 2.5 segundos ocorre sinal SSVEP (com ruídos)\n",
    "4. Com os sinais separados em objetos `MNE`, aplicar a `FFT`, para que seja possível plotar gráficos que contenham (ou não) as informações.\n",
    "    - Os dados devem ser plotados no domínio da frequência (após a transformada de Fourier). O FFT pode ser realizado pela biblioteca `scipy.fft`.\n",
    "    - Deve ser observado que as janelas (a) com ruído não aparecerão de fato o sinal SSVEP."
   ]
  },
  {
   "cell_type": "markdown",
   "metadata": {},
   "source": [
    "### Extração de características\n",
    "\n",
    "Uma característica importante de acordo com o artigo base do dataset `BETA` é o *signal-to-noise ratio* (SNR).\n",
    "São dois tipos de características SNR que podem ser implementadas: SNR de banda estreita (`narrow-SNR`) e SNR de banda larga (`wide-band SNR`).\n",
    "\n",
    "Uma boa prática, é considerar o ruído das medidas de `SNR`, uma vez que os dados `SSVEP` não estão estimulados durante os períodos de 0 a 0,5 segundos e de 2,5 a 3 segundos. O ruído pode afetar a precisão das medidas de `SNR` e, portanto, é aconselhável levar isso em consideração.\n",
    "\n",
    "Vamos realizar todos esses cálculos com dados fictícios:"
   ]
  },
  {
   "cell_type": "code",
   "execution_count": 1,
   "metadata": {},
   "outputs": [
    {
     "data": {
      "text/plain": [
       "((160, 64, 750), (160,))"
      ]
     },
     "execution_count": 1,
     "metadata": {},
     "output_type": "execute_result"
    }
   ],
   "source": [
    "import numpy as np\n",
    "\n",
    "ch_ideal = [\"Pz\", \"PO3\", \"PO5\", \"PO4\", \"PO6\", \"POz\", \"O1\", \"Oz\", \"O2\"] #canais ideais\n",
    "ch_names = [\"FP1\", \"FPZ\", \"FP2\", \"AF3\", \"AF4\", \"F7\", \"F5\", \"F3\", \"F1\", \"FZ\", \"F2\", \"F4\", \"F6\", \"F8\", \"FT7\", \"FC5\", \"FC3\", \"FC1\", \"FCZ\", \"FC2\", \"FC4\", \"FC6\", \"FT8\", \"T7\", \"C5\", \"C3\", \"C1\", \"CZ\", \"C2\", \"C4\", \"C6\", \"T8\", \"M1\", \"TP7\", \"CP5\", \"CP3\", \"CP1\", \"CPZ\", \"CP2\", \"CP4\", \"CP6\", \"TP8\", \"M2\", \"P7\", \"P5\", \"P3\", \"P1\", \"PZ\", \"P2\", \"P4\", \"P6\", \"P8\", \"PO7\", \"PO5\", \"PO3\", \"POZ\", \"PO4\", \"PO6\", \"PO8\", \"CB1\", \"O1\", \"OZ\", \"O2\", \"CB2\"]\n",
    "\n",
    "\n",
    "data = np.load(\"../../datasets/beta/data2.npy\")\n",
    "\n",
    "\n",
    "labels = np.load(\"../../datasets/beta/labels2.npy\")\n",
    "\n",
    "data.shape,labels.shape"
   ]
  },
  {
   "cell_type": "code",
   "execution_count": 2,
   "metadata": {},
   "outputs": [
    {
     "data": {
      "text/plain": [
       "(15.8, 8.0)"
      ]
     },
     "execution_count": 2,
     "metadata": {},
     "output_type": "execute_result"
    }
   ],
   "source": [
    "import mne\n",
    "\n",
    "n_channels = 64\n",
    "sfreq = 250\n",
    "info = mne.create_info(ch_names, sfreq=sfreq, ch_types=(['eeg'] * len(ch_names)))\n",
    "\n",
    "ev = {str(value): index  for index, value in enumerate(sorted(set(labels)))}\n",
    "\n",
    "labels.max(), labels.min()"
   ]
  },
  {
   "cell_type": "markdown",
   "metadata": {},
   "source": [
    "Agora iremos estimar o ruído de fundo, para calcular posteriormente o `narrow SNR` e o `wide-band SNR`. "
   ]
  },
  {
   "cell_type": "code",
   "execution_count": 3,
   "metadata": {},
   "outputs": [
    {
     "name": "stdout",
     "output_type": "stream",
     "text": [
      "Not setting metadata\n",
      "160 matching events found\n",
      "No baseline correction applied\n",
      "0 projection items activated\n",
      "Not setting metadata\n",
      "160 matching events found\n",
      "No baseline correction applied\n",
      "0 projection items activated\n",
      "Setting up band-pass filter from 7.8 - 16 Hz\n",
      "\n",
      "FIR filter parameters\n",
      "---------------------\n",
      "Designing a one-pass, zero-phase, non-causal bandpass filter:\n",
      "- Windowed time-domain design (firwin) method\n",
      "- Hamming window with 0.0194 passband ripple and 53 dB stopband attenuation\n",
      "- Lower passband edge: 7.80\n",
      "- Lower transition bandwidth: 2.00 Hz (-6 dB cutoff frequency: 6.80 Hz)\n",
      "- Upper passband edge: 16.00 Hz\n",
      "- Upper transition bandwidth: 4.00 Hz (-6 dB cutoff frequency: 18.00 Hz)\n",
      "- Filter length: 413 samples (1.652 s)\n",
      "\n"
     ]
    },
    {
     "name": "stderr",
     "output_type": "stream",
     "text": [
      "[Parallel(n_jobs=1)]: Done  17 tasks      | elapsed:    0.0s\n",
      "[Parallel(n_jobs=1)]: Done  71 tasks      | elapsed:    0.0s\n",
      "[Parallel(n_jobs=1)]: Done 161 tasks      | elapsed:    0.0s\n",
      "[Parallel(n_jobs=1)]: Done 287 tasks      | elapsed:    0.0s\n",
      "[Parallel(n_jobs=1)]: Done 449 tasks      | elapsed:    0.0s\n",
      "[Parallel(n_jobs=1)]: Done 647 tasks      | elapsed:    0.1s\n",
      "[Parallel(n_jobs=1)]: Done 881 tasks      | elapsed:    0.1s\n",
      "[Parallel(n_jobs=1)]: Done 1151 tasks      | elapsed:    0.1s\n",
      "[Parallel(n_jobs=1)]: Done 1457 tasks      | elapsed:    0.1s\n",
      "[Parallel(n_jobs=1)]: Done 1799 tasks      | elapsed:    0.2s\n",
      "[Parallel(n_jobs=1)]: Done 2177 tasks      | elapsed:    0.2s\n",
      "[Parallel(n_jobs=1)]: Done 2591 tasks      | elapsed:    0.2s\n",
      "[Parallel(n_jobs=1)]: Done 3041 tasks      | elapsed:    0.3s\n",
      "[Parallel(n_jobs=1)]: Done 3527 tasks      | elapsed:    0.3s\n",
      "[Parallel(n_jobs=1)]: Done 4049 tasks      | elapsed:    0.4s\n",
      "[Parallel(n_jobs=1)]: Done 4607 tasks      | elapsed:    0.4s\n",
      "[Parallel(n_jobs=1)]: Done 5201 tasks      | elapsed:    0.5s\n",
      "[Parallel(n_jobs=1)]: Done 5831 tasks      | elapsed:    0.5s\n",
      "[Parallel(n_jobs=1)]: Done 6497 tasks      | elapsed:    0.6s\n",
      "[Parallel(n_jobs=1)]: Done 7199 tasks      | elapsed:    0.7s\n",
      "[Parallel(n_jobs=1)]: Done 7937 tasks      | elapsed:    0.7s\n",
      "[Parallel(n_jobs=1)]: Done 8711 tasks      | elapsed:    0.8s\n",
      "[Parallel(n_jobs=1)]: Done 9521 tasks      | elapsed:    0.9s\n"
     ]
    },
    {
     "data": {
      "text/plain": [
       "(160, 64, 750)"
      ]
     },
     "execution_count": 3,
     "metadata": {},
     "output_type": "execute_result"
    }
   ],
   "source": [
    "from sklearn.preprocessing import LabelEncoder\n",
    "\n",
    "le = LabelEncoder()\n",
    "events = np.column_stack((\n",
    "    np.array(range(len(labels))),\n",
    "    np.zeros(160, dtype=int),\n",
    "    le.fit_transform(labels))\n",
    ")\n",
    "\n",
    "\n",
    "mne_data = mne.EpochsArray(data, info, events, event_id=ev)\n",
    "filtered_mne_data = mne.EpochsArray(data, info, events, event_id=ev).filter(7.8, 16.0)\n",
    "mne_data.get_data().shape"
   ]
  },
  {
   "cell_type": "code",
   "execution_count": 4,
   "metadata": {},
   "outputs": [
    {
     "data": {
      "text/plain": [
       "array([ 34254.95173393,  29043.47729528,  27617.12260873,  36635.40100522,\n",
       "        35827.14509781,  32329.80178018,  34410.5735515 ,  34515.60391904,\n",
       "        27721.05542327,  33373.41590558,  28185.94595284,  32820.54728614,\n",
       "        31836.71119898,  30179.19691795,  32185.71427697,  26173.01812723,\n",
       "        29865.45928936,  37986.3515825 ,  34162.96889245,  41848.39179112,\n",
       "        33522.94167244,  37515.57297451,  28917.13458999,  34899.69628569,\n",
       "        31015.82396003,  33891.54548758,  33661.20404166,  31563.14510089,\n",
       "        30697.41093828,  37299.3793779 ,  34699.66997813,  53382.94099808,\n",
       "        34762.4225378 ,  34891.99421989,  34829.39121345,  28709.38604112,\n",
       "        68402.33150205,  37375.68486614,  36245.60307063,  51493.82464981,\n",
       "        29712.27363049,  34079.973482  ,  34928.66938484,  32717.68285686,\n",
       "        30770.37077287,  26976.50698312,  33077.26244184,  39021.03985767,\n",
       "        22257.51002307,  30746.71519765,  30158.82108184,  33263.88032245,\n",
       "        32469.42694901,  31354.25919981,  28451.62546243,  30718.99832944,\n",
       "        40004.44018368,  36623.1851442 ,  30322.22543898,  30937.99169389,\n",
       "        34434.26052983,  38846.77892872,  34197.27810989,  34538.55703329,\n",
       "        58260.57836316,  66558.29813455,  28701.79075449,  34210.24210277,\n",
       "        28853.81435579,  31206.91081106,  29382.94765601,  32219.80197493,\n",
       "        34661.40473911,  34441.6998077 ,  30553.55539729,  39729.63584554,\n",
       "        41136.88919877,  37667.58944267,  36485.68768666,  41723.20253101,\n",
       "        34827.29198969,  32412.32645185,  48846.30622643,  26109.87833043,\n",
       "        30292.95081654,  26569.70625994,  28876.40725615,  27988.90719687,\n",
       "        29543.02196912,  28009.24882298,  29308.50644694,  29687.62793083,\n",
       "        51918.81035512,  38572.02414724, 354809.39803519,  31157.55104981,\n",
       "        32766.3679916 ,  27819.9845368 ,  37119.48381219,  44864.55060762,\n",
       "        31023.94621157,  34564.7791324 ,  39761.02506295,  35284.04105648,\n",
       "        33778.39903641,  45140.34043016,  32713.36607071,  34626.70041608,\n",
       "        42790.46648749,  31179.48198819,  39451.2886045 ,  90722.19236271,\n",
       "        40157.92956643,  49748.88182723,  34076.78109554,  36552.4230147 ,\n",
       "        34338.83181491,  33225.92209385,  34593.81917246,  31711.61714249,\n",
       "        29805.0066438 ,  35880.93432634,  33753.70403928,  38264.78586259,\n",
       "        26579.23364319,  44846.69001632,  33930.68572331,  51185.24228883,\n",
       "        29343.45866431,  40665.93800664,  22158.56014412,  31209.78385873,\n",
       "        28290.7634445 ,  32010.43458173, 146109.89216606,  28697.92909923,\n",
       "        37265.85598645,  41620.88893246,  35686.69679539,  31598.30663255,\n",
       "        32672.27056772,  38366.38782942,  55076.77455195,  33009.83440691,\n",
       "        30991.09931627,  38563.99287281,  37910.70229099, 149581.79851983,\n",
       "        35109.8556554 ,  35718.31778654,  31935.16648087,  39775.1911211 ,\n",
       "        35663.05083911,  33636.4962418 ,  31658.56101384,  32108.36211829,\n",
       "        43389.9659711 ,  36922.28483711,  38045.35601531,  31017.03024   ])"
      ]
     },
     "execution_count": 4,
     "metadata": {},
     "output_type": "execute_result"
    }
   ],
   "source": [
    "import mne\n",
    "import numpy as np\n",
    "\n",
    "# define a baseline\n",
    "base_start = 0\n",
    "base_end = 125\n",
    "rest_start = 625\n",
    "rest_end = 750\n",
    "\n",
    "sr = 250\n",
    "target_frequencies = np.arange(8, 16, 0.2) # define as frequências alvo\n",
    "\n",
    "target_amplitudes = []\n",
    "\n",
    "base_powers = []\n",
    "rest_powers = []\n",
    "snrs = []\n",
    "\n",
    "for channel_data in mne_data.get_data():\n",
    "    target_per_channel = []  # guarda as amplitudes para cada frequência alvo\n",
    "\n",
    "    base_power_channel = []   # guarda o base_power para cada trial\n",
    "    rest_power_channel = []  # guarda o rest_power para cada trial\n",
    "\n",
    "    for sign in channel_data:\n",
    "        fft_result = np.fft.fft(sign)  # FFT\n",
    "        psd = np.abs(fft_result) ** 2  # PSD    \n",
    "        frequencies = np.fft.fftfreq(len(fft_result), 1 / sr)  # frequencias\n",
    "\n",
    "        target_amplitudes_trial = []\n",
    "\n",
    "        for target_frequency in target_frequencies:\n",
    "            index = np.argmin(np.abs(frequencies - target_frequency))  # acha o índice da frequência alvo\n",
    "            amplitude = np.sqrt(psd[index])  # calcula a amplitude da frequência alvo\n",
    "            target_amplitudes_trial.append(amplitude)  # guarda a amplitude da frequência alvo\n",
    "\n",
    "        target_per_channel.append(target_amplitudes_trial)  # guarda as amplitudes para cada frequência alvo\n",
    "\n",
    "        base_power = np.mean(psd[base_start:base_end]) # calcula o base_power\n",
    "        rest_power = np.mean(psd[rest_start:rest_end]) # calcula o rest_power\n",
    "\n",
    "        base_power_channel.append(base_power) # guarda o base_power para cada trial\n",
    "        rest_power_channel.append(rest_power) \n",
    "\n",
    "\n",
    "    snr = np.mean(base_power_channel) + np.mean(rest_power_channel) # calcula o snr\n",
    "\n",
    "    base_powers.append(base_power_channel)\n",
    "    rest_powers.append(rest_power_channel)\n",
    "    snrs.append(snr)\n",
    "\n",
    "    target_amplitudes.append(target_per_channel)  # guarda as amplitudes para cada frequência alvo\n",
    "\n",
    "\n",
    "target_amplitudes = np.array(target_amplitudes)  # transforma em numpy array\n",
    "base_powers = np.array(base_powers)\n",
    "rest_powers = np.array(rest_powers)\n",
    "snrs = np.array(snrs)\n",
    "\n",
    "snrs"
   ]
  },
  {
   "cell_type": "markdown",
   "metadata": {},
   "source": [
    "Antes de calcular os SNRs, precisamos obter as amplitudes alvo por meio dos dados EEG:"
   ]
  },
  {
   "cell_type": "markdown",
   "metadata": {},
   "source": [
    "Vamos calcular o SNR de \"banda estreita\". Pode ser observado pela seguinte equação:\n",
    "\n",
    "$SNR_{banda\\ estreita} = 10 \\cdot \\log_{10}\\left(\\frac{\\text{energia total do espectro}}{\\text{média das amplitudes nas frequências vizinhas}}\\right)$\n",
    "\n",
    "Já o SNR de banda larga é definido da seguinte forma:\n",
    "\n",
    "$SNR_{banda\\ larga} = 10 \\cdot \\log_{10}\\left(\\frac{\\text{energia total do espectro}}{\\text{energia total do espectro de amplitude}}\\right)$"
   ]
  },
  {
   "cell_type": "code",
   "execution_count": 5,
   "metadata": {},
   "outputs": [
    {
     "name": "stdout",
     "output_type": "stream",
     "text": [
      "(160, 64, 40)\n",
      "(160, 64, 40)\n",
      "(2, 160, 64, 40)\n",
      "(160, 2, 64, 40)\n",
      "(160, 64, 2, 40)\n"
     ]
    }
   ],
   "source": [
    "snr = np.min(snrs) # pega o menor snr\n",
    "target_amplitudes_adjusted = np.abs(target_amplitudes - snr) #ajuste da amplitude do sinal\n",
    " \n",
    "narrow_band_SNR = 10 * np.log10(target_amplitudes_adjusted / snr) # razao sinal ruido de banda estreita\n",
    "print(narrow_band_SNR.shape)\n",
    "\n",
    "total_power = np.sum(target_amplitudes_adjusted) # potencia total\n",
    "wide_band_SNR = 10 * np.log10(target_amplitudes_adjusted / total_power) # razao sinal ruido de banda larga\n",
    "print(wide_band_SNR.shape)\n",
    "\n",
    "\n",
    "\n",
    "data = np.array([narrow_band_SNR, wide_band_SNR]) # array com as duas razoes sinal ruido\n",
    "print(data.shape)\n",
    "data = data.swapaxes(0, 1) # troca de eixos\n",
    "print(data.shape)\n",
    "data = data.swapaxes(1, 2) # troca de eixos\n",
    "print(data.shape)\n",
    "data = data.reshape(data.shape[0], data.shape[1], data.shape[2] * data.shape[3]) # reshape\n",
    "\n",
    "#salva os dados\n",
    "\n",
    "\n",
    "np.save(\"../../datasets/beta/data2_filtered.npy\", data)"
   ]
  },
  {
   "cell_type": "markdown",
   "metadata": {},
   "source": [
    "Ao final desta etapa, será obtido um vetor de características. Estas podem ser:\n",
    "- `narrow SNR` (brigatória);\n",
    "- `wide-band SNR` (brigatória);\n",
    "- Maior valor espectral (FFT);\n",
    "- Média dos valores espectrais (FFT).\n",
    "\n",
    "Dimensionalidade dos dados será explicada da seguinte forma:\n",
    "\n",
    "`40, 4, 64, 750` -> 40 targets, 4 trials, 64 canais e 750 valores\n",
    "`160, 64 (SNR) + 64 (média) + 64 (maior) ...`\n",
    "Resultando em `160, 192`."
   ]
  },
  {
   "cell_type": "markdown",
   "metadata": {},
   "source": [
    "### Seleção de características e classificação\n",
    "\n",
    "Como existem diversos eletrodos (canais) que não obtém sinal SSVEP, podemos extrair as caracteríscas que não contribuem para a classificação dos dados.\n",
    "\n",
    "Podemos utilizar o método `RFE` (*Recursive Feature Elimination*) aplicado por meio de `sklearn.feature_selection.RFE`, aprimorando o parâmetro `n_features_to_select` até obter o melhor resultado de classificação.\n",
    "\n",
    "Para a classificação propriamente dita, é considerado o uso do método `SVM`."
   ]
  }
 ],
 "metadata": {
  "kernelspec": {
   "display_name": "venv",
   "language": "python",
   "name": "python3"
  },
  "language_info": {
   "codemirror_mode": {
    "name": "ipython",
    "version": 3
   },
   "file_extension": ".py",
   "mimetype": "text/x-python",
   "name": "python",
   "nbconvert_exporter": "python",
   "pygments_lexer": "ipython3",
   "version": "3.10.12"
  },
  "orig_nbformat": 4
 },
 "nbformat": 4,
 "nbformat_minor": 2
}
