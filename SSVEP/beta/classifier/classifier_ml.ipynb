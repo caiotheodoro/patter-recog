{
 "cells": [
  {
   "cell_type": "code",
   "execution_count": 16,
   "metadata": {},
   "outputs": [
    {
     "data": {
      "text/plain": [
       "((160, 64, 80), (160, 64, 80), (160,), (160,))"
      ]
     },
     "execution_count": 16,
     "metadata": {},
     "output_type": "execute_result"
    }
   ],
   "source": [
    "\n",
    "ch_ideal = [\"PZ\", \"PO3\", \"PO5\", \"PO4\", \"PO6\", \"POZ\", \"O1\", \"OZ\", \"O2\"] #canais ideais\n",
    "ch_names = [\"FP1\", \"FPZ\", \"FP2\", \"AF3\", \"AF4\", \"F7\", \"F5\", \"F3\", \"F1\", \"FZ\", \"F2\", \"F4\", \"F6\", \"F8\", \"FT7\", \"FC5\", \"FC3\", \"FC1\", \"FCZ\", \"FC2\", \"FC4\", \"FC6\", \"FT8\", \"T7\", \"C5\", \"C3\", \"C1\", \"CZ\", \"C2\", \"C4\", \"C6\", \"T8\", \"M1\", \"TP7\", \"CP5\", \"CP3\", \"CP1\", \"CPZ\", \"CP2\", \"CP4\", \"CP6\", \"TP8\", \"M2\", \"P7\", \"P5\", \"P3\", \"P1\", \"PZ\", \"P2\", \"P4\", \"P6\", \"P8\", \"PO7\", \"PO5\", \"PO3\", \"POZ\", \"PO4\", \"PO6\", \"PO8\", \"CB1\", \"O1\", \"OZ\", \"O2\", \"CB2\"]\n",
    "\n",
    "\n",
    "import mne\n",
    "import numpy as np\n",
    "dataset1 = np.load(\"../../datasets/beta/data1_filtered.npy\")\n",
    "dataset2 = np.load(\"../../datasets/beta/data2_filtered.npy\")\n",
    "\n",
    "labels1 = np.load(\"../../datasets/beta/labels1.npy\")\n",
    "labels2 = np.load(\"../../datasets/beta/labels2.npy\")\n",
    "# entendimento dos dados\n",
    "dataset1.shape, dataset2.shape, labels1.shape, labels2.shape"
   ]
  },
  {
   "cell_type": "code",
   "execution_count": 17,
   "metadata": {},
   "outputs": [
    {
     "data": {
      "text/plain": [
       "((160, 9, 80), (160, 9, 80))"
      ]
     },
     "execution_count": 17,
     "metadata": {},
     "output_type": "execute_result"
    }
   ],
   "source": [
    "#keep only the ideal channels\n",
    "channel_name_to_index = {ch_name: index for index, ch_name in enumerate(ch_names)}\n",
    "\n",
    "# Get the indices of the ideal channels\n",
    "ideal_channel_indices = [channel_name_to_index[ch_name] for ch_name in ch_ideal]\n",
    "\n",
    "# Keep only the ideal channels in the datasets\n",
    "dataset1 = dataset1[:, ideal_channel_indices, :]\n",
    "dataset2 = dataset2[:, ideal_channel_indices, :]\n",
    "\n",
    "dataset1.shape, dataset2.shape\n"
   ]
  },
  {
   "cell_type": "code",
   "execution_count": 18,
   "metadata": {},
   "outputs": [
    {
     "name": "stdout",
     "output_type": "stream",
     "text": [
      "Dataset 1\n",
      "acuracia: 0.00 %\n",
      "f1-score: 0.00 %\n",
      "Dataset 2\n",
      "acuracia: 31.25 %\n",
      "f1-score:  26.89 %\n"
     ]
    }
   ],
   "source": [
    "from sklearn.preprocessing import StandardScaler, LabelEncoder\n",
    "from sklearn.model_selection import train_test_split\n",
    "from sklearn.svm import SVC\n",
    "dataset1 = dataset1.reshape(dataset1.shape[0], dataset1.shape[1] * dataset1.shape[2])\n",
    "dataset2 = dataset2.reshape(dataset2.shape[0], dataset2.shape[1] * dataset2.shape[2])\n",
    "\n",
    "\n",
    "X1 = StandardScaler().fit_transform(dataset1)\n",
    "y1 = LabelEncoder().fit_transform(labels1)\n",
    "\n",
    "X2 = StandardScaler().fit_transform(dataset2)\n",
    "y2 = LabelEncoder().fit_transform(labels2)\n",
    "\n",
    "X_train1, X_test1, y_train1, y_test1 = train_test_split(X1, y1, test_size=0.2, random_state=42)\n",
    "X_train2, X_test2, y_train2, y_test2 = train_test_split(X2, y2, test_size=0.2, random_state=42)\n",
    "\n",
    "svc =  SVC(kernel='linear', C=1, random_state=42, probability=True)\n",
    "svc.fit(X_train1, y_train1)\n",
    "pred1 = svc.predict(X_test1)\n",
    "\n",
    "svc =  SVC(kernel='linear', C=1, random_state=42, probability=True)\n",
    "svc.fit(X_train2, y_train2)\n",
    "pred2 = svc.predict(X_test2)\n",
    "\n",
    "from sklearn.metrics import accuracy_score, confusion_matrix, classification_report, f1_score\n",
    "\n",
    "print(\"Dataset 1\")\n",
    "print(\"acuracia: %.2f\" % (accuracy_score(y_test1, pred1)* 100),\"%\")\n",
    "print(\"f1-score: %.2f\"% (f1_score(y_test1, pred1, average='macro')*100),\"%\")\n",
    "\n",
    "print(\"Dataset 2\")\n",
    "print(\"acuracia: %.2f\" % (accuracy_score(y_test2, pred2)* 100),\"%\")\n",
    "print(\"f1-score:  %.2f\" % (f1_score(y_test2, pred2, average='macro')* 100),\"%\")\n",
    "\n",
    "\n"
   ]
  },
  {
   "cell_type": "markdown",
   "metadata": {},
   "source": [
    "## Classificação utilizando RFE para seleção de atributos e SVM para classificação"
   ]
  },
  {
   "cell_type": "code",
   "execution_count": 19,
   "metadata": {},
   "outputs": [
    {
     "name": "stdout",
     "output_type": "stream",
     "text": [
      "Dataset 1\n",
      "acuracia: 21.88 %\n",
      "f1-score: 18.14 %\n",
      "Dataset 2\n",
      "acuracia: 50.00 %\n",
      "f1-score:  45.56 %\n"
     ]
    }
   ],
   "source": [
    "\n",
    "from sklearn.feature_selection import RFECV\n",
    "\n",
    "\n",
    "dataset1 = np.load(\"../../datasets/beta/data1_filtered.npy\")\n",
    "dataset2 = np.load(\"../../datasets/beta/data2_filtered.npy\")\n",
    "\n",
    "\n",
    "dataset1 = dataset1.reshape(dataset1.shape[0], dataset1.shape[1] * dataset1.shape[2])\n",
    "dataset2 = dataset2.reshape(dataset2.shape[0], dataset2.shape[1] * dataset2.shape[2])\n",
    "\n",
    "X1 = StandardScaler().fit_transform(dataset1)\n",
    "y1 = LabelEncoder().fit_transform(labels1)\n",
    "\n",
    "X2 = StandardScaler().fit_transform(dataset2)\n",
    "y2 = LabelEncoder().fit_transform(labels2)\n",
    "\n",
    "svc = SVC(kernel=\"linear\")\n",
    "rfe = RFECV(svc, step=0.1, min_features_to_select=20, cv=3)\n",
    "X1 = rfe.fit_transform(X1, y1)\n",
    "X2 = rfe.fit_transform(X2, y2)\n",
    "\n",
    "X_train1, X_test1, y_train1, y_test1 = train_test_split(X1, y1, test_size=0.2, random_state=42)\n",
    "X_train2, X_test2, y_train2, y_test2 = train_test_split(X2, y2, test_size=0.2, random_state=42)\n",
    "\n",
    "\n",
    "svc =  SVC(kernel='linear', C=1, random_state=42, probability=True)\n",
    "svc.fit(X_train1, y_train1)\n",
    "pred1 = svc.predict(X_test1)\n",
    "\n",
    "svc =  SVC(kernel='linear', C=1, random_state=42, probability=True)\n",
    "svc.fit(X_train2, y_train2)\n",
    "pred2 = svc.predict(X_test2)\n",
    "\n",
    "from sklearn.metrics import accuracy_score, f1_score\n",
    "\n",
    "print(\"Dataset 1\")\n",
    "print(\"acuracia: %.2f\" % (accuracy_score(y_test1, pred1)* 100),\"%\")\n",
    "print(\"f1-score: %.2f\"% (f1_score(y_test1, pred1, average='macro')*100),\"%\")\n",
    "\n",
    "print(\"Dataset 2\")\n",
    "print(\"acuracia: %.2f\" % (accuracy_score(y_test2, pred2)* 100),\"%\")\n",
    "print(\"f1-score:  %.2f\" % (f1_score(y_test2, pred2, average='macro')* 100),\"%\")\n"
   ]
  }
 ],
 "metadata": {
  "kernelspec": {
   "display_name": "Python 3",
   "language": "python",
   "name": "python3"
  },
  "language_info": {
   "codemirror_mode": {
    "name": "ipython",
    "version": 3
   },
   "file_extension": ".py",
   "mimetype": "text/x-python",
   "name": "python",
   "nbconvert_exporter": "python",
   "pygments_lexer": "ipython3",
   "version": "3.10.11"
  }
 },
 "nbformat": 4,
 "nbformat_minor": 2
}
