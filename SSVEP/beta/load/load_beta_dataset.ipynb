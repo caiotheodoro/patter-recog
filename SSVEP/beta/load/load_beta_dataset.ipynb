{
 "cells": [
  {
   "cell_type": "code",
   "execution_count": 1,
   "metadata": {},
   "outputs": [],
   "source": [
    "# imports\n",
    "from scipy.io import loadmat, whosmat\n",
    "import numpy as np"
   ]
  },
  {
   "cell_type": "code",
   "execution_count": 2,
   "metadata": {},
   "outputs": [],
   "source": [
    "# carregar o arquivo\n",
    "beta_data1 = loadmat(f\"../../datasets/beta/S5.mat\")\n",
    "beta_data2 = loadmat(f\"../../datasets/beta/S15.mat\")"
   ]
  },
  {
   "cell_type": "code",
   "execution_count": 3,
   "metadata": {},
   "outputs": [
    {
     "name": "stdout",
     "output_type": "stream",
     "text": [
      "Divisão dos dados:\n",
      "(64, 750, 4, 40) (64, 750, 4, 40)\n",
      "\n",
      "Divisão dos rótulos (sequências):\n",
      "(40,) (40,)\n"
     ]
    }
   ],
   "source": [
    "dados1 = beta_data1['data'][0][0][0]\n",
    "labels1 = beta_data1['data'][0][0][1]['freqs'][0][0][0]\n",
    "\n",
    "dados2 = beta_data2['data'][0][0][0]\n",
    "labels2 = beta_data2['data'][0][0][1]['freqs'][0][0][0]\n",
    "\n",
    "print(\"Divisão dos dados:\")\n",
    "print(dados1.shape, dados2.shape)\n",
    "\n",
    "print(\"\\nDivisão dos rótulos (sequências):\")\n",
    "print(labels1.shape, labels2.shape)"
   ]
  },
  {
   "cell_type": "code",
   "execution_count": 4,
   "metadata": {},
   "outputs": [
    {
     "name": "stdout",
     "output_type": "stream",
     "text": [
      "(160, 64, 750) (160, 64, 750)\n"
     ]
    }
   ],
   "source": [
    "# Mudando o formato de X\n",
    "dadosTransposed1 = np.array(np.transpose(dados1,  (2, 3, 0, 1)))\n",
    "dadosTransposed1 = dadosTransposed1.reshape(dadosTransposed1.shape[0] *dadosTransposed1.shape[1], dadosTransposed1.shape[2], dadosTransposed1.shape[3])\n",
    "\n",
    "dadosTransposed2 = np.array(np.transpose(dados2,  (2, 3, 0, 1)))\n",
    "dadosTransposed2 = dadosTransposed2.reshape(dadosTransposed2.shape[0] *dadosTransposed2.shape[1], dadosTransposed2.shape[2], dadosTransposed2.shape[3])\n",
    "\n",
    "# Verificar a nova forma de X\n",
    "print(dadosTransposed1.shape,dadosTransposed2.shape)"
   ]
  },
  {
   "cell_type": "code",
   "execution_count": 5,
   "metadata": {},
   "outputs": [
    {
     "data": {
      "text/plain": [
       "((160,), (160,))"
      ]
     },
     "execution_count": 5,
     "metadata": {},
     "output_type": "execute_result"
    }
   ],
   "source": [
    "labelsTransposed1 = np.array([np.transpose(data) for data in labels1]*4)\n",
    "\n",
    "labelsTransposed2 = np.array([np.transpose(data) for data in labels2]*4)\n",
    "\n",
    "\n",
    "labelsTransposed1.shape ,labelsTransposed2.shape"
   ]
  },
  {
   "cell_type": "code",
   "execution_count": 6,
   "metadata": {},
   "outputs": [],
   "source": [
    "np.save(\"../../datasets/beta/data1.npy\", dadosTransposed1)\n",
    "np.save(\"../../datasets/beta/labels1.npy\", labelsTransposed1)\n",
    "\n",
    "np.save(\"../../datasets/beta/data2.npy\", dadosTransposed2)\n",
    "np.save(\"../../datasets/beta/labels2.npy\", labelsTransposed2)"
   ]
  }
 ],
 "metadata": {
  "kernelspec": {
   "display_name": "Python 3",
   "language": "python",
   "name": "python3"
  },
  "language_info": {
   "codemirror_mode": {
    "name": "ipython",
    "version": 3
   },
   "file_extension": ".py",
   "mimetype": "text/x-python",
   "name": "python",
   "nbconvert_exporter": "python",
   "pygments_lexer": "ipython3",
   "version": "3.10.12"
  },
  "orig_nbformat": 4
 },
 "nbformat": 4,
 "nbformat_minor": 2
}
