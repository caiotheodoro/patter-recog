{
 "cells": [
  {
   "cell_type": "code",
   "execution_count": 5,
   "metadata": {},
   "outputs": [
    {
     "name": "stdout",
     "output_type": "stream",
     "text": [
      "Reading /Users/uiuizap/Documents/facul/patter-recog/SSVEP/beta/beta_epo1.fif ...\n",
      "Isotrak not found\n",
      "    Found the data of interest:\n",
      "        t =       0.00 ...    2996.00 ms\n",
      "        0 CTF compensation matrices available\n",
      "Not setting metadata\n",
      "160 matching events found\n",
      "No baseline correction applied\n",
      "0 projection items activated\n",
      "Reading /Users/uiuizap/Documents/facul/patter-recog/SSVEP/beta/beta_epo2.fif ...\n",
      "Isotrak not found\n",
      "    Found the data of interest:\n",
      "        t =       0.00 ...    2996.00 ms\n",
      "        0 CTF compensation matrices available\n",
      "Not setting metadata\n",
      "160 matching events found\n",
      "No baseline correction applied\n",
      "0 projection items activated\n"
     ]
    },
    {
     "name": "stderr",
     "output_type": "stream",
     "text": [
      "/var/folders/5y/hp3j720d4tld59t5jpzjfdg00000gn/T/ipykernel_8976/3089845198.py:3: RuntimeWarning: This filename (./beta_epo1.fif) does not conform to MNE naming conventions. All epochs files should end with -epo.fif, -epo.fif.gz, _epo.fif or _epo.fif.gz\n",
      "  dataset1 = mne.read_epochs(\"./beta_epo1.fif\")\n",
      "/var/folders/5y/hp3j720d4tld59t5jpzjfdg00000gn/T/ipykernel_8976/3089845198.py:4: RuntimeWarning: This filename (./beta_epo2.fif) does not conform to MNE naming conventions. All epochs files should end with -epo.fif, -epo.fif.gz, _epo.fif or _epo.fif.gz\n",
      "  dataset2 = mne.read_epochs(\"./beta_epo2.fif\")\n"
     ]
    },
    {
     "data": {
      "text/plain": [
       "((160, 8, 750), (160, 8, 750))"
      ]
     },
     "execution_count": 5,
     "metadata": {},
     "output_type": "execute_result"
    }
   ],
   "source": [
    "import mne\n",
    "\n",
    "dataset1 = mne.read_epochs(\"./beta_epo1.fif\")\n",
    "dataset2 = mne.read_epochs(\"./beta_epo2.fif\")\n",
    "# entendimento dos dados\n",
    "dataset1.get_data().shape, dataset2.get_data().shape"
   ]
  },
  {
   "cell_type": "code",
   "execution_count": 6,
   "metadata": {},
   "outputs": [
    {
     "name": "stdout",
     "output_type": "stream",
     "text": [
      "Accuracia dataset 1: 0.625 %\n",
      "Accuracia dataset 2: 10.0 %\n"
     ]
    }
   ],
   "source": [
    "import numpy as np\n",
    "\n",
    "hits_dataset1 = 0\n",
    "hits_dataset2 = 0\n",
    "\n",
    "y_dataset1 = np.load(\"../datasets/beta/labels1.npy\")\n",
    "y_dataset2 = np.load(\"../datasets/beta/labels2.npy\")\n",
    "\n",
    "threshold = 0.20\n",
    "targets = [float(item) for item in dataset1.event_id.keys()]\n",
    "\n",
    "for i in range(len(dataset1)):\n",
    "    view_dataset1 = dataset1[i].compute_psd(method='welch', fmin=7, fmax=17, verbose=False)\n",
    "    view_dataset2 = dataset2[i].compute_psd(method='welch', fmin=7, fmax=17, verbose=False)\n",
    "\n",
    "    for target in targets:\n",
    "        fmin = target - threshold\n",
    "        fmax = target + threshold\n",
    "\n",
    "        # Dataset 1\n",
    "        features_dataset1 = view_dataset1.get_data(fmin=fmin, fmax=fmax)\n",
    "        X_dataset1 = np.array(features_dataset1)\n",
    "        max_frequency_dataset1 = np.max(X_dataset1, axis=1)\n",
    "\n",
    "        if np.any((max_frequency_dataset1 >= fmin) & (max_frequency_dataset1 <= fmax)):\n",
    "            hits_dataset1 += 1\n",
    "\n",
    "        # Dataset 2\n",
    "        features_dataset2 = view_dataset2.get_data(fmin=fmin, fmax=fmax)\n",
    "        X_dataset2 = np.array(features_dataset2)\n",
    "        max_frequency_dataset2 = np.max(X_dataset2, axis=1)\n",
    "\n",
    "        if np.any((max_frequency_dataset2 >= fmin) & (max_frequency_dataset2 <= fmax)):\n",
    "            hits_dataset2 += 1\n",
    "\n",
    "accuracy_dataset1 = (hits_dataset1 / len(y_dataset1)) * 100 \n",
    "accuracy_dataset2 = (hits_dataset2  / len(y_dataset2)) * 100\n",
    "\n",
    "print(f\"Accuracia dataset 1: {accuracy_dataset1} %\")\n",
    "print(f\"Accuracia dataset 2: {accuracy_dataset2} %\")"
   ]
  },
  {
   "cell_type": "code",
   "execution_count": null,
   "metadata": {},
   "outputs": [],
   "source": []
  }
 ],
 "metadata": {
  "kernelspec": {
   "display_name": "Python 3",
   "language": "python",
   "name": "python3"
  },
  "language_info": {
   "codemirror_mode": {
    "name": "ipython",
    "version": 3
   },
   "file_extension": ".py",
   "mimetype": "text/x-python",
   "name": "python",
   "nbconvert_exporter": "python",
   "pygments_lexer": "ipython3",
   "version": "3.11.6"
  }
 },
 "nbformat": 4,
 "nbformat_minor": 2
}
