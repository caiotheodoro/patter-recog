{
 "cells": [
  {
   "cell_type": "code",
   "execution_count": 7,
   "metadata": {},
   "outputs": [],
   "source": [
    "# imports\n",
    "\n",
    "from scipy.io import loadmat\n",
    "import numpy as np"
   ]
  },
  {
   "cell_type": "code",
   "execution_count": 8,
   "metadata": {},
   "outputs": [],
   "source": [
    "# pré-carregamento\n",
    "\n",
    "\n",
    "import math\n",
    "\n",
    "\n",
    "avi_data = list()\n",
    "j = 1\n",
    "k = 1\n",
    "for i in range(1, 11):\n",
    "    if j == 3:\n",
    "        j = 1\n",
    "    avi_data.append(loadmat(f\"datasets/avi/multi/Sub{math.ceil(i / 2)}_{j}_multitarget.mat\"))\n",
    "    j += 1"
   ]
  },
  {
   "cell_type": "code",
   "execution_count": 9,
   "metadata": {},
   "outputs": [
    {
     "name": "stdout",
     "output_type": "stream",
     "text": [
      "Divisão dos dados:\n",
      "(8192, 10) (10, 8192)\n",
      "(8192, 10) (10, 8192)\n",
      "(8192, 10) (10, 8192)\n",
      "(8192, 10) (10, 8192)\n",
      "(8192, 10) (10, 8192)\n",
      "(8192, 10) (10, 8192)\n",
      "(8192, 10) (10, 8192)\n",
      "(8192, 10) (10, 8192)\n",
      "(8192, 10) (10, 8192)\n",
      "(8192, 10) (10, 8192)\n",
      "\n",
      "Divisão dos rótulos (sequências):\n",
      "[7.5 8.2 7.  8.2 6.  7.5 6.  6.  8.2 8.2]\n",
      "[9.3 6.  6.  8.2 6.  6.5 7.5 7.  6.  6. ]\n",
      "[7.5 8.2 7.  8.2 6.  7.5 6.  6.  8.2 8.2]\n",
      "[9.3 6.  6.  8.2 6.  6.5 7.5 7.  6.  6. ]\n",
      "[7.5 8.2 7.  8.2 6.  7.5 6.  6.  8.2 8.2]\n",
      "[9.3 6.  6.  8.2 6.  6.5 7.5 7.  6.  6. ]\n",
      "[7.5 8.2 7.  8.2 6.  7.5 6.  6.  8.2 8.2]\n",
      "[9.3 6.  6.  8.2 6.  6.5 7.5 7.  6.  6. ]\n",
      "[7.5 8.2 7.  8.2 6.  7.5 6.  6.  8.2 8.2]\n",
      "[9.3 6.  6.  8.2 6.  6.5 7.5 7.  6.  6. ]\n"
     ]
    }
   ],
   "source": [
    "# extração direta dos dados\n",
    "\n",
    "X = [d['Data'][0][0][7] for d in avi_data]\n",
    "y = [d['Data'][0][0][8][0] for d in avi_data]\n",
    "\n",
    "print(\"Divisão dos dados:\")\n",
    "for data in X:\n",
    "    print(data.shape, data.T.shape)\n",
    "\n",
    "print(\"\\nDivisão dos rótulos (sequências):\")\n",
    "for data in y:\n",
    "    print(data)"
   ]
  },
  {
   "cell_type": "code",
   "execution_count": 10,
   "metadata": {},
   "outputs": [],
   "source": [
    "# padronizando 1º participante\n",
    "dados = list()\n",
    "labels = list()\n",
    "\n",
    "for i in range(10):\n",
    "    dados.append(X[i])\n",
    "    labels.append(y[i])\n",
    "\n",
    "data = np.array(dados)\n",
    "label = np.array(labels)\n",
    "\n",
    "np.save(\"datasets/avi/multi/data_sub1.npy\", data)\n",
    "np.save(\"datasets/avi/multi/labels_sub1.npy\", label)\n",
    "\n"
   ]
  },
  {
   "cell_type": "code",
   "execution_count": null,
   "metadata": {},
   "outputs": [],
   "source": []
  }
 ],
 "metadata": {
  "kernelspec": {
   "display_name": "Python 3 (ipykernel)",
   "language": "python",
   "name": "python3"
  },
  "language_info": {
   "codemirror_mode": {
    "name": "ipython",
    "version": 3
   },
   "file_extension": ".py",
   "mimetype": "text/x-python",
   "name": "python",
   "nbconvert_exporter": "python",
   "pygments_lexer": "ipython3",
   "version": "3.10.11"
  }
 },
 "nbformat": 4,
 "nbformat_minor": 4
}
