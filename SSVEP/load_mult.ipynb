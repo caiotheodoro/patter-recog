{
 "cells": [
  {
   "cell_type": "code",
   "execution_count": 1,
   "metadata": {},
   "outputs": [],
   "source": [
    "# imports\n",
    "\n",
    "from scipy.io import loadmat\n",
    "import numpy as np"
   ]
  },
  {
   "cell_type": "code",
   "execution_count": 2,
   "metadata": {},
   "outputs": [
    {
     "name": "stdout",
     "output_type": "stream",
     "text": [
      "Divisão dos dados:\n",
      "(10, 8192)\n",
      "(10, 8192)\n",
      "(10, 8192)\n",
      "(10, 8192)\n",
      "(10, 8192)\n",
      "(10, 8192)\n",
      "(10, 8192)\n",
      "(10, 8192)\n",
      "(10, 8192)\n",
      "(10, 8192)\n",
      "[7.5 8.2 7.  8.2 6.  7.5 6.  6.  8.2 8.2]\n",
      "[9.3 6.  6.  8.2 6.  6.5 7.5 7.  6.  6. ]\n",
      "[7.5 8.2 7.  8.2 6.  7.5 6.  6.  8.2 8.2]\n",
      "[9.3 6.  6.  8.2 6.  6.5 7.5 7.  6.  6. ]\n",
      "[7.5 8.2 7.  8.2 6.  7.5 6.  6.  8.2 8.2]\n",
      "[9.3 6.  6.  8.2 6.  6.5 7.5 7.  6.  6. ]\n",
      "[7.5 8.2 7.  8.2 6.  7.5 6.  6.  8.2 8.2]\n",
      "[9.3 6.  6.  8.2 6.  6.5 7.5 7.  6.  6. ]\n",
      "[7.5 8.2 7.  8.2 6.  7.5 6.  6.  8.2 8.2]\n",
      "[9.3 6.  6.  8.2 6.  6.5 7.5 7.  6.  6. ]\n"
     ]
    }
   ],
   "source": [
    "avi_data_mult = list()\n",
    "for i in range(1,6):\n",
    "    for j in range(1,3):\n",
    "        avi_data_mult.append(loadmat(f\"datasets/avi/multi/Sub{i}_{j}_multitarget.mat\"))\n",
    "\n",
    "\n",
    "\n",
    "X = [d['Data'][0][0][7] for d in avi_data_mult]\n",
    "y = [d['Data'][0][0][8][0] for d in avi_data_mult]\n",
    "\n",
    "print(\"Divisão dos dados:\")\n",
    "\n",
    "\n",
    "X = [data.T for data in X]\n",
    "\n",
    "\n",
    "for data in X:\n",
    "    print(data.shape)\n",
    "for data in y:\n",
    "    \n",
    "    print(data)\n",
    "\n",
    "    \n"
   ]
  },
  {
   "cell_type": "code",
   "execution_count": null,
   "metadata": {},
   "outputs": [],
   "source": []
  }
 ],
 "metadata": {
  "kernelspec": {
   "display_name": "Python 3",
   "language": "python",
   "name": "python3"
  },
  "language_info": {
   "codemirror_mode": {
    "name": "ipython",
    "version": 3
   },
   "file_extension": ".py",
   "mimetype": "text/x-python",
   "name": "python",
   "nbconvert_exporter": "python",
   "pygments_lexer": "ipython3",
   "version": "3.11.5"
  },
  "orig_nbformat": 4
 },
 "nbformat": 4,
 "nbformat_minor": 2
}
