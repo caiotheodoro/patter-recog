{
 "cells": [
  {
   "cell_type": "markdown",
   "metadata": {},
   "source": [
    "## Visualização e pré-processamento"
   ]
  },
  {
   "cell_type": "markdown",
   "metadata": {},
   "source": [
    "A seguir, a implementação de cada um dos filtros: passa-faixa (bandpass), passa-baixa (lowpass), passa-alta (highpass) e corta-faixa (notch)."
   ]
  },
  {
   "cell_type": "code",
   "execution_count": null,
   "metadata": {},
   "outputs": [],
   "source": [
    "%matplotlib inline\n",
    "import matplotlib.pyplot as plt\n",
    "from matplotlib import rcParams\n",
    "import numpy as np\n",
    "from scipy import signal\n",
    "from sklearn.preprocessing import LabelEncoder\n",
    "import mne\n",
    "\n",
    "\n",
    "# definições de filtros\n",
    "\n",
    "def butter_bandpass(data, lowcut, highcut, fs=512, order=4):\n",
    "    nyq = fs * 0.5\n",
    "    low = lowcut / nyq\n",
    "    high = highcut / nyq\n",
    "    b, a = signal.butter(order, [low, high], btype='bandpass')\n",
    "    return signal.filtfilt(b, a, data)\n",
    "\n",
    "\n",
    "def butter_lowpass(data, lowcut, fs=512, order=4):\n",
    "    nyq = fs * 0.5\n",
    "    low = lowcut / nyq\n",
    "    b, a = signal.butter(order, low, btype='lowpass')\n",
    "    return signal.filtfilt(b, a, data)\n",
    "\n",
    "\n",
    "def butter_highpass(data, highcut, fs=512, order=4):\n",
    "    nyq = fs * 0.5\n",
    "    high = highcut / nyq\n",
    "    b, a = signal.butter(order, high, btype='highpass')\n",
    "    return signal.filtfilt(b, a, data)\n",
    "\n",
    "\n",
    "def butter_notch(data, cutoff, var=1, fs=512, order=4):\n",
    "    nyq = fs * 0.5\n",
    "    low = (cutoff - var) / nyq\n",
    "    high = (cutoff + var) / nyq\n",
    "    b, a = signal.iirfilter(order, [low, high], btype='bandstop', ftype=\"butter\")\n",
    "    return signal.filtfilt(b, a, data)"
   ]
  },
  {
   "cell_type": "markdown",
   "metadata": {},
   "source": [
    "Para imprimir os dados no domínio da frequência, foi utilizado a função `matplotlib.pyplot.psd` que na verdade utiliza a transformação dos dados por FFT, porém aplica uma característica que evidencia a \"energia\" dos dados, chamado de PSD (_Power Spectrum Density_)\n",
    "\n",
    "Definição de função para imprimir os dados no domínio do tempo e da frequência:"
   ]
  },
  {
   "cell_type": "code",
   "execution_count": null,
   "metadata": {},
   "outputs": [],
   "source": [
    "def print_graphs(data):\n",
    "    for i in range(0, 21, 3):\n",
    "        plt.plot(data[i,:])\n",
    "    plt.title('Domínio do tempo')\n",
    "    plt.show()\n",
    "\n",
    "    for i in range(0, 21, 3):\n",
    "        plt.psd(data[i,:], Fs=512)\n",
    "    plt.title('Domínio da frequência')\n",
    "    plt.show()\n",
    "\n",
    "    for i in range(0, 21, 3):\n",
    "        plt.specgram(data[i,:], Fs=512)\n",
    "    plt.title('Domínio da frequência')\n",
    "    plt.show()"
   ]
  },
  {
   "cell_type": "markdown",
   "metadata": {},
   "source": [
    "Carregamento dos dados de um participante da base de dados AVI:"
   ]
  },
  {
   "cell_type": "code",
   "execution_count": null,
   "metadata": {},
   "outputs": [],
   "source": [
    "data = np.load(\"datasets/avi/single/data_sub1.npy\")\n",
    "print(data.shape)\n",
    "\n",
    "# Transpondo dados para organizar os dados na última dimensão\n",
    "data = data.T\n",
    "data.shape"
   ]
  },
  {
   "cell_type": "markdown",
   "metadata": {},
   "source": [
    "Visualização do sinal em todos os domínios apresentados, sem a aplicação de nenhum filtro:"
   ]
  },
  {
   "cell_type": "code",
   "execution_count": null,
   "metadata": {},
   "outputs": [],
   "source": [
    "rcParams['figure.figsize'] = [16., 5.]\n",
    "print_graphs(data)"
   ]
  },
  {
   "cell_type": "markdown",
   "metadata": {},
   "source": [
    "Para facilitar o trabalho de visualização dos dados nas faixas de frequência de trabalho, vamos utilizar a ferramenta `MNE`:"
   ]
  },
  {
   "cell_type": "code",
   "execution_count": null,
   "metadata": {},
   "outputs": [],
   "source": [
    "# criação de um objeto \"info\"\n",
    "n_channels = 1\n",
    "sfreq = 512\n",
    "ch_names = ['Oz']\n",
    "ch_types = ['eeg']\n",
    "info = mne.create_info(ch_names, sfreq=sfreq, ch_types=ch_types)\n",
    "info"
   ]
  },
  {
   "cell_type": "code",
   "execution_count": null,
   "metadata": {},
   "outputs": [],
   "source": [
    "from sklearn.preprocessing import LabelEncoder\n",
    "\n",
    "labels = np.load(\"datasets/avi/single/labels_sub1.npy\")[0]\n",
    "print(labels, labels.shape)"
   ]
  },
  {
   "cell_type": "code",
   "execution_count": null,
   "metadata": {},
   "outputs": [],
   "source": [
    "for i in range(0,4):\n",
    "    data = np.load(\"datasets/avi/single/data_sub1.npy\")[i]\n",
    "    data_correct = data.reshape(data.shape[0], 1, data.shape[1])\n",
    "    # adicionando label como \"épocas\" do sinal\n",
    "    labels = np.load(\"datasets/avi/single/labels_sub1.npy\")[0].flatten()\n",
    "    # método para transformar labels categóricos\n",
    "    le = LabelEncoder()\n",
    "    events = np.column_stack((\n",
    "        np.array(range(len(labels))),\n",
    "        np.zeros(21, dtype=int),\n",
    "        le.fit_transform(labels))\n",
    "    )\n",
    "    event_dict = {'6':0, '6.5':1, '7':2, '7.5':3, '8.2':4, '9.3':5, '10':6}\n",
    "    mne_data = mne.EpochsArray(data_correct, info, events, event_id=event_dict)\n",
    "    mne_data\n",
    "\n",
    "    #salvar fif\n",
    "    mne_data.save('datasets/avi/single/sub1_run'+str(i+1)+'-epo.fif', overwrite=True)"
   ]
  },
  {
   "cell_type": "code",
   "execution_count": null,
   "metadata": {},
   "outputs": [],
   "source": [
    "import warnings\n",
    "warnings.filterwarnings('ignore')\n",
    "\n",
    "for i in range(len(mne_data)):\n",
    "    # view = mne_data.compute_psd(method='welch', fmin=3, fmax=13)\n",
    "    view = mne_data[i].compute_psd(method='multitaper', fmin=3, fmax=13,\n",
    "                                   verbose=False)\n",
    "    view.plot(show=False)\n",
    "    print()\n",
    "    plt.title('Domínio da frequência')\n",
    "    plt.axvline(x=float(list(mne_data[i].event_id)[0]), linestyle='--',\n",
    "                color='green')\n",
    "    plt.show()\n",
    "print()\n"
   ]
  },
  {
   "cell_type": "markdown",
   "metadata": {},
   "source": [
    "### Tarefas\n",
    "\n",
    "- Estudar e utilizar os exemplos já apresentados no repositório `tutoriais` e criar o objeto `mne.EpochsArray` para os dados *single* e *multi-target* (`AVI dataset`);\n",
    "- Estudar documentos MNE para realizar a aplicação dos filtros temporais a partir de objetos `mne.EpochArray` (sempre verificando as frequências utilizadas como targets dos `datasets`). Isto também para os dados *single* e *multi-target* (`AVI dataset`);\n",
    "- **Ótimo**: elaborar toda a aplicação já realizada até o ponto anterior para o *dataset* `Beta`."
   ]
  },
  {
   "cell_type": "code",
   "execution_count": null,
   "metadata": {},
   "outputs": [],
   "source": [
    "mne_list = []\n",
    "for i in range(1,5):\n",
    "    labels = np.load(\"datasets/avi/single/labels_sub1.npy\")[0].flatten()\n",
    "    data = np.load(\"datasets/avi/single/data_sub1.npy\")[i]\n",
    "\n",
    "    data_correct = data.reshape(data.shape[0], 1, data.shape[1])\n",
    "    le = LabelEncoder()\n",
    "    events = np.column_stack((\n",
    "        np.array(range(len(labels))),\n",
    "        np.zeros(21, dtype=int),\n",
    "        le.fit_transform(labels))\n",
    "    )\n",
    "    event_dict = {'6':0, '6.5':1, '7':2, '7.5':3, '8.2':4, '9.3':5, '10':6}\n",
    "    mne_data = mne.EpochsArray(data_correct, info, events, event_id=event_dict)\n",
    "    mne_data.plot(show=False)\n"
   ]
  },
  {
   "cell_type": "code",
   "execution_count": null,
   "metadata": {},
   "outputs": [],
   "source": [
    "mne_list = []\n",
    "for i in range(1,5):\n",
    "    labels = np.load(\"datasets/avi/multi/labels_sub1.npy\")[0].flatten()\n",
    "    data = np.load(\"datasets/avi/multi/data_sub1.npy\")[0]\n",
    "\n",
    "\n",
    "    data = data.T\n",
    "    data_correct = data.reshape(data.shape[0], 1, data.shape[1])\n",
    "    le = LabelEncoder()\n",
    "    events = np.column_stack((\n",
    "        np.array(range(len(labels))),\n",
    "        np.zeros(10, dtype=int),\n",
    "        le.fit_transform(labels))\n",
    "    )\n",
    "    event_dict = {'6':0, '7':1,'7.5': 2, '8.2':3}\n",
    "    mne_data = mne.EpochsArray(data_correct, info, events, event_id=event_dict)\n",
    "    mne_data.plot(show=True) "
   ]
  },
  {
   "cell_type": "code",
   "execution_count": null,
   "metadata": {},
   "outputs": [],
   "source": []
  }
 ],
 "metadata": {
  "kernelspec": {
   "display_name": "venv",
   "language": "python",
   "name": "python3"
  },
  "language_info": {
   "codemirror_mode": {
    "name": "ipython",
    "version": 3
   },
   "file_extension": ".py",
   "mimetype": "text/x-python",
   "name": "python",
   "nbconvert_exporter": "python",
   "pygments_lexer": "ipython3",
   "version": "3.11.5"
  },
  "orig_nbformat": 4
 },
 "nbformat": 4,
 "nbformat_minor": 2
}
