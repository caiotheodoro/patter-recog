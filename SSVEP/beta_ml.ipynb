{
 "cells": [
  {
   "cell_type": "markdown",
   "metadata": {},
   "source": [
    "## Análise da base de dados `Beta` utilizando algoritmos de ML\n",
    "\n",
    "Neste notebook será analisado o `Beta dataset` utilizando algoritmos de ML para realizar a (1) extração de características, (2) seleção de características e (3) classificação dos dados\n",
    "\n",
    "### Pontos importantes do dataset\n",
    "\n",
    "- Frequências estimuladas (total de 40, com a diferença de 0.2 Hz uma da outra): 8.0, 8.2, ..., 15.6, 15.8;\n",
    "- Taxa de amostragem: 250 Hz"
   ]
  },
  {
   "cell_type": "markdown",
   "metadata": {},
   "source": [
    "### Analisar os \"momentos\" em que ocorrem evocação do sinal SSVEP\n",
    "\n",
    "1. Criar o objeto `MNE` a partir dos dados dados do participante;\n",
    "2. Aplicar no objeto `MNE` o filtro passa-faixa nos valores de 6 - 18 Hz;\n",
    "3. Criar cópias do objeto `MNE` com fatias de tempo menores para analisar momentos que ocorrem estimulos ou não (verificar artigo);\n",
    "    a) 0.0 - 0.5 segundos e 2.5 - 3.0 segundos ocorre apenas ruído;\n",
    "    b) 0.5 - 2.5 segundos ocorre sinal SSVEP (com ruídos)\n",
    "4. Com os sinais separados em objetos `MNE`, aplicar a `FFT`, para que seja possível plotar gráficos que contenham (ou não) as informações.\n",
    "    - Os dados devem ser plotados no domínio da frequência (após a transformada de Fourier). O FFT pode ser realizado pela biblioteca `scipy.fft`.\n",
    "    - Deve ser observado que as janelas (a) com ruído não aparecerão de fato o sinal SSVEP."
   ]
  },
  {
   "cell_type": "markdown",
   "metadata": {},
   "source": [
    "### Extração de características\n",
    "\n",
    "Uma característica importante de acordo com o artigo base do dataset `BETA` é o *signal-to-noise ratio* (SNR).\n",
    "São dois tipos de características SNR que podem ser implementadas: SNR de banda estreita (`narrow-SNR`) e SNR de banda larga (`wide-band SNR`).\n",
    "\n",
    "Uma boa prática, é considerar o ruído das medidas de `SNR`, uma vez que os dados `SSVEP` não estão estimulados durante os períodos de 0 a 0,5 segundos e de 2,5 a 3 segundos. O ruído pode afetar a precisão das medidas de `SNR` e, portanto, é aconselhável levar isso em consideração.\n",
    "\n",
    "Vamos realizar todos esses cálculos com dados fictícios:"
   ]
  },
  {
   "cell_type": "code",
<<<<<<< Updated upstream
   "execution_count": 52,
=======
   "execution_count": 127,
>>>>>>> Stashed changes
   "metadata": {},
   "outputs": [
    {
     "data": {
      "text/plain": [
       "(160, 64, 750)"
      ]
     },
<<<<<<< Updated upstream
     "execution_count": 52,
=======
     "execution_count": 127,
>>>>>>> Stashed changes
     "metadata": {},
     "output_type": "execute_result"
    }
   ],
   "source": [
    "# Criando dados fictícios\n",
    "\n",
    "import numpy as np\n",
    "\n",
<<<<<<< Updated upstream
    "shape = (160, 64, 750)\n",
    "data = np.random.normal(loc=0, scale=10, size=shape).astype(np.float32)\n",
    "data = np.load(\"./datasets/beta/data1.npy\")\n",
    "data.shape"
=======
    "ch_ideal = [\"Pz\", \"PO3\", \"PO5\", \"PO4\", \"PO6\", \"POz\", \"O1\", \"Oz\", \"O2\"] #canais ideais\n",
    "ch_names = [\"FP1\", \"FPZ\", \"FP2\", \"AF3\", \"AF4\", \"F7\", \"F5\", \"F3\", \"F1\", \"FZ\", \"F2\", \"F4\", \"F6\", \"F8\", \"FT7\", \"FC5\", \"FC3\", \"FC1\", \"FCZ\", \"FC2\", \"FC4\", \"FC6\", \"FT8\", \"T7\", \"C5\", \"C3\", \"C1\", \"CZ\", \"C2\", \"C4\", \"C6\", \"T8\", \"M1\", \"TP7\", \"CP5\", \"CP3\", \"CP1\", \"CPZ\", \"CP2\", \"CP4\", \"CP6\", \"TP8\", \"M2\", \"P7\", \"P5\", \"P3\", \"P1\", \"PZ\", \"P2\", \"P4\", \"P6\", \"P8\", \"PO7\", \"PO5\", \"PO3\", \"POZ\", \"PO4\", \"PO6\", \"PO8\", \"CB1\", \"O1\", \"OZ\", \"O2\", \"CB2\"]\n",
    "\n",
    "\n",
    "data = np.load(\"./datasets/beta/data1.npy\")\n",
    "\n",
    "\n",
    "labels = np.load(\"./datasets/beta/labels1.npy\")\n",
    "\n",
    "data.shape,labels.shape"
   ]
  },
  {
   "cell_type": "code",
   "execution_count": 128,
   "metadata": {},
   "outputs": [
    {
     "data": {
      "text/plain": [
       "(15.8, 8.0)"
      ]
     },
     "execution_count": 128,
     "metadata": {},
     "output_type": "execute_result"
    }
   ],
   "source": [
    "import mne\n",
    "\n",
    "n_channels = 64\n",
    "sfreq = 250\n",
    "info = mne.create_info(ch_names, sfreq=sfreq, ch_types=(['eeg'] * len(ch_names)))\n",
    "\n",
    "ev = {str(value): index  for index, value in enumerate(sorted(set(labels)))}\n",
    "\n",
    "labels.max(), labels.min()"
>>>>>>> Stashed changes
   ]
  },
  {
   "cell_type": "markdown",
   "metadata": {},
   "source": [
    "Agora iremos estimar o ruído de fundo, para calcular posteriormente o `narrow SNR` e o `wide-band SNR`. "
   ]
  },
  {
   "cell_type": "code",
<<<<<<< Updated upstream
   "execution_count": 53,
   "metadata": {},
   "outputs": [
    {
     "data": {
      "text/plain": [
       "42300.354473251005"
      ]
     },
     "execution_count": 53,
=======
   "execution_count": 129,
   "metadata": {},
   "outputs": [
    {
     "name": "stdout",
     "output_type": "stream",
     "text": [
      "Not setting metadata\n",
      "160 matching events found\n",
      "No baseline correction applied\n",
      "0 projection items activated\n",
      "Not setting metadata\n",
      "160 matching events found\n",
      "No baseline correction applied\n",
      "0 projection items activated\n",
      "Setting up band-pass filter from 7.8 - 16 Hz\n",
      "\n",
      "FIR filter parameters\n",
      "---------------------\n",
      "Designing a one-pass, zero-phase, non-causal bandpass filter:\n",
      "- Windowed time-domain design (firwin) method\n",
      "- Hamming window with 0.0194 passband ripple and 53 dB stopband attenuation\n",
      "- Lower passband edge: 7.80\n",
      "- Lower transition bandwidth: 2.00 Hz (-6 dB cutoff frequency: 6.80 Hz)\n",
      "- Upper passband edge: 16.00 Hz\n",
      "- Upper transition bandwidth: 4.00 Hz (-6 dB cutoff frequency: 18.00 Hz)\n",
      "- Filter length: 413 samples (1.652 s)\n",
      "\n"
     ]
    },
    {
     "name": "stderr",
     "output_type": "stream",
     "text": [
      "[Parallel(n_jobs=1)]: Done  17 tasks      | elapsed:    0.0s\n",
      "[Parallel(n_jobs=1)]: Done  71 tasks      | elapsed:    0.0s\n",
      "[Parallel(n_jobs=1)]: Done 161 tasks      | elapsed:    0.0s\n",
      "[Parallel(n_jobs=1)]: Done 287 tasks      | elapsed:    0.0s\n",
      "[Parallel(n_jobs=1)]: Done 449 tasks      | elapsed:    0.0s\n",
      "[Parallel(n_jobs=1)]: Done 647 tasks      | elapsed:    0.0s\n",
      "[Parallel(n_jobs=1)]: Done 881 tasks      | elapsed:    0.0s\n",
      "[Parallel(n_jobs=1)]: Done 1151 tasks      | elapsed:    0.0s\n",
      "[Parallel(n_jobs=1)]: Done 1457 tasks      | elapsed:    0.1s\n",
      "[Parallel(n_jobs=1)]: Done 1799 tasks      | elapsed:    0.1s\n",
      "[Parallel(n_jobs=1)]: Done 2177 tasks      | elapsed:    0.1s\n",
      "[Parallel(n_jobs=1)]: Done 2591 tasks      | elapsed:    0.1s\n",
      "[Parallel(n_jobs=1)]: Done 3041 tasks      | elapsed:    0.1s\n",
      "[Parallel(n_jobs=1)]: Done 3527 tasks      | elapsed:    0.1s\n",
      "[Parallel(n_jobs=1)]: Done 4049 tasks      | elapsed:    0.2s\n",
      "[Parallel(n_jobs=1)]: Done 4607 tasks      | elapsed:    0.2s\n",
      "[Parallel(n_jobs=1)]: Done 5201 tasks      | elapsed:    0.2s\n",
      "[Parallel(n_jobs=1)]: Done 5831 tasks      | elapsed:    0.2s\n",
      "[Parallel(n_jobs=1)]: Done 6497 tasks      | elapsed:    0.3s\n",
      "[Parallel(n_jobs=1)]: Done 7199 tasks      | elapsed:    0.3s\n",
      "[Parallel(n_jobs=1)]: Done 7937 tasks      | elapsed:    0.3s\n",
      "[Parallel(n_jobs=1)]: Done 8711 tasks      | elapsed:    0.3s\n",
      "[Parallel(n_jobs=1)]: Done 9521 tasks      | elapsed:    0.4s\n"
     ]
    },
    {
     "data": {
      "text/plain": [
       "(160, 64, 750)"
      ]
     },
     "execution_count": 129,
     "metadata": {},
     "output_type": "execute_result"
    }
   ],
   "source": [
    "from sklearn.preprocessing import LabelEncoder\n",
    "\n",
    "le = LabelEncoder()\n",
    "events = np.column_stack((\n",
    "    np.array(range(len(labels))),\n",
    "    np.zeros(160, dtype=int),\n",
    "    le.fit_transform(labels))\n",
    ")\n",
    "\n",
    "\n",
    "mne_data = mne.EpochsArray(data, info, events, event_id=ev)\n",
    "filtered_mne_data = mne.EpochsArray(data, info, events, event_id=ev).filter(7.8, 16.0)\n",
    "mne_data.get_data().shape"
   ]
  },
  {
   "cell_type": "code",
   "execution_count": 130,
   "metadata": {},
   "outputs": [
    {
     "name": "stderr",
     "output_type": "stream",
     "text": [
      "/var/folders/5y/hp3j720d4tld59t5jpzjfdg00000gn/T/ipykernel_3286/83043227.py:59: RuntimeWarning: tmax is not in time interval. tmax is set to <class 'mne.epochs.EpochsArray'>.tmax (2.996 s)\n",
      "  end = filtered_mne_data.copy().crop(tmin=2.5, tmax=3.0)\n"
     ]
    },
    {
     "data": {
      "text/plain": [
       "3058.277155025606"
      ]
     },
     "execution_count": 130,
>>>>>>> Stashed changes
     "metadata": {},
     "output_type": "execute_result"
    }
   ],
   "source": [
    "# Estimando o ruído de fundo\n",
    "\n",
    "# intervalos de tempo sem estímulo (0 a 0,5 segundos e 2,5 a 3 segundos)\n",
    "base_start = 0\n",
    "base_end = 125\n",
    "rest_start = 625\n",
    "rest_end = 750\n",
    "\n",
    "# armazena uma lista com as médias de potência para cada canal\n",
    "noise_power = []\n",
    "# consideramos a primeira amostra (1º target, 1º trial)\n",
    "for channel_data in data[0, :, :]:\n",
    "    fft_result = np.fft.fft(channel_data)\n",
    "    # densidade espectral de potência (PSD)\n",
    "    psd = np.abs(fft_result) ** 2\n",
    "    # média da potência nos intervalos de tempo sem estímulo\n",
    "    base_power = np.mean(psd[base_start:base_end])\n",
    "    rest_power = np.mean(psd[rest_start:rest_end])\n",
    "    # média das duas médias de potência obtidas anteriormente\n",
    "    mean_noise_power = (base_power + rest_power) / 2\n",
    "    noise_power.append(mean_noise_power)\n",
    "#média das médias de potência de todos os canais para estimar o ruído de fundo\n",
    "estimated_background_noise = np.mean(noise_power)\n",
    "estimated_background_noise"
   ]
  },
  {
   "cell_type": "markdown",
   "metadata": {},
   "source": [
    "Antes de calcular os SNRs, precisamos obter as amplitudes alvo por meio dos dados EEG:"
   ]
  },
  {
   "cell_type": "code",
   "execution_count": 54,
   "metadata": {},
   "outputs": [
    {
     "data": {
      "text/plain": [
       "(64, 40)"
      ]
     },
     "execution_count": 54,
     "metadata": {},
     "output_type": "execute_result"
    }
   ],
   "source": [
    "from scipy.signal import find_peaks\n",
    "\n",
    "sr = 250\n",
    "\n",
    "# frequências alvo\n",
    "target_frequencies = np.arange(8, 16, 0.2)\n",
    "# lista para armazenar as amplitudes nas frequências alvo\n",
    "target_amplitudes = []\n",
    "\n",
    "for channel_data in data[0, :, :]:\n",
    "    fft_result = np.fft.fft(channel_data)\n",
    "    psd = np.abs(fft_result) ** 2\n",
    "    frequencies = np.fft.fftfreq(len(fft_result), 1 / sr)\n",
    "    target_amplitudes_trial = []\n",
    "    for target_frequency in target_frequencies:\n",
    "        # encontrando o índice da frequência alvo no espectro de frequência\n",
    "        index = np.argmin(np.abs(frequencies - target_frequency))\n",
    "        # amplitude na frequência alvo\n",
    "        amplitude = np.sqrt(psd[index])\n",
    "        target_amplitudes_trial.append(amplitude)\n",
    "    target_amplitudes.append(target_amplitudes_trial)\n",
    "target_amplitudes = np.array(target_amplitudes)\n",
    "target_amplitudes.shape"
   ]
  },
  {
   "cell_type": "markdown",
   "metadata": {},
   "source": [
    "Vamos calcular o SNR de \"banda estreita\". Pode ser observado pela seguinte equação:\n",
    "\n",
    "$SNR_{banda\\ estreita} = 10 \\cdot \\log_{10}\\left(\\frac{\\text{energia total do espectro}}{\\text{média das amplitudes nas frequências vizinhas}}\\right)$\n",
    "\n",
    "Já o SNR de banda larga é definido da seguinte forma:\n",
    "\n",
    "$SNR_{banda\\ larga} = 10 \\cdot \\log_{10}\\left(\\frac{\\text{energia total do espectro}}{\\text{energia total do espectro de amplitude}}\\right)$"
   ]
  },
  {
   "cell_type": "code",
<<<<<<< Updated upstream
   "execution_count": 55,
=======
   "execution_count": 131,
>>>>>>> Stashed changes
   "metadata": {},
   "outputs": [
    {
     "name": "stdout",
     "output_type": "stream",
     "text": [
<<<<<<< Updated upstream
      "[[19.82717186 24.26081322 24.26081322 ... 15.64590411 19.58275271\n",
      "  19.58275271]\n",
      " [21.78768375 23.71482808 23.71482808 ... 14.05880289 19.15717556\n",
      "  19.15717556]\n",
      " [22.18945748 23.873285   23.873285   ... 12.98691673 18.3546991\n",
      "  18.3546991 ]\n",
      " ...\n",
      " [24.84833951 24.90060285 24.90060285 ... 23.60732439 19.95319979\n",
      "  19.95319979]\n",
      " [24.00267082 22.92993137 22.92993137 ... 23.10684901 18.828791\n",
      "  18.828791  ]\n",
      " [24.82505371 24.73022062 24.73022062 ... 23.47800171 19.60920596\n",
      "  19.60920596]]\n",
      "(64, 40)\n",
      "[[-35.74696811 -31.31332675 -31.31332675 ... -39.92823586 -35.99138726\n",
      "  -35.99138726]\n",
      " [-33.78645622 -31.85931189 -31.85931189 ... -41.51533708 -36.41696441\n",
      "  -36.41696441]\n",
      " [-33.38468249 -31.70085497 -31.70085497 ... -42.58722324 -37.21944087\n",
      "  -37.21944087]\n",
      " ...\n",
      " [-30.72580046 -30.67353712 -30.67353712 ... -31.96681557 -35.62094018\n",
      "  -35.62094018]\n",
      " [-31.57146914 -32.6442086  -32.6442086  ... -32.46729096 -36.74534897\n",
      "  -36.74534897]\n",
      " [-30.74908626 -30.84391935 -30.84391935 ... -32.09613826 -35.96493401\n",
      "  -35.96493401]]\n",
      "(64, 40)\n"
=======
      "[[[-0.27241351 -1.10519075 -1.10519075 ... -0.21593302 -0.28324949\n",
      "   -0.28324949]\n",
      "  [-0.51895251 -1.0713558  -1.0713558  ... -0.28076011 -0.16012848\n",
      "   -0.16012848]\n",
      "  [-0.70929343 -1.18929468 -1.18929468 ... -0.12705565 -0.16540343\n",
      "   -0.16540343]\n",
      "  ...\n",
      "  [-0.52608357 -0.55062908 -0.55062908 ... -0.27145906 -0.21612599\n",
      "   -0.21612599]\n",
      "  [-0.55677688 -0.34887477 -0.34887477 ... -0.17860937 -0.03250866\n",
      "   -0.03250866]\n",
      "  [-0.91497227 -0.79392844 -0.79392844 ... -0.33843856 -0.09481368\n",
      "   -0.09481368]]\n",
      "\n",
      " [[-0.35940872 -1.00559077 -1.00559077 ... -0.30793899 -0.10060445\n",
      "   -0.10060445]\n",
      "  [-0.49443862 -0.77875428 -0.77875428 ... -0.342609   -0.1798302\n",
      "   -0.1798302 ]\n",
      "  [-0.59396519 -0.80817514 -0.80817514 ... -0.34892718 -0.1938976\n",
      "   -0.1938976 ]\n",
      "  ...\n",
      "  [-0.68070241 -0.83252586 -0.83252586 ... -0.62163112 -0.56650632\n",
      "   -0.56650632]\n",
      "  [-0.50086802 -0.59027994 -0.59027994 ... -0.3139965  -0.38893873\n",
      "   -0.38893873]\n",
      "  [-0.85909597 -0.90232714 -0.90232714 ... -0.57675233 -0.49367299\n",
      "   -0.49367299]]\n",
      "\n",
      " [[-0.09392756 -0.35666705 -0.35666705 ... -0.29754125 -0.13028336\n",
      "   -0.13028336]\n",
      "  [-0.27172553 -0.24134767 -0.24134767 ... -0.24666807 -0.12194732\n",
      "   -0.12194732]\n",
      "  [-0.54940847 -0.32510809 -0.32510809 ... -0.14711735 -0.26621913\n",
      "   -0.26621913]\n",
      "  ...\n",
      "  [-0.30305449 -0.18367859 -0.18367859 ... -0.14440716 -0.89112147\n",
      "   -0.89112147]\n",
      "  [-0.34017029 -0.1559     -0.1559     ... -0.1836564  -0.93072788\n",
      "   -0.93072788]\n",
      "  [-0.25346567 -0.41282853 -0.41282853 ... -0.24861256 -1.07007295\n",
      "   -1.07007295]]\n",
      "\n",
      " ...\n",
      "\n",
      " [[-0.55966815 -0.52171439 -0.52171439 ... -0.27405908 -0.26987281\n",
      "   -0.26987281]\n",
      "  [-0.48264833 -0.6477978  -0.6477978  ... -0.3065618  -0.263989\n",
      "   -0.263989  ]\n",
      "  [-0.45534659 -0.72427215 -0.72427215 ... -0.33049844 -0.20732052\n",
      "   -0.20732052]\n",
      "  ...\n",
      "  [-1.39744426 -0.31556662 -0.31556662 ... -0.10307138 -0.52930279\n",
      "   -0.52930279]\n",
      "  [-0.95722457 -0.18754696 -0.18754696 ... -0.02293903 -0.46231814\n",
      "   -0.46231814]\n",
      "  [-1.62197046 -0.4005913  -0.4005913  ... -0.17474282 -0.77173349\n",
      "   -0.77173349]]\n",
      "\n",
      " [[-0.41253216 -0.46955723 -0.46955723 ... -0.48665018 -0.43636249\n",
      "   -0.43636249]\n",
      "  [-0.39266354 -0.4241319  -0.4241319  ... -0.41307287 -0.43838602\n",
      "   -0.43838602]\n",
      "  [-0.54373038 -0.43491113 -0.43491113 ... -0.34501938 -0.34122849\n",
      "   -0.34122849]\n",
      "  ...\n",
      "  [-0.3998941  -1.0411615  -1.0411615  ... -0.56568278 -0.15985191\n",
      "   -0.15985191]\n",
      "  [-0.04254782 -0.62738942 -0.62738942 ... -0.34997925 -0.21415931\n",
      "   -0.21415931]\n",
      "  [-0.57282703 -1.3594422  -1.3594422  ... -0.41010476 -0.46294562\n",
      "   -0.46294562]]\n",
      "\n",
      " [[-0.50525917 -0.14424009 -0.14424009 ... -0.36189816 -0.12463628\n",
      "   -0.12463628]\n",
      "  [-0.41008898 -0.29092766 -0.29092766 ... -0.34526711 -0.02024353\n",
      "   -0.02024353]\n",
      "  [-0.32128478 -0.38033159 -0.38033159 ... -0.31943942 -0.05204303\n",
      "   -0.05204303]\n",
      "  ...\n",
      "  [-0.52956433 -0.66769332 -0.66769332 ... -0.30963915 -0.21797766\n",
      "   -0.21797766]\n",
      "  [-0.4680825  -0.25199702 -0.25199702 ... -0.34365434 -0.2321566\n",
      "   -0.2321566 ]\n",
      "  [-0.53946438 -0.5948193  -0.5948193  ... -0.26905544 -0.23295226\n",
      "   -0.23295226]]]\n",
      "(160, 64, 40)\n",
      "[[[-55.96733682 -56.80011407 -56.80011407 ... -55.91085634 -55.9781728\n",
      "   -55.9781728 ]\n",
      "  [-56.21387582 -56.76627912 -56.76627912 ... -55.97568343 -55.85505179\n",
      "   -55.85505179]\n",
      "  [-56.40421674 -56.884218   -56.884218   ... -55.82197897 -55.86032674\n",
      "   -55.86032674]\n",
      "  ...\n",
      "  [-56.22100689 -56.2455524  -56.2455524  ... -55.96638237 -55.91104931\n",
      "   -55.91104931]\n",
      "  [-56.25170019 -56.04379808 -56.04379808 ... -55.87353269 -55.72743198\n",
      "   -55.72743198]\n",
      "  [-56.60989559 -56.48885176 -56.48885176 ... -56.03336187 -55.78973699\n",
      "   -55.78973699]]\n",
      "\n",
      " [[-56.05433203 -56.70051408 -56.70051408 ... -56.0028623  -55.79552777\n",
      "   -55.79552777]\n",
      "  [-56.18936193 -56.47367759 -56.47367759 ... -56.03753232 -55.87475351\n",
      "   -55.87475351]\n",
      "  [-56.2888885  -56.50309846 -56.50309846 ... -56.04385049 -55.88882092\n",
      "   -55.88882092]\n",
      "  ...\n",
      "  [-56.37562573 -56.52744918 -56.52744918 ... -56.31655444 -56.26142964\n",
      "   -56.26142964]\n",
      "  [-56.19579134 -56.28520325 -56.28520325 ... -56.00891982 -56.08386205\n",
      "   -56.08386205]\n",
      "  [-56.55401929 -56.59725046 -56.59725046 ... -56.27167564 -56.18859631\n",
      "   -56.18859631]]\n",
      "\n",
      " [[-55.78885088 -56.05159037 -56.05159037 ... -55.99246457 -55.82520667\n",
      "   -55.82520667]\n",
      "  [-55.96664884 -55.93627098 -55.93627098 ... -55.94159138 -55.81687064\n",
      "   -55.81687064]\n",
      "  [-56.24433178 -56.0200314  -56.0200314  ... -55.84204066 -55.96114244\n",
      "   -55.96114244]\n",
      "  ...\n",
      "  [-55.99797781 -55.8786019  -55.8786019  ... -55.83933047 -56.58604479\n",
      "   -56.58604479]\n",
      "  [-56.03509361 -55.85082332 -55.85082332 ... -55.87857972 -56.62565119\n",
      "   -56.62565119]\n",
      "  [-55.94838898 -56.10775185 -56.10775185 ... -55.94353588 -56.76499626\n",
      "   -56.76499626]]\n",
      "\n",
      " ...\n",
      "\n",
      " [[-56.25459147 -56.21663771 -56.21663771 ... -55.9689824  -55.96479613\n",
      "   -55.96479613]\n",
      "  [-56.17757165 -56.34272111 -56.34272111 ... -56.00148512 -55.95891232\n",
      "   -55.95891232]\n",
      "  [-56.15026991 -56.41919546 -56.41919546 ... -56.02542176 -55.90224383\n",
      "   -55.90224383]\n",
      "  ...\n",
      "  [-57.09236757 -56.01048994 -56.01048994 ... -55.79799469 -56.2242261\n",
      "   -56.2242261 ]\n",
      "  [-56.65214789 -55.88247027 -55.88247027 ... -55.71786234 -56.15724145\n",
      "   -56.15724145]\n",
      "  [-57.31689377 -56.09551462 -56.09551462 ... -55.86966613 -56.46665681\n",
      "   -56.46665681]]\n",
      "\n",
      " [[-56.10745547 -56.16448055 -56.16448055 ... -56.1815735  -56.13128581\n",
      "   -56.13128581]\n",
      "  [-56.08758685 -56.11905522 -56.11905522 ... -56.10799619 -56.13330933\n",
      "   -56.13330933]\n",
      "  [-56.2386537  -56.12983445 -56.12983445 ... -56.03994269 -56.03615181\n",
      "   -56.03615181]\n",
      "  ...\n",
      "  [-56.09481742 -56.73608481 -56.73608481 ... -56.2606061  -55.85477522\n",
      "   -55.85477522]\n",
      "  [-55.73747113 -56.32231274 -56.32231274 ... -56.04490257 -55.90908262\n",
      "   -55.90908262]\n",
      "  [-56.26775034 -57.05436552 -57.05436552 ... -56.10502808 -56.15786893\n",
      "   -56.15786893]]\n",
      "\n",
      " [[-56.20018249 -55.83916341 -55.83916341 ... -56.05682147 -55.8195596\n",
      "   -55.8195596 ]\n",
      "  [-56.10501229 -55.98585097 -55.98585097 ... -56.04019042 -55.71516684\n",
      "   -55.71516684]\n",
      "  [-56.01620809 -56.07525491 -56.07525491 ... -56.01436274 -55.74696635\n",
      "   -55.74696635]\n",
      "  ...\n",
      "  [-56.22448765 -56.36261664 -56.36261664 ... -56.00456246 -55.91290097\n",
      "   -55.91290097]\n",
      "  [-56.16300581 -55.94692034 -55.94692034 ... -56.03857765 -55.92707991\n",
      "   -55.92707991]\n",
      "  [-56.2343877  -56.28974262 -56.28974262 ... -55.96397876 -55.92787558\n",
      "   -55.92787558]]]\n",
      "(160, 64, 40)\n",
      "(2, 160, 64, 40)\n",
      "(160, 2, 64, 40)\n",
      "(160, 64, 2, 40)\n",
      "(160, 64, 80)\n"
>>>>>>> Stashed changes
     ]
    }
   ],
   "source": [
    "# forçando (estragando) valor de \"estimated_background_noise\" para não sobrar valores negativos\n",
    "estimated_background_noise = 1.\n",
    "target_amplitudes_adjusted = target_amplitudes - estimated_background_noise\n",
    "\n",
    "# subtraindo o ruído de fundo das amplitudes\n",
    "narrow_band_SNR = 10 * np.log10(target_amplitudes_adjusted / estimated_background_noise)\n",
    "print(narrow_band_SNR)\n",
    "print(narrow_band_SNR.shape)\n",
    "\n",
    "total_power = np.sum(target_amplitudes_adjusted)\n",
    "wide_band_SNR = 10 * np.log10(target_amplitudes_adjusted / total_power)\n",
    "print(wide_band_SNR)\n",
    "print(wide_band_SNR.shape)\n",
<<<<<<< Updated upstream
    "\n"
=======
    "\n",
    "data = np.array([narrow_band_SNR, wide_band_SNR]) # array com as duas razoes sinal ruido\n",
    "print(data.shape)\n",
    "data = data.swapaxes(0, 1) # troca de eixos\n",
    "print(data.shape)\n",
    "data = data.swapaxes(1, 2) # troca de eixos\n",
    "print(data.shape)\n",
    "data = data.reshape(data.shape[0], data.shape[1], data.shape[2] * data.shape[3]) # reshape\n",
    "\n",
    "print(data.shape)\n",
    "#salva os dados\n",
    "\n",
    "\n",
    "\n",
    "np.save(\"./datasets/beta/data1_filtered.npy\", data)"
>>>>>>> Stashed changes
   ]
  },
  {
   "cell_type": "markdown",
   "metadata": {},
   "source": [
    "Ao final desta etapa, será obtido um vetor de características. Estas podem ser:\n",
    "- `narrow SNR` (brigatória);\n",
    "- `wide-band SNR` (brigatória);\n",
    "- Maior valor espectral (FFT);\n",
    "- Média dos valores espectrais (FFT).\n",
    "\n",
    "Dimensionalidade dos dados será explicada da seguinte forma:\n",
    "\n",
    "`40, 4, 64, 750` -> 40 targets, 4 trials, 64 canais e 750 valores\n",
    "`160, 64 (SNR) + 64 (média) + 64 (maior) ...`\n",
    "Resultando em `160, 192`."
   ]
  },
  {
   "cell_type": "markdown",
   "metadata": {},
   "source": [
    "### Seleção de características e classificação\n",
    "\n",
    "Como existem diversos eletrodos (canais) que não obtém sinal SSVEP, podemos extrair as caracteríscas que não contribuem para a classificação dos dados.\n",
    "\n",
    "Podemos utilizar o método `RFE` (*Recursive Feature Elimination*) aplicado por meio de `sklearn.feature_selection.RFE`, aprimorando o parâmetro `n_features_to_select` até obter o melhor resultado de classificação.\n",
    "\n",
    "Para a classificação propriamente dita, é considerado o uso do método `SVM`."
   ]
  },
  {
   "cell_type": "code",
   "execution_count": null,
   "metadata": {},
   "outputs": [],
   "source": []
  }
 ],
 "metadata": {
  "kernelspec": {
   "display_name": "venv",
   "language": "python",
   "name": "python3"
  },
  "language_info": {
   "codemirror_mode": {
    "name": "ipython",
    "version": 3
   },
   "file_extension": ".py",
   "mimetype": "text/x-python",
   "name": "python",
   "nbconvert_exporter": "python",
   "pygments_lexer": "ipython3",
   "version": "3.11.6"
  },
  "orig_nbformat": 4
 },
 "nbformat": 4,
 "nbformat_minor": 2
}
