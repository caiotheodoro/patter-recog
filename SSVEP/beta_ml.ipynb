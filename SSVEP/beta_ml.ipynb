{
 "cells": [
  {
   "cell_type": "markdown",
   "metadata": {},
   "source": [
    "## Análise da base de dados `Beta` utilizando algoritmos de ML\n",
    "\n",
    "Neste notebook será analisado o `Beta dataset` utilizando algoritmos de ML para realizar a (1) extração de características, (2) seleção de características e (3) classificação dos dados\n",
    "\n",
    "### Pontos importantes do dataset\n",
    "\n",
    "- Frequências estimuladas (total de 40, com a diferença de 0.2 Hz uma da outra): 8.0, 8.2, ..., 15.6, 15.8;\n",
    "- Taxa de amostragem: 250 Hz"
   ]
  },
  {
   "cell_type": "markdown",
   "metadata": {},
   "source": [
    "### Analisar os \"momentos\" em que ocorrem evocação do sinal SSVEP\n",
    "\n",
    "1. Criar o objeto `MNE` a partir dos dados dados do participante;\n",
    "2. Aplicar no objeto `MNE` o filtro passa-faixa nos valores de 6 - 18 Hz;\n",
    "3. Criar cópias do objeto `MNE` com fatias de tempo menores para analisar momentos que ocorrem estimulos ou não (verificar artigo);\n",
    "    a) 0.0 - 0.5 segundos e 2.5 - 3.0 segundos ocorre apenas ruído;\n",
    "    b) 0.5 - 2.5 segundos ocorre sinal SSVEP (com ruídos)\n",
    "4. Com os sinais separados em objetos `MNE`, aplicar a `FFT`, para que seja possível plotar gráficos que contenham (ou não) as informações.\n",
    "    - Os dados devem ser plotados no domínio da frequência (após a transformada de Fourier). O FFT pode ser realizado pela biblioteca `scipy.fft`.\n",
    "    - Deve ser observado que as janelas (a) com ruído não aparecerão de fato o sinal SSVEP."
   ]
  },
  {
   "cell_type": "markdown",
   "metadata": {},
   "source": [
    "### Extração de características\n",
    "\n",
    "Uma característica importante de acordo com o artigo base do dataset `BETA` é o *signal-to-noise ratio* (SNR).\n",
    "São dois tipos de características SNR que podem ser implementadas: SNR de banda estreita (`narrow-SNR`) e SNR de banda larga (`wide-band SNR`).\n",
    "\n",
    "Uma boa prática, é considerar o ruído das medidas de `SNR`, uma vez que os dados `SSVEP` não estão estimulados durante os períodos de 0 a 0,5 segundos e de 2,5 a 3 segundos. O ruído pode afetar a precisão das medidas de `SNR` e, portanto, é aconselhável levar isso em consideração.\n",
    "\n",
    "Vamos realizar todos esses cálculos com dados fictícios:"
   ]
  },
  {
   "cell_type": "code",
   "execution_count": 52,
   "metadata": {},
   "outputs": [
    {
     "data": {
      "text/plain": [
       "(160, 64, 750)"
      ]
     },
     "execution_count": 52,
     "metadata": {},
     "output_type": "execute_result"
    }
   ],
   "source": [
    "# Criando dados fictícios\n",
    "\n",
    "import numpy as np\n",
    "\n",
    "shape = (160, 64, 750)\n",
    "data = np.random.normal(loc=0, scale=10, size=shape).astype(np.float32)\n",
    "data = np.load(\"./datasets/beta/data1.npy\")\n",
    "data.shape"
   ]
  },
  {
   "cell_type": "markdown",
   "metadata": {},
   "source": [
    "Agora iremos estimar o ruído de fundo, para calcular posteriormente o `narrow SNR` e o `wide-band SNR`. "
   ]
  },
  {
   "cell_type": "code",
   "execution_count": 53,
   "metadata": {},
   "outputs": [
    {
     "data": {
      "text/plain": [
       "42300.354473251005"
      ]
     },
     "execution_count": 53,
     "metadata": {},
     "output_type": "execute_result"
    }
   ],
   "source": [
    "# Estimando o ruído de fundo\n",
    "\n",
    "# intervalos de tempo sem estímulo (0 a 0,5 segundos e 2,5 a 3 segundos)\n",
    "base_start = 0\n",
    "base_end = 125\n",
    "rest_start = 625\n",
    "rest_end = 750\n",
    "\n",
    "# armazena uma lista com as médias de potência para cada canal\n",
    "noise_power = []\n",
    "# consideramos a primeira amostra (1º target, 1º trial)\n",
    "for channel_data in data[0, :, :]:\n",
    "    fft_result = np.fft.fft(channel_data)\n",
    "    # densidade espectral de potência (PSD)\n",
    "    psd = np.abs(fft_result) ** 2\n",
    "    # média da potência nos intervalos de tempo sem estímulo\n",
    "    base_power = np.mean(psd[base_start:base_end])\n",
    "    rest_power = np.mean(psd[rest_start:rest_end])\n",
    "    # média das duas médias de potência obtidas anteriormente\n",
    "    mean_noise_power = (base_power + rest_power) / 2\n",
    "    noise_power.append(mean_noise_power)\n",
    "#média das médias de potência de todos os canais para estimar o ruído de fundo\n",
    "estimated_background_noise = np.mean(noise_power)\n",
    "estimated_background_noise"
   ]
  },
  {
   "cell_type": "markdown",
   "metadata": {},
   "source": [
    "Antes de calcular os SNRs, precisamos obter as amplitudes alvo por meio dos dados EEG:"
   ]
  },
  {
   "cell_type": "code",
   "execution_count": 54,
   "metadata": {},
   "outputs": [
    {
     "data": {
      "text/plain": [
       "(64, 40)"
      ]
     },
     "execution_count": 54,
     "metadata": {},
     "output_type": "execute_result"
    }
   ],
   "source": [
    "from scipy.signal import find_peaks\n",
    "\n",
    "sr = 250\n",
    "\n",
    "# frequências alvo\n",
    "target_frequencies = np.arange(8, 16, 0.2)\n",
    "# lista para armazenar as amplitudes nas frequências alvo\n",
    "target_amplitudes = []\n",
    "\n",
    "for channel_data in data[0, :, :]:\n",
    "    fft_result = np.fft.fft(channel_data)\n",
    "    psd = np.abs(fft_result) ** 2\n",
    "    frequencies = np.fft.fftfreq(len(fft_result), 1 / sr)\n",
    "    target_amplitudes_trial = []\n",
    "    for target_frequency in target_frequencies:\n",
    "        # encontrando o índice da frequência alvo no espectro de frequência\n",
    "        index = np.argmin(np.abs(frequencies - target_frequency))\n",
    "        # amplitude na frequência alvo\n",
    "        amplitude = np.sqrt(psd[index])\n",
    "        target_amplitudes_trial.append(amplitude)\n",
    "    target_amplitudes.append(target_amplitudes_trial)\n",
    "target_amplitudes = np.array(target_amplitudes)\n",
    "target_amplitudes.shape"
   ]
  },
  {
   "cell_type": "markdown",
   "metadata": {},
   "source": [
    "Vamos calcular o SNR de \"banda estreita\". Pode ser observado pela seguinte equação:\n",
    "\n",
    "$SNR_{banda\\ estreita} = 10 \\cdot \\log_{10}\\left(\\frac{\\text{energia total do espectro}}{\\text{média das amplitudes nas frequências vizinhas}}\\right)$\n",
    "\n",
    "Já o SNR de banda larga é definido da seguinte forma:\n",
    "\n",
    "$SNR_{banda\\ larga} = 10 \\cdot \\log_{10}\\left(\\frac{\\text{energia total do espectro}}{\\text{energia total do espectro de amplitude}}\\right)$"
   ]
  },
  {
   "cell_type": "code",
   "execution_count": 55,
   "metadata": {},
   "outputs": [
    {
     "name": "stdout",
     "output_type": "stream",
     "text": [
      "[[19.82717186 24.26081322 24.26081322 ... 15.64590411 19.58275271\n",
      "  19.58275271]\n",
      " [21.78768375 23.71482808 23.71482808 ... 14.05880289 19.15717556\n",
      "  19.15717556]\n",
      " [22.18945748 23.873285   23.873285   ... 12.98691673 18.3546991\n",
      "  18.3546991 ]\n",
      " ...\n",
      " [24.84833951 24.90060285 24.90060285 ... 23.60732439 19.95319979\n",
      "  19.95319979]\n",
      " [24.00267082 22.92993137 22.92993137 ... 23.10684901 18.828791\n",
      "  18.828791  ]\n",
      " [24.82505371 24.73022062 24.73022062 ... 23.47800171 19.60920596\n",
      "  19.60920596]]\n",
      "(64, 40)\n",
      "[[-35.74696811 -31.31332675 -31.31332675 ... -39.92823586 -35.99138726\n",
      "  -35.99138726]\n",
      " [-33.78645622 -31.85931189 -31.85931189 ... -41.51533708 -36.41696441\n",
      "  -36.41696441]\n",
      " [-33.38468249 -31.70085497 -31.70085497 ... -42.58722324 -37.21944087\n",
      "  -37.21944087]\n",
      " ...\n",
      " [-30.72580046 -30.67353712 -30.67353712 ... -31.96681557 -35.62094018\n",
      "  -35.62094018]\n",
      " [-31.57146914 -32.6442086  -32.6442086  ... -32.46729096 -36.74534897\n",
      "  -36.74534897]\n",
      " [-30.74908626 -30.84391935 -30.84391935 ... -32.09613826 -35.96493401\n",
      "  -35.96493401]]\n",
      "(64, 40)\n"
     ]
    }
   ],
   "source": [
    "# forçando (estragando) valor de \"estimated_background_noise\" para não sobrar valores negativos\n",
    "estimated_background_noise = 1.\n",
    "target_amplitudes_adjusted = target_amplitudes - estimated_background_noise\n",
    "\n",
    "# subtraindo o ruído de fundo das amplitudes\n",
    "narrow_band_SNR = 10 * np.log10(target_amplitudes_adjusted / estimated_background_noise)\n",
    "print(narrow_band_SNR)\n",
    "print(narrow_band_SNR.shape)\n",
    "\n",
    "total_power = np.sum(target_amplitudes_adjusted)\n",
    "wide_band_SNR = 10 * np.log10(target_amplitudes_adjusted / total_power)\n",
    "print(wide_band_SNR)\n",
    "print(wide_band_SNR.shape)\n",
    "\n"
   ]
  },
  {
   "cell_type": "markdown",
   "metadata": {},
   "source": [
    "Ao final desta etapa, será obtido um vetor de características. Estas podem ser:\n",
    "- `narrow SNR` (brigatória);\n",
    "- `wide-band SNR` (brigatória);\n",
    "- Maior valor espectral (FFT);\n",
    "- Média dos valores espectrais (FFT).\n",
    "\n",
    "Dimensionalidade dos dados será explicada da seguinte forma:\n",
    "\n",
    "`40, 4, 64, 750` -> 40 targets, 4 trials, 64 canais e 750 valores\n",
    "`160, 64 (SNR) + 64 (média) + 64 (maior) ...`\n",
    "Resultando em `160, 192`."
   ]
  },
  {
   "cell_type": "markdown",
   "metadata": {},
   "source": [
    "### Seleção de características e classificação\n",
    "\n",
    "Como existem diversos eletrodos (canais) que não obtém sinal SSVEP, podemos extrair as caracteríscas que não contribuem para a classificação dos dados.\n",
    "\n",
    "Podemos utilizar o método `RFE` (*Recursive Feature Elimination*) aplicado por meio de `sklearn.feature_selection.RFE`, aprimorando o parâmetro `n_features_to_select` até obter o melhor resultado de classificação.\n",
    "\n",
    "Para a classificação propriamente dita, é considerado o uso do método `SVM`."
   ]
  },
  {
   "cell_type": "code",
   "execution_count": null,
   "metadata": {},
   "outputs": [],
   "source": []
  }
 ],
 "metadata": {
  "kernelspec": {
   "display_name": "venv",
   "language": "python",
   "name": "python3"
  },
  "language_info": {
   "codemirror_mode": {
    "name": "ipython",
    "version": 3
   },
   "file_extension": ".py",
   "mimetype": "text/x-python",
   "name": "python",
   "nbconvert_exporter": "python",
   "pygments_lexer": "ipython3",
   "version": "3.10.11"
  },
  "orig_nbformat": 4
 },
 "nbformat": 4,
 "nbformat_minor": 2
}
