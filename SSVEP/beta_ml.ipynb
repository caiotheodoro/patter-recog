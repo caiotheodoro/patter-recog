{
 "cells": [
  {
   "cell_type": "markdown",
   "metadata": {},
   "source": [
    "## Análise da base de dados `Beta` utilizando algoritmos de ML\n",
    "\n",
    "Neste notebook será analisado o `Beta dataset` utilizando algoritmos de ML para realizar a (1) extração de características, (2) seleção de características e (3) classificação dos dados\n",
    "\n",
    "### Pontos importantes do dataset\n",
    "\n",
    "- Frequências estimuladas (total de 40, com a diferença de 0.2 Hz uma da outra): 8.0, 8.2, ..., 15.6, 15.8;\n",
    "- Taxa de amostragem: 250 Hz"
   ]
  },
  {
   "cell_type": "markdown",
   "metadata": {},
   "source": [
    "### Analisar os \"momentos\" em que ocorrem evocação do sinal SSVEP\n",
    "\n",
    "1. Criar o objeto `MNE` a partir dos dados dados do participante;\n",
    "2. Aplicar no objeto `MNE` o filtro passa-faixa nos valores de 6 - 18 Hz;\n",
    "3. Criar cópias do objeto `MNE` com fatias de tempo menores para analisar momentos que ocorrem estimulos ou não (verificar artigo);\n",
    "    a) 0.0 - 0.5 segundos e 2.5 - 3.0 segundos ocorre apenas ruído;\n",
    "    b) 0.5 - 2.5 segundos ocorre sinal SSVEP (com ruídos)\n",
    "4. Com os sinais separados em objetos `MNE`, aplicar a `FFT`, para que seja possível plotar gráficos que contenham (ou não) as informações.\n",
    "    - Os dados devem ser plotados no domínio da frequência (após a transformada de Fourier). O FFT pode ser realizado pela biblioteca `scipy.fft`.\n",
    "    - Deve ser observado que as janelas (a) com ruído não aparecerão de fato o sinal SSVEP."
   ]
  },
  {
   "cell_type": "markdown",
   "metadata": {},
   "source": [
    "### Extração de características\n",
    "\n",
    "Uma característica importante de acordo com o artigo base do dataset `BETA` é o *signal-to-noise ratio* (SNR).\n",
    "São dois tipos de características SNR que podem ser implementadas: SNR de banda estreita (`narrow-SNR`) e SNR de banda larga (`wide-band SNR`).\n",
    "\n",
    "Uma boa prática, é considerar o ruído das medidas de `SNR`, uma vez que os dados `SSVEP` não estão estimulados durante os períodos de 0 a 0,5 segundos e de 2,5 a 3 segundos. O ruído pode afetar a precisão das medidas de `SNR` e, portanto, é aconselhável levar isso em consideração.\n",
    "\n",
    "Vamos realizar todos esses cálculos com dados fictícios:"
   ]
  },
  {
   "cell_type": "code",
   "execution_count": 31,
   "metadata": {},
   "outputs": [
    {
     "data": {
      "text/plain": [
       "((160, 64, 750), (160,))"
      ]
     },
     "execution_count": 31,
     "metadata": {},
     "output_type": "execute_result"
    }
   ],
   "source": [
    "import numpy as np\n",
    "\n",
    "ch_ideal = [\"Pz\", \"PO3\", \"PO5\", \"PO4\", \"PO6\", \"POz\", \"O1\", \"Oz\", \"O2\"] #canais ideais\n",
    "ch_names = [\"FP1\", \"FPZ\", \"FP2\", \"AF3\", \"AF4\", \"F7\", \"F5\", \"F3\", \"F1\", \"FZ\", \"F2\", \"F4\", \"F6\", \"F8\", \"FT7\", \"FC5\", \"FC3\", \"FC1\", \"FCZ\", \"FC2\", \"FC4\", \"FC6\", \"FT8\", \"T7\", \"C5\", \"C3\", \"C1\", \"CZ\", \"C2\", \"C4\", \"C6\", \"T8\", \"M1\", \"TP7\", \"CP5\", \"CP3\", \"CP1\", \"CPZ\", \"CP2\", \"CP4\", \"CP6\", \"TP8\", \"M2\", \"P7\", \"P5\", \"P3\", \"P1\", \"PZ\", \"P2\", \"P4\", \"P6\", \"P8\", \"PO7\", \"PO5\", \"PO3\", \"POZ\", \"PO4\", \"PO6\", \"PO8\", \"CB1\", \"O1\", \"OZ\", \"O2\", \"CB2\"]\n",
    "\n",
    "\n",
    "data = np.load(\"./datasets/beta/data1.npy\")\n",
    "\n",
    "\n",
    "labels = np.load(\"./datasets/beta/labels1.npy\")\n",
    "\n",
    "data.shape,labels.shape"
   ]
  },
  {
   "cell_type": "code",
   "execution_count": 32,
   "metadata": {},
   "outputs": [
    {
     "data": {
      "text/plain": [
       "(15.8, 8.0)"
      ]
     },
     "execution_count": 32,
     "metadata": {},
     "output_type": "execute_result"
    }
   ],
   "source": [
    "import mne\n",
    "\n",
    "n_channels = 64\n",
    "sfreq = 250\n",
    "info = mne.create_info(ch_names, sfreq=sfreq, ch_types=(['eeg'] * len(ch_names)))\n",
    "\n",
    "ev = {str(value): index  for index, value in enumerate(sorted(set(labels)))}\n",
    "\n",
    "labels.max(), labels.min()"
   ]
  },
  {
   "cell_type": "markdown",
   "metadata": {},
   "source": [
    "Agora iremos estimar o ruído de fundo, para calcular posteriormente o `narrow SNR` e o `wide-band SNR`. "
   ]
  },
  {
   "cell_type": "code",
   "execution_count": 33,
   "metadata": {},
   "outputs": [
    {
     "name": "stdout",
     "output_type": "stream",
     "text": [
      "Not setting metadata\n",
      "160 matching events found\n",
      "No baseline correction applied\n",
      "0 projection items activated\n",
      "Not setting metadata\n",
      "160 matching events found\n",
      "No baseline correction applied\n",
      "0 projection items activated\n",
      "Setting up band-pass filter from 7.8 - 16 Hz\n",
      "\n",
      "FIR filter parameters\n",
      "---------------------\n",
      "Designing a one-pass, zero-phase, non-causal bandpass filter:\n",
      "- Windowed time-domain design (firwin) method\n",
      "- Hamming window with 0.0194 passband ripple and 53 dB stopband attenuation\n",
      "- Lower passband edge: 7.80\n",
      "- Lower transition bandwidth: 2.00 Hz (-6 dB cutoff frequency: 6.80 Hz)\n",
      "- Upper passband edge: 16.00 Hz\n",
      "- Upper transition bandwidth: 4.00 Hz (-6 dB cutoff frequency: 18.00 Hz)\n",
      "- Filter length: 413 samples (1.652 s)\n",
      "\n"
     ]
    },
    {
     "name": "stderr",
     "output_type": "stream",
     "text": [
      "[Parallel(n_jobs=1)]: Using backend SequentialBackend with 1 concurrent workers.\n",
      "[Parallel(n_jobs=1)]: Done   1 out of   1 | elapsed:    0.0s remaining:    0.0s\n",
      "[Parallel(n_jobs=1)]: Done   2 out of   2 | elapsed:    0.0s remaining:    0.0s\n",
      "[Parallel(n_jobs=1)]: Done   3 out of   3 | elapsed:    0.0s remaining:    0.0s\n",
      "[Parallel(n_jobs=1)]: Done   4 out of   4 | elapsed:    0.0s remaining:    0.0s\n",
      "[Parallel(n_jobs=1)]: Done 10240 out of 10240 | elapsed:    1.5s finished\n"
     ]
    },
    {
     "data": {
      "text/plain": [
       "(160, 64, 750)"
      ]
     },
     "execution_count": 33,
     "metadata": {},
     "output_type": "execute_result"
    }
   ],
   "source": [
    "from sklearn.preprocessing import LabelEncoder\n",
    "\n",
    "le = LabelEncoder()\n",
    "events = np.column_stack((\n",
    "    np.array(range(len(labels))),\n",
    "    np.zeros(160, dtype=int),\n",
    "    le.fit_transform(labels))\n",
    ")\n",
    "\n",
    "\n",
    "mne_data = mne.EpochsArray(data, info, events, event_id=ev)\n",
    "filtered_mne_data = mne.EpochsArray(data, info, events, event_id=ev).filter(7.8, 16.0)\n",
    "mne_data.get_data().shape"
   ]
  },
  {
   "cell_type": "code",
   "execution_count": 34,
   "metadata": {},
   "outputs": [
    {
     "data": {
      "text/plain": [
       "array([54541.8030593 , 89180.5209516 , 63580.52612903, 58396.86699836,\n",
       "       37904.7322381 , 63922.60044964, 50671.10162841, 47841.98900474,\n",
       "       50824.72673771, 43213.69696673, 45810.59980063, 46207.03202505,\n",
       "       42816.83120961, 49189.6046948 , 32935.88762919, 55458.45753401,\n",
       "       53533.04108616, 61032.01399977, 57023.33921482, 63295.71471488,\n",
       "       51526.94841751, 54767.60541026, 54703.96049986, 63817.16312976,\n",
       "       47609.67906004, 78281.95694162, 47895.21826413, 67436.55545053,\n",
       "       54237.39636954, 79515.08439016, 61966.79049858, 48163.87890113,\n",
       "       66008.95489261, 48557.72822784, 54862.1531362 , 48165.67535125,\n",
       "       55786.2966643 , 73973.70269376, 58952.95739982, 63228.79323659,\n",
       "       63554.90989799, 79999.03391522, 67870.50395082, 52942.078321  ,\n",
       "       62025.94832984, 37553.55220677, 43059.93764252, 54359.60620405,\n",
       "       44318.71702178, 43919.98429919, 55838.32084931, 57940.41519829,\n",
       "       74269.74373502, 60864.21239428, 48836.4728705 , 38550.75750071,\n",
       "       84381.72790044, 50800.1949326 , 56079.40260419, 59853.70731657,\n",
       "       38368.59602665, 62065.68003106, 90178.00937831, 60183.61588073,\n",
       "       47509.95094795, 57847.27476887, 66146.97201421, 54726.65528152,\n",
       "       61015.06846387, 81559.98926116, 60838.55820377, 40694.6817892 ,\n",
       "       53302.20222134, 54503.77607197, 48598.55402376, 64775.57400486,\n",
       "       51342.63148847, 56708.43424911, 45117.90678479, 56531.54927837,\n",
       "       54914.32060971, 50990.05372521, 62147.34688925, 69151.76070618,\n",
       "       48380.9522414 , 62533.89201021, 27445.11472159, 50595.78654562,\n",
       "       46337.93214261, 59095.3182178 , 61670.35262244, 81817.14894466,\n",
       "       64819.73900538, 61927.179713  , 44502.71359238, 45402.92398837,\n",
       "       59562.12537288, 63652.81223248, 85283.05705883, 37417.92906945,\n",
       "       88391.78534267, 91468.70632407, 75277.47992301, 91405.66987477,\n",
       "       61151.9583747 , 57008.86769512, 66895.88488516, 62534.6110328 ,\n",
       "       88283.77843029, 57719.057013  , 55084.85089917, 36353.05182658,\n",
       "       68581.79709579, 51010.16785573, 60248.42759614, 48898.56852709,\n",
       "       61995.27709506, 54566.50427755, 46879.87649148, 65210.12306773,\n",
       "       67530.55128482, 61163.743267  , 58822.744472  , 51708.92466731,\n",
       "       51071.48238253, 47539.02547058, 68743.08914978, 64447.70134891,\n",
       "       65095.5877742 , 47178.43577924, 59272.09019377, 70644.30446193,\n",
       "       65972.17943422, 60392.04185893, 58040.07079665, 50839.9036606 ,\n",
       "       64538.40358458, 98700.21357202, 64119.02320209, 46971.78898043,\n",
       "       64969.7849535 , 77114.98519833, 65451.94396518, 49857.66434497,\n",
       "       80465.88769211, 96218.55149824, 80648.98775909, 67437.01383745,\n",
       "       78960.64370846, 43266.2441829 , 47514.48268903, 56650.84528842,\n",
       "       69198.35709767, 61999.32809143, 66410.59230715, 59920.64696276,\n",
       "       64450.06776661, 61907.79661628, 68336.10231589, 77308.99578569])"
      ]
     },
     "execution_count": 34,
     "metadata": {},
     "output_type": "execute_result"
    }
   ],
   "source": [
    "import mne\n",
    "import numpy as np\n",
    "\n",
    "# define a baseline\n",
    "base_start = 0\n",
    "base_end = 125\n",
    "rest_start = 625\n",
    "rest_end = 750\n",
    "\n",
    "sr = 250\n",
    "target_frequencies = np.arange(8, 16, 0.2) # define as frequências alvo\n",
    "\n",
    "target_amplitudes = []\n",
    "\n",
    "base_powers = []\n",
    "rest_powers = []\n",
    "snrs = []\n",
    "max_spectral_values = []\n",
    "mean_spectral_values = []\n",
    "\n",
    "for channel_data in mne_data.get_data():\n",
    "    target_per_channel = []  # guarda as amplitudes para cada frequência alvo\n",
    "\n",
    "    base_power_channel = []   # guarda o base_power para cada trial\n",
    "    rest_power_channel = []  # guarda o rest_power para cada trial\n",
    "    max_spectral_values_channel = []  # guarda o max_spectral_value para cada trial\n",
    "    mean_spectral_values_channel = []  # guarda o mean_spectral_value para cada trial\n",
    "\n",
    "    for sign in channel_data:\n",
    "        fft_result = np.fft.fft(sign)  # FFT\n",
    "        psd = np.abs(fft_result) ** 2  # PSD    \n",
    "        frequencies = np.fft.fftfreq(len(fft_result), 1 / sr)  # frequencias\n",
    "\n",
    "        target_amplitudes_trial = []\n",
    "\n",
    "        for target_frequency in target_frequencies:\n",
    "            index = np.argmin(np.abs(frequencies - target_frequency))  # acha o índice da frequência alvo\n",
    "            amplitude = np.sqrt(psd[index])  # calcula a amplitude da frequência alvo\n",
    "            target_amplitudes_trial.append(amplitude)  # guarda a amplitude da frequência alvo\n",
    "\n",
    "        target_per_channel.append(target_amplitudes_trial)  # guarda as amplitudes para cada frequência alvo\n",
    "\n",
    "        base_power = np.mean(psd[base_start:base_end]) # calcula o base_power\n",
    "        rest_power = np.mean(psd[rest_start:rest_end]) # calcula o rest_power\n",
    "\n",
    "        base_power_channel.append(base_power) # guarda o base_power para cada trial\n",
    "        rest_power_channel.append(rest_power) \n",
    "\n",
    "        max_spectral_values_trial = np.max(psd) # calcula o max_spectral_value\n",
    "        mean_spectral_values_trial = np.mean(psd)\n",
    "\n",
    "        max_spectral_values_channel.append(max_spectral_values_trial) # guarda o max_spectral_value para cada trial\n",
    "        mean_spectral_values_channel.append(mean_spectral_values_trial)\n",
    "\n",
    "    snr = np.mean(base_power_channel) + np.mean(rest_power_channel) # calcula o snr\n",
    "\n",
    "    # Store base_power, rest_power, snr, max_spectral_value, and mean_spectral_value for the channel\n",
    "    base_powers.append(base_power_channel)\n",
    "    rest_powers.append(rest_power_channel)\n",
    "    snrs.append(snr)\n",
    "    max_spectral_values.append(max_spectral_values_channel)\n",
    "    mean_spectral_values.append(mean_spectral_values_channel)\n",
    "\n",
    "    target_amplitudes.append(target_per_channel)  # Store the amplitudes for each channel\n",
    "\n",
    "\n",
    "target_amplitudes = np.array(target_amplitudes)\n",
    "base_powers = np.array(base_powers)\n",
    "max_spectral_values = np.array(max_spectral_values)\n",
    "mean_spectral_values = np.array(mean_spectral_values)\n",
    "rest_powers = np.array(rest_powers)\n",
    "snrs = np.array(snrs)\n",
    "\n",
    "snrs"
   ]
  },
  {
   "cell_type": "markdown",
   "metadata": {},
   "source": [
    "Antes de calcular os SNRs, precisamos obter as amplitudes alvo por meio dos dados EEG:"
   ]
  },
  {
   "cell_type": "markdown",
   "metadata": {},
   "source": [
    "Vamos calcular o SNR de \"banda estreita\". Pode ser observado pela seguinte equação:\n",
    "\n",
    "$SNR_{banda\\ estreita} = 10 \\cdot \\log_{10}\\left(\\frac{\\text{energia total do espectro}}{\\text{média das amplitudes nas frequências vizinhas}}\\right)$\n",
    "\n",
    "Já o SNR de banda larga é definido da seguinte forma:\n",
    "\n",
    "$SNR_{banda\\ larga} = 10 \\cdot \\log_{10}\\left(\\frac{\\text{energia total do espectro}}{\\text{energia total do espectro de amplitude}}\\right)$"
   ]
  },
  {
   "cell_type": "code",
   "execution_count": 35,
   "metadata": {},
   "outputs": [
    {
     "name": "stdout",
     "output_type": "stream",
     "text": [
      "(160, 64, 40)\n",
      "(160, 64, 40)\n",
      "(2, 160, 64, 40)\n",
      "(160, 2, 64, 40)\n",
      "(160, 64, 2, 40)\n",
      "(160, 64, 80) (160, 64) (160, 64) (160, 64) (160, 64)\n"
     ]
    }
   ],
   "source": [
    "snr = np.min(snrs)\n",
    "target_amplitudes_adjusted = np.abs(target_amplitudes - snr) #ajuste da amplitude do sinal\n",
    " \n",
    "narrow_band_SNR = 10 * np.log10(target_amplitudes_adjusted / snr) # razao sinal ruido de banda estreita\n",
    "print(narrow_band_SNR.shape)\n",
    "\n",
    "total_power = np.sum(target_amplitudes_adjusted) # potencia total\n",
    "wide_band_SNR = 10 * np.log10(target_amplitudes_adjusted / total_power)\n",
    "print(wide_band_SNR.shape)\n",
    "\n",
    "\n",
    "\n",
    "data = np.array([narrow_band_SNR, wide_band_SNR]) # array com as duas razoes sinal ruido\n",
    "print(data.shape)\n",
    "data = data.swapaxes(0, 1) # troca de eixos\n",
    "print(data.shape)\n",
    "data = data.swapaxes(1, 2) # troca de eixos\n",
    "print(data.shape)\n",
    "data = data.reshape(data.shape[0], data.shape[1], data.shape[2] * data.shape[3]) # reshape\n",
    "\n",
    "print(data.shape,max_spectral_values.shape,mean_spectral_values.shape,rest_powers.shape,base_powers.shape)\n",
    "#salva os dados\n",
    "\n",
    "\n",
    "np.save(\"./datasets/beta/data1_filtered.npy\", data)"
   ]
  },
  {
   "cell_type": "markdown",
   "metadata": {},
   "source": [
    "Ao final desta etapa, será obtido um vetor de características. Estas podem ser:\n",
    "- `narrow SNR` (brigatória);\n",
    "- `wide-band SNR` (brigatória);\n",
    "- Maior valor espectral (FFT);\n",
    "- Média dos valores espectrais (FFT).\n",
    "\n",
    "Dimensionalidade dos dados será explicada da seguinte forma:\n",
    "\n",
    "`40, 4, 64, 750` -> 40 targets, 4 trials, 64 canais e 750 valores\n",
    "`160, 64 (SNR) + 64 (média) + 64 (maior) ...`\n",
    "Resultando em `160, 192`."
   ]
  },
  {
   "cell_type": "markdown",
   "metadata": {},
   "source": [
    "### Seleção de características e classificação\n",
    "\n",
    "Como existem diversos eletrodos (canais) que não obtém sinal SSVEP, podemos extrair as caracteríscas que não contribuem para a classificação dos dados.\n",
    "\n",
    "Podemos utilizar o método `RFE` (*Recursive Feature Elimination*) aplicado por meio de `sklearn.feature_selection.RFE`, aprimorando o parâmetro `n_features_to_select` até obter o melhor resultado de classificação.\n",
    "\n",
    "Para a classificação propriamente dita, é considerado o uso do método `SVM`."
   ]
  }
 ],
 "metadata": {
  "kernelspec": {
   "display_name": "venv",
   "language": "python",
   "name": "python3"
  },
  "language_info": {
   "codemirror_mode": {
    "name": "ipython",
    "version": 3
   },
   "file_extension": ".py",
   "mimetype": "text/x-python",
   "name": "python",
   "nbconvert_exporter": "python",
   "pygments_lexer": "ipython3",
   "version": "3.10.11"
  },
  "orig_nbformat": 4
 },
 "nbformat": 4,
 "nbformat_minor": 2
}
