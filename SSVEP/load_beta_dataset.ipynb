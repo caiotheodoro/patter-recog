{
 "cells": [
  {
   "cell_type": "code",
   "execution_count": 28,
   "metadata": {},
   "outputs": [
    {
     "ename": "KeyError",
     "evalue": "'fs'",
     "output_type": "error",
     "traceback": [
      "\u001b[0;31m---------------------------------------------------------------------------\u001b[0m",
      "\u001b[0;31mKeyError\u001b[0m                                  Traceback (most recent call last)",
      "\u001b[1;32m/home/moraski/faculdade/patter-recog/SSVEP/load_beta_dataset.ipynb Célula 1\u001b[0m line \u001b[0;36m2\n\u001b[1;32m     <a href='vscode-notebook-cell:/home/moraski/faculdade/patter-recog/SSVEP/load_beta_dataset.ipynb#W0sZmlsZQ%3D%3D?line=26'>27</a>\u001b[0m \u001b[39m# Extraia os dados EEG e as informações do arquivo .mat\u001b[39;00m\n\u001b[1;32m     <a href='vscode-notebook-cell:/home/moraski/faculdade/patter-recog/SSVEP/load_beta_dataset.ipynb#W0sZmlsZQ%3D%3D?line=27'>28</a>\u001b[0m eeg_data \u001b[39m=\u001b[39m data[\u001b[39m'\u001b[39m\u001b[39mdata\u001b[39m\u001b[39m'\u001b[39m]  \u001b[39m# Suponha que os dados estejam armazenados sob a chave 'EEG_data'\u001b[39;00m\n\u001b[0;32m---> <a href='vscode-notebook-cell:/home/moraski/faculdade/patter-recog/SSVEP/load_beta_dataset.ipynb#W0sZmlsZQ%3D%3D?line=28'>29</a>\u001b[0m fs \u001b[39m=\u001b[39m data[\u001b[39m'\u001b[39;49m\u001b[39mfs\u001b[39;49m\u001b[39m'\u001b[39;49m]  \u001b[39m# Frequência de amostragem\u001b[39;00m\n\u001b[1;32m     <a href='vscode-notebook-cell:/home/moraski/faculdade/patter-recog/SSVEP/load_beta_dataset.ipynb#W0sZmlsZQ%3D%3D?line=30'>31</a>\u001b[0m \u001b[39m# Crie um objeto MNE RawArray a partir dos dados\u001b[39;00m\n\u001b[1;32m     <a href='vscode-notebook-cell:/home/moraski/faculdade/patter-recog/SSVEP/load_beta_dataset.ipynb#W0sZmlsZQ%3D%3D?line=31'>32</a>\u001b[0m info \u001b[39m=\u001b[39m mne\u001b[39m.\u001b[39mcreate_info(ch_names\u001b[39m=\u001b[39m[\u001b[39m'\u001b[39m\u001b[39mE1\u001b[39m\u001b[39m'\u001b[39m, \u001b[39m'\u001b[39m\u001b[39mE2\u001b[39m\u001b[39m'\u001b[39m, \u001b[39m'\u001b[39m\u001b[39mE3\u001b[39m\u001b[39m'\u001b[39m, \u001b[39m.\u001b[39m\u001b[39m.\u001b[39m\u001b[39m.\u001b[39m], sfreq\u001b[39m=\u001b[39mfs)  \u001b[39m# Substitua os nomes dos canais conforme necessário\u001b[39;00m\n",
      "\u001b[0;31mKeyError\u001b[0m: 'fs'"
     ]
    }
   ],
   "source": [
    "# imports\n",
    "\n",
    "import scipy\n",
    "import mne\n",
    "import numpy as np\n",
    "\n",
    "\n",
    "# eletrodos_10_20 = [\n",
    "#     \"Fp1\", \"Fp2\", \"F7\", \"F3\", \"Fz\", \"F4\", \"F8\",\n",
    "#     \"T3\", \"C3\", \"Cz\", \"C4\", \"T4\",\n",
    "#     \"T5\", \"P3\", \"Pz\", \"P4\", \"T6\",\n",
    "#     \"O1\", \"Oz\", \"O2\",\n",
    "#     \"Fpz\", \"AF7\", \"AF3\", \"AF4\", \"AF8\",\n",
    "#     \"F5\", \"F1\", \"F2\", \"F6\",\n",
    "#     \"FC5\", \"FC1\", \"FC2\", \"FC6\",\n",
    "#     \"M1\", \"T7\", \"C5\", \"C1\", \"C2\", \"C6\", \"T8\", \"M2\",\n",
    "#     \"CP5\", \"CP1\", \"CP2\", \"CP6\",\n",
    "#     \"P7\", \"P5\", \"P1\", \"P2\", \"P6\", \"P8\", \"PO7\", \"PO3\", \"PO4\", \"PO8\",\n",
    "#     \"CB1\", \"O9\", \"O10\", \"FT9\", \"FT7\", \"FC3\", \"FCz\", \"FC4\", \"FT8\", \"FT10\",\n",
    "#     \"TP9\", \"TP10\", \"PO9\", \"PO10\"\n",
    "# ]\n",
    "\n",
    "\n",
    "# Carregue o arquivo .mat\n",
    "data = scipy.io.loadmat('datasets/S4.mat')\n",
    "\n",
    "# Extraia os dados EEG e as informações do arquivo .mat\n",
    "eeg_data = data['data']  # Suponha que os dados estejam armazenados sob a chave 'EEG_data'\n",
    "fs = data['fs']  # Frequência de amostragem\n",
    "\n",
    "# Crie um objeto MNE RawArray a partir dos dados\n",
    "info = mne.create_info(ch_names=['E1', 'E2', 'E3'] sfreq=fs)  # Substitua os nomes dos canais conforme necessário\n",
    "raw = mne.io.RawArray(eeg_data, info)\n",
    "\n",
    "# Passo 1: Aplicar filtro passa-banda de 6 a 18 Hz\n",
    "raw.filter(6, 18)\n",
    "\n",
    "# Passo 2: Selecionar apenas os melhores eletrodos (Px, POx, Ox)\n",
    "eletrodos_selecionados = [\"O1\", \"Oz\", \"O2\", \"P7\", \"P5\", \"P1\", \"P2\", \"P6\", \"P8\", \"PO7\", \"PO3\", \"PO4\", \"PO8\",]  # Substitua pelos seus eletrodos de interesse\n",
    "raw.pick_channels(ch_names=eletrodos_selecionados)\n",
    "\n",
    "# Passo 3: Mudar o número de informações (info) para 64\n",
    "raw.info['nchan'] = 64\n",
    "\n",
    "# Passo 4: Drop-channels nos eletrodos que não são bons\n",
    "eletrodos_indesejados = [ch for ch in raw.info['ch_names'] if ch not in eletrodos_selecionados]\n",
    "raw.drop_channels(ch_names=eletrodos_indesejados)\n",
    "\n",
    "# Passo 5: Calcular o PSD para toda a faixa e, em seguida, filtrar\n",
    "psd, freqs = mne.time_frequency.psd_multitaper(raw)\n",
    "\n",
    "# Passo 6: Transformar as frequências em um array numpy\n",
    "psd_array = np.array(psd)\n",
    "\n",
    "# Agora, 'psd_array' contém o Power Spectral Density (PSD) para os eletrodos selecionados e faixa de frequência desejada.\n"
   ]
  }
 ],
 "metadata": {
  "kernelspec": {
   "display_name": "Python 3",
   "language": "python",
   "name": "python3"
  },
  "language_info": {
   "codemirror_mode": {
    "name": "ipython",
    "version": 3
   },
   "file_extension": ".py",
   "mimetype": "text/x-python",
   "name": "python",
   "nbconvert_exporter": "python",
   "pygments_lexer": "ipython3",
   "version": "3.10.12"
  },
  "orig_nbformat": 4
 },
 "nbformat": 4,
 "nbformat_minor": 2
}
